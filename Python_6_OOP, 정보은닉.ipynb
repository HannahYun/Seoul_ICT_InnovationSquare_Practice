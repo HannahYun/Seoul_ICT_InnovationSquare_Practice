{
 "cells": [
  {
   "cell_type": "markdown",
   "id": "70608ba8",
   "metadata": {},
   "source": [
    "# 객체지향 프로그래밍(OOP) :\n",
    "- 관련 함수와 변수를 묶어 하나의 객체로 관리하는 프로그래밍 방법\n",
    "- 클래스(class) 를 먼저 만들고, \n",
    "객체(object, 혹은 인스턴스 instance)를 만든다\n",
    "- 하나의 클래스로 여러 개의 객체를 생성할 수 있다"
   ]
  },
  {
   "cell_type": "markdown",
   "id": "39309ab3",
   "metadata": {},
   "source": [
    "### instance 선언 : class 클래스이름"
   ]
  },
  {
   "cell_type": "code",
   "execution_count": 1,
   "id": "d997bcbb",
   "metadata": {},
   "outputs": [],
   "source": [
    "class Person:\n",
    "    pass"
   ]
  },
  {
   "cell_type": "code",
   "execution_count": 2,
   "id": "1bd41354",
   "metadata": {},
   "outputs": [
    {
     "name": "stdout",
     "output_type": "stream",
     "text": [
      "Variable   Type    Data/Info\n",
      "----------------------------\n",
      "Person     type    <class '__main__.Person'>\n"
     ]
    }
   ],
   "source": [
    "%whos"
   ]
  },
  {
   "cell_type": "code",
   "execution_count": null,
   "id": "92cb208c",
   "metadata": {},
   "outputs": [],
   "source": [
    "p = Person() #Person 타입의 객체 p 생성"
   ]
  },
  {
   "cell_type": "markdown",
   "id": "7fa94840",
   "metadata": {},
   "source": [
    "#### 메소드(Method)\n",
    "- 클래스 내에서 정의된 함수\n",
    "\n",
    "#### 객체 변수 ( 인스턴스 변수)\n",
    "개별 객체 / 인스턴스에 속해 있는 변수 (각 객체마다 독립적으로 존재)\n",
    "다른 인스턴스들이 접근할 수 없음\n",
    "\n",
    "#### __init__(self) \n",
    "-  ‘생성자’라고 불리우며 클래스에 대한 인스턴스 생성시에 실행됨\n",
    "- 객체 초기화\n"
   ]
  },
  {
   "cell_type": "code",
   "execution_count": 3,
   "id": "5ac903e0",
   "metadata": {},
   "outputs": [
    {
     "name": "stdout",
     "output_type": "stream",
     "text": [
      "나 길동 이야, 안녕!\n"
     ]
    }
   ],
   "source": [
    "class Person:\n",
    "    def say_hi(self): #self 매개변수 필수\n",
    "        self.name = '길동'\n",
    "        print('나', self.name, '이야, 안녕!')\n",
    "        \n",
    "p = Person()\n",
    "p.say_hi()"
   ]
  },
  {
   "cell_type": "code",
   "execution_count": 11,
   "id": "d9ed6ce1",
   "metadata": {},
   "outputs": [],
   "source": [
    "# Count 클래스\n",
    "# 기계식 계수기\n",
    "\n",
    "class Counter:\n",
    "    def reset(self):\n",
    "        self.count = 0\n",
    "        \n",
    "    def increment(self):\n",
    "        self.count += 1\n",
    "    \n",
    "    def get(self):\n",
    "        return self.count"
   ]
  },
  {
   "cell_type": "code",
   "execution_count": 16,
   "id": "905681ab",
   "metadata": {},
   "outputs": [
    {
     "name": "stdout",
     "output_type": "stream",
     "text": [
      "카운터 a의 값은 2\n"
     ]
    }
   ],
   "source": [
    "a = Counter()\n",
    "\n",
    "a.reset()\n",
    "a.increment()\n",
    "a.increment()\n",
    "print(\"카운터 a의 값은\", a.get())"
   ]
  },
  {
   "cell_type": "code",
   "execution_count": 17,
   "id": "128d7767",
   "metadata": {},
   "outputs": [
    {
     "name": "stdout",
     "output_type": "stream",
     "text": [
      "카운터 b의 값은 0\n"
     ]
    }
   ],
   "source": [
    "b = Counter()\n",
    "b.reset()\n",
    "print(\"카운터 b의 값은\", b.get())"
   ]
  },
  {
   "cell_type": "markdown",
   "id": "7ba5e571",
   "metadata": {},
   "source": [
    "### 생성자\n",
    "#### __init__(self)"
   ]
  },
  {
   "cell_type": "code",
   "execution_count": 20,
   "id": "45ea6ecf",
   "metadata": {},
   "outputs": [],
   "source": [
    "# Count 클래스\n",
    "# 기계식 계수기\n",
    "\n",
    "class Counter:\n",
    "    def __init__(self): #생성자\n",
    "        self.count = 0\n",
    "        \n",
    "    def reset(self):\n",
    "        self.count = 0\n",
    "        \n",
    "    def increment(self):\n",
    "        self.count += 1\n",
    "    \n",
    "    def get(self):\n",
    "        return self.count"
   ]
  },
  {
   "cell_type": "code",
   "execution_count": 21,
   "id": "f6879050",
   "metadata": {},
   "outputs": [
    {
     "name": "stdout",
     "output_type": "stream",
     "text": [
      "카운터 c의 값은 0\n"
     ]
    }
   ],
   "source": [
    "c = Counter()\n",
    "\n",
    "print(\"카운터 c의 값은\", c.get())"
   ]
  },
  {
   "cell_type": "code",
   "execution_count": 26,
   "id": "ec54899b",
   "metadata": {},
   "outputs": [
    {
     "name": "stdout",
     "output_type": "stream",
     "text": [
      "나 길동 이야, 안녕!\n"
     ]
    }
   ],
   "source": [
    "class Person:\n",
    "    def __init__(self, name = '임시'): #매개변수가 있는 생성자 #디폴트인자\n",
    "        self.name = name\n",
    "        \n",
    "    def say_hi(self):\n",
    "        print('나', self.name, '이야, 안녕!')\n",
    "        \n",
    "p = Person('길동')\n",
    "p.say_hi()"
   ]
  },
  {
   "cell_type": "markdown",
   "id": "c5a22933",
   "metadata": {},
   "source": [
    "#### 클래스 변수\n",
    "- 모든 객체(혹은 인스턴스)에 의해 공유되는 멤버 변수\n",
    "- 여러 개의 객체가 생성되어도 클래스 변수는 한 개만 존재\n",
    "- 클래스이름.클래스변수"
   ]
  },
  {
   "cell_type": "code",
   "execution_count": 31,
   "id": "3e12cb28",
   "metadata": {},
   "outputs": [],
   "source": [
    "class Robot:\n",
    "    '''로봇 클래스'''\n",
    "    population = 0 #클래스 변수의 선언\n",
    "    \n",
    "    def __init__(self):\n",
    "        '''먼저 시작되는 메소드'''\n",
    "        Robot.population += 1   \n",
    "        self.serial_no = Robot.population\n",
    "        print('로봇 #'+str(self.serial_no)+' 생성되었습니다.')\n",
    "        \n",
    "    def say_hi(self):\n",
    "        '''인사'''\n",
    "        print('Robot #', self.serial_no,': 반갑습니다.')\n"
   ]
  },
  {
   "cell_type": "code",
   "execution_count": 32,
   "id": "fb0704b4",
   "metadata": {},
   "outputs": [
    {
     "name": "stdout",
     "output_type": "stream",
     "text": [
      "로봇 #1 생성되었습니다.\n",
      "로봇 #2 생성되었습니다.\n",
      "로봇 #3 생성되었습니다.\n",
      "Robot # 1 : 반갑습니다.\n",
      "Robot # 2 : 반갑습니다.\n",
      "Robot # 3 : 반갑습니다.\n"
     ]
    },
    {
     "data": {
      "text/plain": [
       "3"
      ]
     },
     "execution_count": 32,
     "metadata": {},
     "output_type": "execute_result"
    }
   ],
   "source": [
    "a = Robot()\n",
    "b = Robot()\n",
    "c = Robot()\n",
    "a.say_hi()\n",
    "b.say_hi()\n",
    "c.say_hi()\n",
    "Robot.population"
   ]
  },
  {
   "cell_type": "code",
   "execution_count": 33,
   "id": "dd08c36a",
   "metadata": {},
   "outputs": [
    {
     "name": "stdout",
     "output_type": "stream",
     "text": [
      "Variable   Type      Data/Info\n",
      "------------------------------\n",
      "Counter    type      <class '__main__.Counter'>\n",
      "Person     type      <class '__main__.Person'>\n",
      "Robot      type      <class '__main__.Robot'>\n",
      "a          Robot     <__main__.Robot object at 0x0000020F5723E9A0>\n",
      "b          Robot     <__main__.Robot object at 0x0000020F5723E3D0>\n",
      "c          Robot     <__main__.Robot object at 0x0000020F5723E490>\n",
      "p          Person    <__main__.Person object at 0x0000020F572C61F0>\n"
     ]
    }
   ],
   "source": [
    "%whos"
   ]
  },
  {
   "cell_type": "code",
   "execution_count": null,
   "id": "97d00d76",
   "metadata": {},
   "outputs": [],
   "source": [
    "# 활용 문장\n",
    "print('로봇 #'+str(serial_no)+' 생성되었습니다.')\n",
    "print('로봇 #'+str(serial_no)+' 파괴되었습니다.')\n",
    "print('Robot #', serial_no,': 반갑습니다.')\n",
    "print(population, '개의 로봇이 있습니다.')\n",
    "print('... 마지막 로봇입니다.')\n",
    "print('( Serial No: ', serial_no,')' )\n",
    "print(name, \"통장에서 \", amount, \"원 출금되었음\")\n",
    "print(name, \"통장에 \", amount, \"원 입금되었음\")\n",
    "print('통장주:', name)\n",
    "print('잔액:', balance)"
   ]
  },
  {
   "cell_type": "markdown",
   "id": "3fabcb53",
   "metadata": {},
   "source": [
    "#### 클래스 함수\n",
    "- 모든 객체(혹은 인스턴스)에 의해 공유되는 멤버 함수\n"
   ]
  },
  {
   "cell_type": "code",
   "execution_count": 1,
   "id": "d845a306",
   "metadata": {},
   "outputs": [],
   "source": [
    "class Robot:\n",
    "    '''로봇 클래스'''\n",
    "    population = 0 #클래스 변수의 선언\n",
    "    \n",
    "    def __init__(self):\n",
    "        '''먼저 시작되는 메소드'''\n",
    "        Robot.population += 1   \n",
    "        self.serial_no = Robot.population\n",
    "        print('로봇 #'+str(self.serial_no)+' 생성되었습니다.')\n",
    "        \n",
    "    def say_hi(self):\n",
    "        '''인사'''\n",
    "        print('Robot #', self.serial_no,': 반갑습니다.')\n",
    "        \n",
    "    @classmethod\n",
    "    def how_many(cls): #클래스 함수\n",
    "        print(cls.population, '개의 로봇이 있습니다.')"
   ]
  },
  {
   "cell_type": "code",
   "execution_count": 2,
   "id": "776deed0",
   "metadata": {},
   "outputs": [
    {
     "name": "stdout",
     "output_type": "stream",
     "text": [
      "0 개의 로봇이 있습니다.\n"
     ]
    }
   ],
   "source": [
    "Robot.how_many()"
   ]
  },
  {
   "cell_type": "code",
   "execution_count": 3,
   "id": "883dc05f",
   "metadata": {},
   "outputs": [
    {
     "name": "stdout",
     "output_type": "stream",
     "text": [
      "로봇 #1 생성되었습니다.\n",
      "Robot # 1 : 반갑습니다.\n",
      "1 개의 로봇이 있습니다.\n",
      "로봇 #2 생성되었습니다.\n",
      "Robot # 2 : 반갑습니다.\n",
      "2 개의 로봇이 있습니다.\n",
      "로봇 #3 생성되었습니다.\n",
      "Robot # 3 : 반갑습니다.\n"
     ]
    }
   ],
   "source": [
    "r1 = Robot()\n",
    "r1.say_hi()\n",
    "Robot.how_many()\n",
    "\n",
    "r2 = Robot()\n",
    "r2.say_hi()\n",
    "Robot.how_many()\n",
    "\n",
    "Robot().say_hi()"
   ]
  },
  {
   "cell_type": "markdown",
   "id": "bc627fed",
   "metadata": {},
   "source": [
    "### 소멸자\n",
    "- __del__ 을 이름으로 가지며 instance 삭제 시 실행됨\n",
    "- 문법\n",
    "#### def __del__(self):"
   ]
  },
  {
   "cell_type": "code",
   "execution_count": 7,
   "id": "34c595d0",
   "metadata": {},
   "outputs": [],
   "source": [
    "class Robot:\n",
    "    '''로봇 클래스'''\n",
    "    population = 0 #클래스 변수의 선언\n",
    "    \n",
    "    def __init__(self):\n",
    "        '''먼저 시작되는 메소드'''\n",
    "        Robot.population += 1   \n",
    "        self.serial_no = Robot.population\n",
    "        print('로봇 #'+str(self.serial_no)+' 생성되었습니다.')\n",
    "            \n",
    "    def __del__(self):\n",
    "        '''로봇 파괴'''\n",
    "        print('로봇 #'+str(self.serial_no)+' 파괴되었습니다.')\n",
    "        Robot.population -= 1\n",
    "        if Robot.population == 0:\n",
    "            print('... 마지막 로봇입니다.')\n",
    "            \n",
    "    def say_hi(self):\n",
    "        '''인사'''\n",
    "        print('Robot #', self.serial_no,': 반갑습니다.')\n",
    "        \n",
    "    @classmethod\n",
    "    def how_many(cls): #클래스 함수\n",
    "        print(cls.population, '개의 로봇이 있습니다.')"
   ]
  },
  {
   "cell_type": "code",
   "execution_count": 8,
   "id": "3d96c815",
   "metadata": {},
   "outputs": [
    {
     "name": "stdout",
     "output_type": "stream",
     "text": [
      "로봇 #1 생성되었습니다.\n",
      "로봇 #2 생성되었습니다.\n",
      "2 개의 로봇이 있습니다.\n"
     ]
    }
   ],
   "source": [
    "r1 = Robot()\n",
    "r2 = Robot()\n",
    "Robot.how_many()"
   ]
  },
  {
   "cell_type": "code",
   "execution_count": 9,
   "id": "bf6818f4",
   "metadata": {},
   "outputs": [
    {
     "name": "stdout",
     "output_type": "stream",
     "text": [
      "로봇 #1 파괴되었습니다.\n",
      "로봇 #2 파괴되었습니다.\n",
      "... 마지막 로봇입니다.\n"
     ]
    }
   ],
   "source": [
    "del r1\n",
    "del r2"
   ]
  },
  {
   "cell_type": "code",
   "execution_count": 10,
   "id": "aff30c63",
   "metadata": {},
   "outputs": [
    {
     "name": "stdout",
     "output_type": "stream",
     "text": [
      "0 개의 로봇이 있습니다.\n"
     ]
    }
   ],
   "source": [
    "Robot.how_many()"
   ]
  },
  {
   "cell_type": "markdown",
   "id": "5e269ffb",
   "metadata": {},
   "source": [
    "## 정보 은닉\n",
    "- 구현의 세부 사항을 클래스 안에 감추는 것\n",
    "\n",
    "#### private 변수\n",
    "- 외부 접근 방지하고 싶은 경우 변수 이름을 __로 시작\n",
    "- 클래스 내부에서만 접근 될 수 있다."
   ]
  },
  {
   "cell_type": "code",
   "execution_count": 12,
   "id": "d185d87f",
   "metadata": {},
   "outputs": [
    {
     "name": "stdout",
     "output_type": "stream",
     "text": [
      "로봇 #2 생성되었습니다.\n",
      "로봇 #1 파괴되었습니다.\n"
     ]
    },
    {
     "data": {
      "text/plain": [
       "2"
      ]
     },
     "execution_count": 12,
     "metadata": {},
     "output_type": "execute_result"
    }
   ],
   "source": [
    "r1 = Robot()\n",
    "r1.serial_no"
   ]
  },
  {
   "cell_type": "code",
   "execution_count": 16,
   "id": "d092bbcf",
   "metadata": {},
   "outputs": [
    {
     "name": "stdout",
     "output_type": "stream",
     "text": [
      "Robot # 3 : 반갑습니다.\n",
      "1 개의 로봇이 있습니다.\n"
     ]
    }
   ],
   "source": [
    "r1.serial_no = 3\n",
    "r1.serial_no\n",
    "r1.say_hi()\n",
    "r1.how_many()"
   ]
  },
  {
   "cell_type": "code",
   "execution_count": 17,
   "id": "e664bd47",
   "metadata": {},
   "outputs": [
    {
     "name": "stdout",
     "output_type": "stream",
     "text": [
      "로봇 #3 파괴되었습니다.\n",
      "... 마지막 로봇입니다.\n"
     ]
    }
   ],
   "source": [
    "del r1"
   ]
  },
  {
   "cell_type": "code",
   "execution_count": 38,
   "id": "73b5bfd3",
   "metadata": {},
   "outputs": [],
   "source": [
    "class Robot:\n",
    "    '''로봇 클래스'''\n",
    "    population = 0 #클래스 변수의 선언\n",
    "    \n",
    "    def __init__(self, name = '드로이드'):\n",
    "        '''먼저 시작되는 메소드'''\n",
    "        Robot.population += 1   \n",
    "        self.__serial_no = Robot.population          #private 변수 : __로 시작\n",
    "        self.name = name\n",
    "        print('로봇 '+ self.name +' 생성되었습니다.')\n",
    "        print('( Serial No: ', self.__serial_no,')' )\n",
    "            \n",
    "    def __del__(self):\n",
    "        '''로봇 파괴'''\n",
    "        print('로봇 '+ self.name +' 파괴되었습니다.')\n",
    "        print('( Serial No: ', self.__serial_no,')' )\n",
    "        Robot.population -= 1\n",
    "        if Robot.population == 0:\n",
    "            print('... 마지막 로봇입니다.')\n",
    "            \n",
    "    def say_hi(self):\n",
    "        '''인사'''\n",
    "        print('Robot ', self.name,': 반갑습니다.')\n",
    "        \n",
    "    @classmethod\n",
    "    def how_many(cls): #클래스 함수\n",
    "        print(cls.population, '개의 로봇이 있습니다.')"
   ]
  },
  {
   "cell_type": "code",
   "execution_count": 39,
   "id": "b48c9140",
   "metadata": {},
   "outputs": [
    {
     "name": "stdout",
     "output_type": "stream",
     "text": [
      "로봇 길동 생성되었습니다.\n",
      "( Serial No:  1 )\n"
     ]
    },
    {
     "data": {
      "text/plain": [
       "'길동'"
      ]
     },
     "execution_count": 39,
     "metadata": {},
     "output_type": "execute_result"
    }
   ],
   "source": [
    "r1 = Robot('길동')\n",
    "r1.name"
   ]
  },
  {
   "cell_type": "code",
   "execution_count": 40,
   "id": "492198e2",
   "metadata": {},
   "outputs": [
    {
     "name": "stdout",
     "output_type": "stream",
     "text": [
      "로봇 길동 파괴되었습니다.\n",
      "( Serial No:  1 )\n",
      "... 마지막 로봇입니다.\n"
     ]
    }
   ],
   "source": [
    "del r1"
   ]
  },
  {
   "cell_type": "code",
   "execution_count": 41,
   "id": "b6c5e3d3",
   "metadata": {},
   "outputs": [
    {
     "data": {
      "text/plain": [
       "0"
      ]
     },
     "execution_count": 41,
     "metadata": {},
     "output_type": "execute_result"
    }
   ],
   "source": [
    "Robot.population"
   ]
  },
  {
   "cell_type": "markdown",
   "id": "b0d14772",
   "metadata": {},
   "source": [
    "### 접근자와 설정자\n",
    "\n",
    "#### 접근자(getter): private 변수의 값을 반환하는 함수\n",
    "- method 정의 전에 “@property” 표기\n",
    "\n",
    "#### 설정자(setter): private 변수를 수정하는 함수\n",
    "- method 정의 전에 “@변수명.setter” 표기\n",
    "- 변수명과 접근자/설정자 method명은 동일하게 짓는 것 권장\n",
    "\n",
    "#### 접근자와 설정자의 순서는 고정"
   ]
  },
  {
   "cell_type": "code",
   "execution_count": 45,
   "id": "1b2d5232",
   "metadata": {},
   "outputs": [],
   "source": [
    "class Robot:\n",
    "    '''로봇 클래스'''\n",
    "    population = 0 #클래스 변수의 선언\n",
    "    \n",
    "    def __init__(self, name = '드로이드'):\n",
    "        '''먼저 시작되는 메소드'''\n",
    "        Robot.population += 1   \n",
    "        self.__serial_no = Robot.population          #private 변수 : __로 시작\n",
    "        self.name = name\n",
    "        print('로봇 '+ self.name +' 생성되었습니다.')\n",
    "        print('( Serial No: ', self.__serial_no,')' )\n",
    "        \n",
    "    @property\n",
    "    def serial_no(self):  #접근자\n",
    "        return self.__serial_no\n",
    "    \n",
    "    @serial_no.setter     #설정자\n",
    "    def serial_no(self, num):\n",
    "        self.__serial_no = num\n",
    "            \n",
    "    def __del__(self):\n",
    "        '''로봇 파괴'''\n",
    "        print('로봇 '+ self.name +' 파괴되었습니다.')\n",
    "        print('( Serial No: ', self.__serial_no,')' )\n",
    "        Robot.population -= 1\n",
    "        if Robot.population == 0:\n",
    "            print('... 마지막 로봇입니다.')\n",
    "            \n",
    "    def say_hi(self):\n",
    "        '''인사'''\n",
    "        print('Robot ', self.name,': 반갑습니다.')\n",
    "        \n",
    "    @classmethod\n",
    "    def how_many(cls): #클래스 함수\n",
    "        print(cls.population, '개의 로봇이 있습니다.')"
   ]
  },
  {
   "cell_type": "code",
   "execution_count": 46,
   "id": "0801fabf",
   "metadata": {},
   "outputs": [
    {
     "name": "stdout",
     "output_type": "stream",
     "text": [
      "로봇 길동 생성되었습니다.\n",
      "( Serial No:  1 )\n",
      "로봇 길동 파괴되었습니다.\n",
      "( Serial No:  2 )\n",
      "... 마지막 로봇입니다.\n"
     ]
    },
    {
     "data": {
      "text/plain": [
       "1"
      ]
     },
     "execution_count": 46,
     "metadata": {},
     "output_type": "execute_result"
    }
   ],
   "source": [
    "r1 = Robot('길동')\n",
    "r1.serial_no"
   ]
  },
  {
   "cell_type": "code",
   "execution_count": 47,
   "id": "9a4c14a8",
   "metadata": {},
   "outputs": [],
   "source": [
    "r1.serial_no = -1"
   ]
  },
  {
   "cell_type": "code",
   "execution_count": 48,
   "id": "e984bc84",
   "metadata": {},
   "outputs": [
    {
     "name": "stdout",
     "output_type": "stream",
     "text": [
      "로봇 길동 파괴되었습니다.\n",
      "( Serial No:  -1 )\n"
     ]
    }
   ],
   "source": [
    "del r1"
   ]
  },
  {
   "cell_type": "code",
   "execution_count": null,
   "id": "bf472442",
   "metadata": {},
   "outputs": [],
   "source": []
  },
  {
   "cell_type": "code",
   "execution_count": null,
   "id": "b0b7c3ff",
   "metadata": {},
   "outputs": [],
   "source": []
  },
  {
   "cell_type": "code",
   "execution_count": 49,
   "id": "6590de52",
   "metadata": {},
   "outputs": [],
   "source": [
    "#은행 계좌\n",
    "class BankAccount:\n",
    "    def __init__(self, name):\n",
    "        self.__balance = 0\n",
    "        self.name = name\n",
    "\n",
    "    def withdraw(self, amount): #출금\n",
    "        self.__balance -= amount\n",
    "        print(self.name, \"통장에서 \", amount, \"원 출금되었음\")\n",
    "        return self.__balance\n",
    "\n",
    "    def deposit(self, amount): #입금\n",
    "        self.__balance += amount\n",
    "        print(self.name, \"통장에 \", amount, \"원 입금되었음\")\n",
    "        return self.__balance\n",
    "\n",
    "    def printName(self):\n",
    "        print('통장주:', self.name)"
   ]
  },
  {
   "cell_type": "code",
   "execution_count": 52,
   "id": "4b45857d",
   "metadata": {},
   "outputs": [],
   "source": [
    "# 통장주의 이름에 '_보이스피싱범죄'를 추가하여 수정한다.\n",
    "def renameAccount(acc, app_name):\n",
    "    acc.name = acc.name + app_name"
   ]
  },
  {
   "cell_type": "code",
   "execution_count": 51,
   "id": "db78ea5e",
   "metadata": {},
   "outputs": [
    {
     "name": "stdout",
     "output_type": "stream",
     "text": [
      "소영 통장에  10000 원 입금되었음\n",
      "소영 통장에서  5000 원 출금되었음\n"
     ]
    },
    {
     "data": {
      "text/plain": [
       "5000"
      ]
     },
     "execution_count": 51,
     "metadata": {},
     "output_type": "execute_result"
    }
   ],
   "source": [
    "a = BankAccount(\"소영\")\n",
    "a.deposit(10000)\n",
    "a.withdraw(5000)"
   ]
  },
  {
   "cell_type": "code",
   "execution_count": 53,
   "id": "ed10b5fc",
   "metadata": {},
   "outputs": [
    {
     "name": "stdout",
     "output_type": "stream",
     "text": [
      "통장주: 철이_보이스피싱범죄용\n"
     ]
    }
   ],
   "source": [
    "b = BankAccount(\"철이\")\n",
    "renameAccount(b, '_보이스피싱범죄용')\n",
    "b.printName()"
   ]
  },
  {
   "cell_type": "markdown",
   "id": "02d302a7",
   "metadata": {},
   "source": [
    "### majic 메소드\n",
    "- 연산자(+, -, *, /)에 관련된 매직 메소드"
   ]
  },
  {
   "cell_type": "code",
   "execution_count": 58,
   "id": "4eadf473",
   "metadata": {},
   "outputs": [],
   "source": [
    "#은행 계좌\n",
    "class BankAccount:\n",
    "    def __init__(self, name):\n",
    "        self.__balance = 0\n",
    "        self.name = name\n",
    "        \n",
    "    def __call__(self):\n",
    "        print(\"통장주:\", self.name)\n",
    "        print(\"잔액:\", self.__balance)\n",
    "        \n",
    "    def __eq__(self, other): #통장주 같은지\n",
    "        return self.name == other.name\n",
    "\n",
    "    def withdraw(self, amount): #출금\n",
    "        self.__balance -= amount\n",
    "        print(self.name, \"통장에서 \", amount, \"원 출금되었음\")\n",
    "        return self.__balance\n",
    "\n",
    "    def deposit(self, amount): #입금\n",
    "        self.__balance += amount\n",
    "        print(self.name, \"통장에 \", amount, \"원 입금되었음\")\n",
    "        return self.__balance\n",
    "\n",
    "    def printName(self):\n",
    "        print('통장주:', self.name)"
   ]
  },
  {
   "cell_type": "code",
   "execution_count": 59,
   "id": "bbd36392",
   "metadata": {},
   "outputs": [],
   "source": [
    "a = BankAccount('소영')\n",
    "b = BankAccount('소영')"
   ]
  },
  {
   "cell_type": "code",
   "execution_count": 60,
   "id": "5d6f6c37",
   "metadata": {},
   "outputs": [
    {
     "name": "stdout",
     "output_type": "stream",
     "text": [
      "통장 소유주가 같습니다.\n"
     ]
    }
   ],
   "source": [
    "if a == b:\n",
    "    print('통장 소유주가 같습니다.')\n",
    "else:\n",
    "    print('통장 소유주가 같지 않습니다.')"
   ]
  },
  {
   "cell_type": "code",
   "execution_count": 61,
   "id": "e7d4a0bf",
   "metadata": {},
   "outputs": [
    {
     "name": "stdout",
     "output_type": "stream",
     "text": [
      "통장주: 소영\n",
      "잔액: 0\n"
     ]
    }
   ],
   "source": [
    "a() #call"
   ]
  }
 ],
 "metadata": {
  "kernelspec": {
   "display_name": "Python 3 (ipykernel)",
   "language": "python",
   "name": "python3"
  },
  "language_info": {
   "codemirror_mode": {
    "name": "ipython",
    "version": 3
   },
   "file_extension": ".py",
   "mimetype": "text/x-python",
   "name": "python",
   "nbconvert_exporter": "python",
   "pygments_lexer": "ipython3",
   "version": "3.9.12"
  }
 },
 "nbformat": 4,
 "nbformat_minor": 5
}
