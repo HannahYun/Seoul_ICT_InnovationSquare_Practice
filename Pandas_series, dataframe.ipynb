{
 "cells": [
  {
   "cell_type": "markdown",
   "id": "b5b58a04",
   "metadata": {},
   "source": [
    "# Pandas\n",
    "- Pandas는 NumPy의 고성능 배열 계산 기능과 스프레드시트, SQL과 같은 관계형 데이터베이스의 데이터 조작 기능을 조합한 것. \n",
    "- Series : 1차원, list와 dictionary의 장점을 섞어 놓은 듯한 자료구조\n",
    "- DataFrame : 2차원, 행과 열로 이루어진 2차원 테이블 형태의 자료구조\n"
   ]
  },
  {
   "cell_type": "code",
   "execution_count": 2,
   "id": "5e08f06b",
   "metadata": {},
   "outputs": [],
   "source": [
    "import pandas as pd"
   ]
  },
  {
   "cell_type": "markdown",
   "id": "eb138ffa",
   "metadata": {},
   "source": [
    "## Series: 1차원 배열 + index\n",
    "#### index : values를 선택할 때 주소 역할을 하는 배열(값이 모두 달라야 함)\n",
    "#### values : 데이터 부분에 해당하는 배열\n",
    "\n",
    "- 생성 방법 1: s = Series(list/array)\n",
    "- 생성 방법 2: s = Series(dictionary)\n",
    "- 생성 방법 3: s = Series(list/array, index = list/array)"
   ]
  },
  {
   "cell_type": "code",
   "execution_count": 3,
   "id": "9f2e6967",
   "metadata": {},
   "outputs": [],
   "source": [
    "score = [84, 21, 87, 100, 59, 46]"
   ]
  },
  {
   "cell_type": "code",
   "execution_count": 5,
   "id": "complete-davis",
   "metadata": {},
   "outputs": [
    {
     "data": {
      "text/plain": [
       "0     84\n",
       "1     21\n",
       "2     87\n",
       "3    100\n",
       "4     59\n",
       "5     46\n",
       "dtype: int64"
      ]
     },
     "execution_count": 5,
     "metadata": {},
     "output_type": "execute_result"
    }
   ],
   "source": [
    "s = pd.Series(score) #dtype = values의 데이터 타입\n",
    "s"
   ]
  },
  {
   "cell_type": "code",
   "execution_count": 7,
   "id": "d082d661",
   "metadata": {},
   "outputs": [
    {
     "name": "stdout",
     "output_type": "stream",
     "text": [
      "Variable   Type      Data/Info\n",
      "------------------------------\n",
      "pd         module    <module 'pandas' from 'C:<...>es\\\\pandas\\\\__init__.py'>\n",
      "s          Series    0     84\\n1     21\\n2    <...>9\\n5     46\\ndtype: int64\n",
      "score      list      n=6\n"
     ]
    }
   ],
   "source": [
    "%whos"
   ]
  },
  {
   "cell_type": "code",
   "execution_count": 9,
   "id": "a6adce66",
   "metadata": {},
   "outputs": [
    {
     "data": {
      "text/plain": [
       "pandas.core.series.Series"
      ]
     },
     "execution_count": 9,
     "metadata": {},
     "output_type": "execute_result"
    }
   ],
   "source": [
    "type(s) #Series type"
   ]
  },
  {
   "cell_type": "markdown",
   "id": "bbb37e8d",
   "metadata": {},
   "source": [
    "### 딕셔너리\n",
    "- 생성방법 : s = Series(dictionary)\n",
    "#### index + values 입력\n",
    "- s = Series(list/array, index = list/array)"
   ]
  },
  {
   "cell_type": "code",
   "execution_count": 11,
   "id": "martial-berkeley",
   "metadata": {},
   "outputs": [],
   "source": [
    "dic = {'철수':84, '영이':21, '길동':87, '미영':100, '순이':59, '철이':46 }"
   ]
  },
  {
   "cell_type": "code",
   "execution_count": 12,
   "id": "f747607d",
   "metadata": {},
   "outputs": [
    {
     "data": {
      "text/plain": [
       "철수     84\n",
       "영이     21\n",
       "길동     87\n",
       "미영    100\n",
       "순이     59\n",
       "철이     46\n",
       "dtype: int64"
      ]
     },
     "execution_count": 12,
     "metadata": {},
     "output_type": "execute_result"
    }
   ],
   "source": [
    "s = pd.Series(dic)\n",
    "s"
   ]
  },
  {
   "cell_type": "code",
   "execution_count": 13,
   "id": "junior-defeat",
   "metadata": {},
   "outputs": [],
   "source": [
    "names = ['철수', '영이', '길동', '미영', '순이', '철이']"
   ]
  },
  {
   "cell_type": "code",
   "execution_count": 15,
   "id": "6312baf6",
   "metadata": {},
   "outputs": [
    {
     "data": {
      "text/plain": [
       "철수     84\n",
       "영이     21\n",
       "길동     87\n",
       "미영    100\n",
       "순이     59\n",
       "철이     46\n",
       "dtype: int64"
      ]
     },
     "execution_count": 15,
     "metadata": {},
     "output_type": "execute_result"
    }
   ],
   "source": [
    "score = [84, 21, 87, 100, 59, 46]\n",
    "s = pd.Series(score, index = names)\n",
    "s"
   ]
  },
  {
   "cell_type": "code",
   "execution_count": 18,
   "id": "243d4e64",
   "metadata": {},
   "outputs": [
    {
     "data": {
      "text/plain": [
       "Index(['철수', '영이', '길동', '미영', '순이', '철이'], dtype='object')"
      ]
     },
     "execution_count": 18,
     "metadata": {},
     "output_type": "execute_result"
    }
   ],
   "source": [
    "s.index #object type"
   ]
  },
  {
   "cell_type": "code",
   "execution_count": 19,
   "id": "1c855303",
   "metadata": {},
   "outputs": [
    {
     "data": {
      "text/plain": [
       "array([ 84,  21,  87, 100,  59,  46], dtype=int64)"
      ]
     },
     "execution_count": 19,
     "metadata": {},
     "output_type": "execute_result"
    }
   ],
   "source": [
    "s.values"
   ]
  },
  {
   "cell_type": "markdown",
   "id": "51bde711",
   "metadata": {},
   "source": [
    "### Series 산술 연산\n",
    "- NumPy 의 Array간 덧셈: score1 + score2 → 같은 위치의 원소끼리 더함\n",
    "- Pandas의 Series간 덧셈: s0 + s1 → 순서와 상관없이 같은 index명을 갖는 값끼리 더함"
   ]
  },
  {
   "cell_type": "code",
   "execution_count": 20,
   "id": "dd2ff11b",
   "metadata": {},
   "outputs": [],
   "source": [
    "import numpy as np"
   ]
  },
  {
   "cell_type": "code",
   "execution_count": 21,
   "id": "ca06762a",
   "metadata": {},
   "outputs": [],
   "source": [
    "names1 = np.array(['철수', '영이', '길동', '미영', '순이', '철이'])\n",
    "score1 = np.array([84, 21, 87, 100, 59, 46])\n",
    "names2 = np.array(['길동', '철수', '영이', '철이', '순이', '미영'])\n",
    "score2 = np.array([99, 97, 87, 84, 77, 15])"
   ]
  },
  {
   "cell_type": "code",
   "execution_count": 24,
   "id": "883310be",
   "metadata": {},
   "outputs": [],
   "source": [
    "s1 = pd.Series(score1, index = names1)\n",
    "s2 = pd.Series(score2, index = names2)"
   ]
  },
  {
   "cell_type": "code",
   "execution_count": 26,
   "id": "1a3cd30b",
   "metadata": {},
   "outputs": [
    {
     "data": {
      "text/plain": [
       "철수     84\n",
       "영이     21\n",
       "길동     87\n",
       "미영    100\n",
       "순이     59\n",
       "철이     46\n",
       "dtype: int32"
      ]
     },
     "execution_count": 26,
     "metadata": {},
     "output_type": "execute_result"
    }
   ],
   "source": [
    "s1"
   ]
  },
  {
   "cell_type": "code",
   "execution_count": 28,
   "id": "13402db1",
   "metadata": {},
   "outputs": [
    {
     "data": {
      "text/plain": [
       "길동    99\n",
       "철수    97\n",
       "영이    87\n",
       "철이    84\n",
       "순이    77\n",
       "미영    15\n",
       "dtype: int32"
      ]
     },
     "execution_count": 28,
     "metadata": {},
     "output_type": "execute_result"
    }
   ],
   "source": [
    "s2"
   ]
  },
  {
   "cell_type": "code",
   "execution_count": 30,
   "id": "d2f50054",
   "metadata": {},
   "outputs": [
    {
     "data": {
      "text/plain": [
       "철수     94\n",
       "영이     31\n",
       "길동     97\n",
       "미영    110\n",
       "순이     69\n",
       "철이     56\n",
       "dtype: int32"
      ]
     },
     "execution_count": 30,
     "metadata": {},
     "output_type": "execute_result"
    }
   ],
   "source": [
    "s1 + 10 #broadcasting"
   ]
  },
  {
   "cell_type": "code",
   "execution_count": 32,
   "id": "2bed7f3f",
   "metadata": {},
   "outputs": [
    {
     "data": {
      "text/plain": [
       "길동    186\n",
       "미영    115\n",
       "순이    136\n",
       "영이    108\n",
       "철수    181\n",
       "철이    130\n",
       "dtype: int32"
      ]
     },
     "execution_count": 32,
     "metadata": {},
     "output_type": "execute_result"
    }
   ],
   "source": [
    "s1 + s2 #순서와 상관없이 같은 index끼리 더함"
   ]
  },
  {
   "cell_type": "code",
   "execution_count": 33,
   "id": "539b0707",
   "metadata": {},
   "outputs": [
    {
     "data": {
      "text/plain": [
       "철수     9.165151\n",
       "영이     4.582576\n",
       "길동     9.327379\n",
       "미영    10.000000\n",
       "순이     7.681146\n",
       "철이     6.782330\n",
       "dtype: float64"
      ]
     },
     "execution_count": 33,
     "metadata": {},
     "output_type": "execute_result"
    }
   ],
   "source": [
    "np.sqrt(s1)"
   ]
  },
  {
   "cell_type": "code",
   "execution_count": 35,
   "id": "ea8cc7a0",
   "metadata": {},
   "outputs": [
    {
     "data": {
      "text/plain": [
       "길동     True\n",
       "철수     True\n",
       "영이     True\n",
       "철이     True\n",
       "순이     True\n",
       "미영    False\n",
       "dtype: bool"
      ]
     },
     "execution_count": 35,
     "metadata": {},
     "output_type": "execute_result"
    }
   ],
   "source": [
    "s2 > np.mean(s2) #평균 이상인 사람들"
   ]
  },
  {
   "cell_type": "code",
   "execution_count": 38,
   "id": "6120c4fb",
   "metadata": {},
   "outputs": [],
   "source": [
    "#s1 > s2      #index가 다른 경우, 비교 불가"
   ]
  },
  {
   "cell_type": "code",
   "execution_count": null,
   "id": "strange-baseline",
   "metadata": {},
   "outputs": [],
   "source": [
    "# 활용\n",
    "dic = {'철수':84, '영이':21, '길동':87, '미영':100, '순이':59, '철이':46 }\n",
    "names1 = np.array(['철수', '영이', '길동', '미영', '순이', '철이'])\n",
    "score1 = np.array([84, 21, 87, 100, 59, 46])\n",
    "names2 = np.array(['길동', '철수', '영이', '철이', '순이', '미영'])\n",
    "score2 = np.array([99, 97, 87, 84, 77, 15])\n",
    "score3 = np.array([86, 88, 90, 45, 93, 82])\n",
    "['cat', 'dog', 'rabbit']\n",
    "{'cat':'kitten', 'dog':'puppy'}"
   ]
  },
  {
   "cell_type": "markdown",
   "id": "6966e7ab",
   "metadata": {},
   "source": [
    "### Series 부분 정보 선택\n",
    "- Index번호를 사용한 부분 정보 선택\n",
    "- Index명을 사용한 부분 정보 선택\n"
   ]
  },
  {
   "cell_type": "code",
   "execution_count": 43,
   "id": "933d3fae",
   "metadata": {},
   "outputs": [
    {
     "name": "stdout",
     "output_type": "stream",
     "text": [
      "87\n",
      "\n",
      "길동     87\n",
      "미영    100\n",
      "순이     59\n",
      "철이     46\n",
      "dtype: int32\n",
      "\n",
      "철수    84\n",
      "길동    87\n",
      "순이    59\n",
      "dtype: int32\n",
      "\n",
      "영이     21\n",
      "미영    100\n",
      "철이     46\n",
      "dtype: int32\n"
     ]
    }
   ],
   "source": [
    "#index 번호를 사용한 부분 정보 선택\n",
    "print(s1[2])\n",
    "print()\n",
    "print(s1[2:]) #슬라이싱\n",
    "print()\n",
    "print(s1[::2]) #처음부터 끝까지 step=2\n",
    "print()\n",
    "print(s1[1::2])"
   ]
  },
  {
   "cell_type": "code",
   "execution_count": 46,
   "id": "719f6fe2",
   "metadata": {},
   "outputs": [
    {
     "name": "stdout",
     "output_type": "stream",
     "text": [
      "21\n",
      "\n",
      "영이     21\n",
      "길동     87\n",
      "미영    100\n",
      "순이     59\n",
      "dtype: int32\n",
      "\n",
      "철이     46\n",
      "순이     59\n",
      "미영    100\n",
      "길동     87\n",
      "dtype: int32\n"
     ]
    }
   ],
   "source": [
    "#index 명을 사용한 부분 정보 선택\n",
    "print(s1['영이'])\n",
    "print()\n",
    "print(s1['영이' : '순이']) #순이까지 포함\n",
    "print()\n",
    "print(s1['철이' : '길동' : -1]) #역순"
   ]
  },
  {
   "cell_type": "markdown",
   "id": "4727ac55",
   "metadata": {},
   "source": [
    "### Series 값 추가\n",
    "- index 명을 사용하여 값 추가"
   ]
  },
  {
   "cell_type": "code",
   "execution_count": 47,
   "id": "dental-vulnerability",
   "metadata": {},
   "outputs": [
    {
     "data": {
      "text/plain": [
       "철수     84\n",
       "영이     21\n",
       "길동     87\n",
       "미영    100\n",
       "순이     59\n",
       "철이     46\n",
       "dtype: int32"
      ]
     },
     "execution_count": 47,
     "metadata": {},
     "output_type": "execute_result"
    }
   ],
   "source": [
    "s = s1.copy()\n",
    "s"
   ]
  },
  {
   "cell_type": "code",
   "execution_count": 48,
   "id": "e0cd848c",
   "metadata": {},
   "outputs": [
    {
     "data": {
      "text/plain": [
       "1744688663904"
      ]
     },
     "execution_count": 48,
     "metadata": {},
     "output_type": "execute_result"
    }
   ],
   "source": [
    "id(s)"
   ]
  },
  {
   "cell_type": "code",
   "execution_count": 49,
   "id": "8c118fe6",
   "metadata": {},
   "outputs": [
    {
     "data": {
      "text/plain": [
       "1744737668784"
      ]
     },
     "execution_count": 49,
     "metadata": {},
     "output_type": "execute_result"
    }
   ],
   "source": [
    "id(s1)"
   ]
  },
  {
   "cell_type": "code",
   "execution_count": null,
   "id": "4944e0be",
   "metadata": {},
   "outputs": [],
   "source": [
    "s['슬기'] = 90 #슬기 존재 x -> 값 추가\n",
    "s"
   ]
  },
  {
   "cell_type": "markdown",
   "id": "5c5e19e3",
   "metadata": {},
   "source": [
    "### Series 값 수정\n",
    "- map() 함수를 통한  자료의 변환\n",
    "-  Series객체.map(arg, na_action=None)"
   ]
  },
  {
   "cell_type": "code",
   "execution_count": 50,
   "id": "great-quilt",
   "metadata": {},
   "outputs": [
    {
     "data": {
      "text/plain": [
       "철수     84\n",
       "영이     21\n",
       "길동     88\n",
       "미영    100\n",
       "순이     59\n",
       "철이     46\n",
       "dtype: int32"
      ]
     },
     "execution_count": 50,
     "metadata": {},
     "output_type": "execute_result"
    }
   ],
   "source": [
    "s[2] = 88\n",
    "s"
   ]
  },
  {
   "cell_type": "code",
   "execution_count": 51,
   "id": "a08701de",
   "metadata": {},
   "outputs": [
    {
     "data": {
      "text/plain": [
       "철수     84\n",
       "영이     21\n",
       "길동     87\n",
       "미영    100\n",
       "순이     59\n",
       "철이     46\n",
       "dtype: int32"
      ]
     },
     "execution_count": 51,
     "metadata": {},
     "output_type": "execute_result"
    }
   ],
   "source": [
    "s['길동'] = 87 #길동 존재 -> 값 수정\n",
    "s"
   ]
  },
  {
   "cell_type": "code",
   "execution_count": 53,
   "id": "scheduled-yorkshire",
   "metadata": {},
   "outputs": [
    {
     "data": {
      "text/plain": [
       "0       cat\n",
       "1       dog\n",
       "2    rabbit\n",
       "dtype: object"
      ]
     },
     "execution_count": 53,
     "metadata": {},
     "output_type": "execute_result"
    }
   ],
   "source": [
    "s = pd.Series(['cat', 'dog', 'rabbit'])\n",
    "s"
   ]
  },
  {
   "cell_type": "code",
   "execution_count": 57,
   "id": "93c14810",
   "metadata": {},
   "outputs": [
    {
     "data": {
      "text/plain": [
       "0    kitten\n",
       "1     puppy\n",
       "2       NaN\n",
       "dtype: object"
      ]
     },
     "execution_count": 57,
     "metadata": {},
     "output_type": "execute_result"
    }
   ],
   "source": [
    "r = s.map({'cat':'kitten', 'dog':'puppy'}) #map 함수 - before:after 순으로 변경\n",
    "#값이 없을경우 NaN 반환\n",
    "r"
   ]
  },
  {
   "cell_type": "markdown",
   "id": "01edeb09",
   "metadata": {},
   "source": [
    "### Series 값 삭제\n",
    "- index 명을 사용하여 값 삭제"
   ]
  },
  {
   "cell_type": "code",
   "execution_count": 58,
   "id": "9cc47bf0",
   "metadata": {},
   "outputs": [
    {
     "data": {
      "text/plain": [
       "1    puppy\n",
       "2      NaN\n",
       "dtype: object"
      ]
     },
     "execution_count": 58,
     "metadata": {},
     "output_type": "execute_result"
    }
   ],
   "source": [
    "del r[0]\n",
    "r"
   ]
  },
  {
   "cell_type": "markdown",
   "id": "70ff1746",
   "metadata": {},
   "source": [
    "### 비교 연산\n",
    "- index가 같으면 비교 가능"
   ]
  },
  {
   "cell_type": "code",
   "execution_count": 59,
   "id": "14440d2a",
   "metadata": {},
   "outputs": [],
   "source": [
    "score3 = np.array([86, 88, 90, 45, 93, 82])"
   ]
  },
  {
   "cell_type": "code",
   "execution_count": 60,
   "id": "8328410f",
   "metadata": {},
   "outputs": [
    {
     "data": {
      "text/plain": [
       "철수    86\n",
       "영이    88\n",
       "길동    90\n",
       "미영    45\n",
       "순이    93\n",
       "철이    82\n",
       "dtype: int32"
      ]
     },
     "execution_count": 60,
     "metadata": {},
     "output_type": "execute_result"
    }
   ],
   "source": [
    "s3 = pd.Series(score3, index = names1)\n",
    "s3"
   ]
  },
  {
   "cell_type": "code",
   "execution_count": 61,
   "id": "d56995af",
   "metadata": {},
   "outputs": [
    {
     "data": {
      "text/plain": [
       "철수    False\n",
       "영이    False\n",
       "길동    False\n",
       "미영    False\n",
       "순이    False\n",
       "철이    False\n",
       "dtype: bool"
      ]
     },
     "execution_count": 61,
     "metadata": {},
     "output_type": "execute_result"
    }
   ],
   "source": [
    "s1 == s3"
   ]
  },
  {
   "cell_type": "code",
   "execution_count": 63,
   "id": "76562bd9",
   "metadata": {},
   "outputs": [
    {
     "data": {
      "text/plain": [
       "철수    False\n",
       "영이    False\n",
       "길동    False\n",
       "미영     True\n",
       "순이    False\n",
       "철이    False\n",
       "dtype: bool"
      ]
     },
     "execution_count": 63,
     "metadata": {},
     "output_type": "execute_result"
    }
   ],
   "source": [
    "s1 > s3"
   ]
  },
  {
   "cell_type": "markdown",
   "id": "ae30bdbe",
   "metadata": {},
   "source": [
    "### 논리 연산과 filtering"
   ]
  },
  {
   "cell_type": "code",
   "execution_count": 75,
   "id": "e5d01217",
   "metadata": {},
   "outputs": [
    {
     "data": {
      "text/plain": [
       "철수    False\n",
       "영이    False\n",
       "길동     True\n",
       "미영     True\n",
       "순이    False\n",
       "철이    False\n",
       "dtype: bool"
      ]
     },
     "execution_count": 75,
     "metadata": {},
     "output_type": "execute_result"
    }
   ],
   "source": [
    "x = s1 > 85\n",
    "x"
   ]
  },
  {
   "cell_type": "code",
   "execution_count": 76,
   "id": "b415546d",
   "metadata": {},
   "outputs": [
    {
     "data": {
      "text/plain": [
       "길동     87\n",
       "미영    100\n",
       "dtype: int32"
      ]
     },
     "execution_count": 76,
     "metadata": {},
     "output_type": "execute_result"
    }
   ],
   "source": [
    "s1[x]"
   ]
  },
  {
   "cell_type": "code",
   "execution_count": 77,
   "id": "c9172e15",
   "metadata": {},
   "outputs": [
    {
     "data": {
      "text/plain": [
       "Index(['길동', '미영'], dtype='object')"
      ]
     },
     "execution_count": 77,
     "metadata": {},
     "output_type": "execute_result"
    }
   ],
   "source": [
    "s1[s1 > 85].index"
   ]
  },
  {
   "cell_type": "code",
   "execution_count": 78,
   "id": "33525561",
   "metadata": {},
   "outputs": [
    {
     "data": {
      "text/plain": [
       "길동    99\n",
       "미영    15\n",
       "dtype: int32"
      ]
     },
     "execution_count": 78,
     "metadata": {},
     "output_type": "execute_result"
    }
   ],
   "source": [
    "s2[x]"
   ]
  },
  {
   "cell_type": "markdown",
   "id": "c5bf38a5",
   "metadata": {},
   "source": [
    "# DataFrame: 2차원 배열 / index + columns + values\n",
    "- 생성 방법 1: Series를 이용하여 생성\n",
    "- 생성 방법 2: 데이터 직접 넣어 생성"
   ]
  },
  {
   "cell_type": "markdown",
   "id": "174c9f8c",
   "metadata": {},
   "source": [
    "### 1. 빈 dataframe 만들기\n",
    "- d = pd.DataFrame()"
   ]
  },
  {
   "cell_type": "code",
   "execution_count": 83,
   "id": "focal-invalid",
   "metadata": {},
   "outputs": [
    {
     "data": {
      "text/html": [
       "<div>\n",
       "<style scoped>\n",
       "    .dataframe tbody tr th:only-of-type {\n",
       "        vertical-align: middle;\n",
       "    }\n",
       "\n",
       "    .dataframe tbody tr th {\n",
       "        vertical-align: top;\n",
       "    }\n",
       "\n",
       "    .dataframe thead th {\n",
       "        text-align: right;\n",
       "    }\n",
       "</style>\n",
       "<table border=\"1\" class=\"dataframe\">\n",
       "  <thead>\n",
       "    <tr style=\"text-align: right;\">\n",
       "      <th></th>\n",
       "    </tr>\n",
       "  </thead>\n",
       "  <tbody>\n",
       "  </tbody>\n",
       "</table>\n",
       "</div>"
      ],
      "text/plain": [
       "Empty DataFrame\n",
       "Columns: []\n",
       "Index: []"
      ]
     },
     "execution_count": 83,
     "metadata": {},
     "output_type": "execute_result"
    }
   ],
   "source": [
    "d = pd.DataFrame() #빈 데이터는 _ 로 출력\n",
    "d"
   ]
  },
  {
   "cell_type": "markdown",
   "id": "7df6e6ad",
   "metadata": {},
   "source": [
    "### 2. 열 채우기\n",
    "- d[column명] = series"
   ]
  },
  {
   "cell_type": "code",
   "execution_count": 85,
   "id": "dc7c63b4",
   "metadata": {},
   "outputs": [
    {
     "data": {
      "text/html": [
       "<div>\n",
       "<style scoped>\n",
       "    .dataframe tbody tr th:only-of-type {\n",
       "        vertical-align: middle;\n",
       "    }\n",
       "\n",
       "    .dataframe tbody tr th {\n",
       "        vertical-align: top;\n",
       "    }\n",
       "\n",
       "    .dataframe thead th {\n",
       "        text-align: right;\n",
       "    }\n",
       "</style>\n",
       "<table border=\"1\" class=\"dataframe\">\n",
       "  <thead>\n",
       "    <tr style=\"text-align: right;\">\n",
       "      <th></th>\n",
       "      <th>국어</th>\n",
       "    </tr>\n",
       "  </thead>\n",
       "  <tbody>\n",
       "    <tr>\n",
       "      <th>철수</th>\n",
       "      <td>84</td>\n",
       "    </tr>\n",
       "    <tr>\n",
       "      <th>영이</th>\n",
       "      <td>21</td>\n",
       "    </tr>\n",
       "    <tr>\n",
       "      <th>길동</th>\n",
       "      <td>87</td>\n",
       "    </tr>\n",
       "    <tr>\n",
       "      <th>미영</th>\n",
       "      <td>100</td>\n",
       "    </tr>\n",
       "    <tr>\n",
       "      <th>순이</th>\n",
       "      <td>59</td>\n",
       "    </tr>\n",
       "    <tr>\n",
       "      <th>철이</th>\n",
       "      <td>46</td>\n",
       "    </tr>\n",
       "  </tbody>\n",
       "</table>\n",
       "</div>"
      ],
      "text/plain": [
       "     국어\n",
       "철수   84\n",
       "영이   21\n",
       "길동   87\n",
       "미영  100\n",
       "순이   59\n",
       "철이   46"
      ]
     },
     "execution_count": 85,
     "metadata": {},
     "output_type": "execute_result"
    }
   ],
   "source": [
    "d['국어'] = s1\n",
    "d"
   ]
  },
  {
   "cell_type": "code",
   "execution_count": 87,
   "id": "330887cc",
   "metadata": {},
   "outputs": [
    {
     "data": {
      "text/html": [
       "<div>\n",
       "<style scoped>\n",
       "    .dataframe tbody tr th:only-of-type {\n",
       "        vertical-align: middle;\n",
       "    }\n",
       "\n",
       "    .dataframe tbody tr th {\n",
       "        vertical-align: top;\n",
       "    }\n",
       "\n",
       "    .dataframe thead th {\n",
       "        text-align: right;\n",
       "    }\n",
       "</style>\n",
       "<table border=\"1\" class=\"dataframe\">\n",
       "  <thead>\n",
       "    <tr style=\"text-align: right;\">\n",
       "      <th></th>\n",
       "      <th>국어</th>\n",
       "      <th>영어</th>\n",
       "    </tr>\n",
       "  </thead>\n",
       "  <tbody>\n",
       "    <tr>\n",
       "      <th>철수</th>\n",
       "      <td>84</td>\n",
       "      <td>97</td>\n",
       "    </tr>\n",
       "    <tr>\n",
       "      <th>영이</th>\n",
       "      <td>21</td>\n",
       "      <td>87</td>\n",
       "    </tr>\n",
       "    <tr>\n",
       "      <th>길동</th>\n",
       "      <td>87</td>\n",
       "      <td>99</td>\n",
       "    </tr>\n",
       "    <tr>\n",
       "      <th>미영</th>\n",
       "      <td>100</td>\n",
       "      <td>15</td>\n",
       "    </tr>\n",
       "    <tr>\n",
       "      <th>순이</th>\n",
       "      <td>59</td>\n",
       "      <td>77</td>\n",
       "    </tr>\n",
       "    <tr>\n",
       "      <th>철이</th>\n",
       "      <td>46</td>\n",
       "      <td>84</td>\n",
       "    </tr>\n",
       "  </tbody>\n",
       "</table>\n",
       "</div>"
      ],
      "text/plain": [
       "     국어  영어\n",
       "철수   84  97\n",
       "영이   21  87\n",
       "길동   87  99\n",
       "미영  100  15\n",
       "순이   59  77\n",
       "철이   46  84"
      ]
     },
     "execution_count": 87,
     "metadata": {},
     "output_type": "execute_result"
    }
   ],
   "source": [
    "d['영어'] = s2\n",
    "d"
   ]
  },
  {
   "cell_type": "code",
   "execution_count": 89,
   "id": "53868dce",
   "metadata": {},
   "outputs": [
    {
     "data": {
      "text/plain": [
       "철수     84\n",
       "영이     21\n",
       "길동     87\n",
       "미영    100\n",
       "순이     59\n",
       "철이     46\n",
       "Name: 국어, dtype: int32"
      ]
     },
     "execution_count": 89,
     "metadata": {},
     "output_type": "execute_result"
    }
   ],
   "source": [
    "d['국어'] #Series type"
   ]
  },
  {
   "cell_type": "code",
   "execution_count": 91,
   "id": "2729773c",
   "metadata": {},
   "outputs": [
    {
     "data": {
      "text/plain": [
       "철수    97\n",
       "영이    87\n",
       "길동    99\n",
       "미영    15\n",
       "순이    77\n",
       "철이    84\n",
       "Name: 영어, dtype: int32"
      ]
     },
     "execution_count": 91,
     "metadata": {},
     "output_type": "execute_result"
    }
   ],
   "source": [
    "d.영어 #d['영어']"
   ]
  },
  {
   "cell_type": "code",
   "execution_count": 93,
   "id": "f6dad9e9",
   "metadata": {},
   "outputs": [
    {
     "data": {
      "text/html": [
       "<div>\n",
       "<style scoped>\n",
       "    .dataframe tbody tr th:only-of-type {\n",
       "        vertical-align: middle;\n",
       "    }\n",
       "\n",
       "    .dataframe tbody tr th {\n",
       "        vertical-align: top;\n",
       "    }\n",
       "\n",
       "    .dataframe thead th {\n",
       "        text-align: right;\n",
       "    }\n",
       "</style>\n",
       "<table border=\"1\" class=\"dataframe\">\n",
       "  <thead>\n",
       "    <tr style=\"text-align: right;\">\n",
       "      <th></th>\n",
       "      <th>국어</th>\n",
       "      <th>영어</th>\n",
       "      <th>합</th>\n",
       "    </tr>\n",
       "  </thead>\n",
       "  <tbody>\n",
       "    <tr>\n",
       "      <th>철수</th>\n",
       "      <td>84</td>\n",
       "      <td>97</td>\n",
       "      <td>181</td>\n",
       "    </tr>\n",
       "    <tr>\n",
       "      <th>영이</th>\n",
       "      <td>21</td>\n",
       "      <td>87</td>\n",
       "      <td>108</td>\n",
       "    </tr>\n",
       "    <tr>\n",
       "      <th>길동</th>\n",
       "      <td>87</td>\n",
       "      <td>99</td>\n",
       "      <td>186</td>\n",
       "    </tr>\n",
       "    <tr>\n",
       "      <th>미영</th>\n",
       "      <td>100</td>\n",
       "      <td>15</td>\n",
       "      <td>115</td>\n",
       "    </tr>\n",
       "    <tr>\n",
       "      <th>순이</th>\n",
       "      <td>59</td>\n",
       "      <td>77</td>\n",
       "      <td>136</td>\n",
       "    </tr>\n",
       "    <tr>\n",
       "      <th>철이</th>\n",
       "      <td>46</td>\n",
       "      <td>84</td>\n",
       "      <td>130</td>\n",
       "    </tr>\n",
       "  </tbody>\n",
       "</table>\n",
       "</div>"
      ],
      "text/plain": [
       "     국어  영어    합\n",
       "철수   84  97  181\n",
       "영이   21  87  108\n",
       "길동   87  99  186\n",
       "미영  100  15  115\n",
       "순이   59  77  136\n",
       "철이   46  84  130"
      ]
     },
     "execution_count": 93,
     "metadata": {},
     "output_type": "execute_result"
    }
   ],
   "source": [
    "d['합'] = d.국어 + d.영어 #새로운 열 추가 -> d['column명']\n",
    "d"
   ]
  },
  {
   "cell_type": "code",
   "execution_count": 94,
   "id": "e85433ee",
   "metadata": {},
   "outputs": [
    {
     "data": {
      "text/plain": [
       "Index(['철수', '영이', '길동', '미영', '순이', '철이'], dtype='object')"
      ]
     },
     "execution_count": 94,
     "metadata": {},
     "output_type": "execute_result"
    }
   ],
   "source": [
    "d.index"
   ]
  },
  {
   "cell_type": "code",
   "execution_count": 95,
   "id": "cdd4f96c",
   "metadata": {},
   "outputs": [
    {
     "data": {
      "text/plain": [
       "Index(['국어', '영어', '합'], dtype='object')"
      ]
     },
     "execution_count": 95,
     "metadata": {},
     "output_type": "execute_result"
    }
   ],
   "source": [
    "d.columns"
   ]
  },
  {
   "cell_type": "code",
   "execution_count": 96,
   "id": "72bbb4db",
   "metadata": {},
   "outputs": [
    {
     "data": {
      "text/plain": [
       "array([[ 84,  97, 181],\n",
       "       [ 21,  87, 108],\n",
       "       [ 87,  99, 186],\n",
       "       [100,  15, 115],\n",
       "       [ 59,  77, 136],\n",
       "       [ 46,  84, 130]])"
      ]
     },
     "execution_count": 96,
     "metadata": {},
     "output_type": "execute_result"
    }
   ],
   "source": [
    "d.values"
   ]
  },
  {
   "cell_type": "code",
   "execution_count": 98,
   "id": "c7c9fa66",
   "metadata": {},
   "outputs": [
    {
     "data": {
      "text/plain": [
       "(6, 3)"
      ]
     },
     "execution_count": 98,
     "metadata": {},
     "output_type": "execute_result"
    }
   ],
   "source": [
    "d.shape #values의 배열"
   ]
  },
  {
   "cell_type": "code",
   "execution_count": 100,
   "id": "5b178f56",
   "metadata": {},
   "outputs": [
    {
     "data": {
      "text/plain": [
       "2"
      ]
     },
     "execution_count": 100,
     "metadata": {},
     "output_type": "execute_result"
    }
   ],
   "source": [
    "d.ndim #numpy - values 차원"
   ]
  },
  {
   "cell_type": "markdown",
   "id": "c357faa6",
   "metadata": {},
   "source": [
    "### 1. index와 columns 지정 X\n",
    "- index와 columns를 자동으로 0부터 생성"
   ]
  },
  {
   "cell_type": "code",
   "execution_count": 101,
   "id": "d76af889",
   "metadata": {},
   "outputs": [
    {
     "data": {
      "text/html": [
       "<div>\n",
       "<style scoped>\n",
       "    .dataframe tbody tr th:only-of-type {\n",
       "        vertical-align: middle;\n",
       "    }\n",
       "\n",
       "    .dataframe tbody tr th {\n",
       "        vertical-align: top;\n",
       "    }\n",
       "\n",
       "    .dataframe thead th {\n",
       "        text-align: right;\n",
       "    }\n",
       "</style>\n",
       "<table border=\"1\" class=\"dataframe\">\n",
       "  <thead>\n",
       "    <tr style=\"text-align: right;\">\n",
       "      <th></th>\n",
       "      <th>0</th>\n",
       "      <th>1</th>\n",
       "      <th>2</th>\n",
       "    </tr>\n",
       "  </thead>\n",
       "  <tbody>\n",
       "    <tr>\n",
       "      <th>0</th>\n",
       "      <td>84</td>\n",
       "      <td>87</td>\n",
       "      <td>78</td>\n",
       "    </tr>\n",
       "    <tr>\n",
       "      <th>1</th>\n",
       "      <td>21</td>\n",
       "      <td>15</td>\n",
       "      <td>84</td>\n",
       "    </tr>\n",
       "    <tr>\n",
       "      <th>2</th>\n",
       "      <td>87</td>\n",
       "      <td>84</td>\n",
       "      <td>76</td>\n",
       "    </tr>\n",
       "    <tr>\n",
       "      <th>3</th>\n",
       "      <td>100</td>\n",
       "      <td>87</td>\n",
       "      <td>99</td>\n",
       "    </tr>\n",
       "    <tr>\n",
       "      <th>4</th>\n",
       "      <td>59</td>\n",
       "      <td>99</td>\n",
       "      <td>59</td>\n",
       "    </tr>\n",
       "    <tr>\n",
       "      <th>5</th>\n",
       "      <td>46</td>\n",
       "      <td>77</td>\n",
       "      <td>56</td>\n",
       "    </tr>\n",
       "  </tbody>\n",
       "</table>\n",
       "</div>"
      ],
      "text/plain": [
       "     0   1   2\n",
       "0   84  87  78\n",
       "1   21  15  84\n",
       "2   87  84  76\n",
       "3  100  87  99\n",
       "4   59  99  59\n",
       "5   46  77  56"
      ]
     },
     "execution_count": 101,
     "metadata": {},
     "output_type": "execute_result"
    }
   ],
   "source": [
    "scores = [[84, 87, 78], [21, 15, 84], [87, 84, 76], [100, 87, 99], [59, 99, 59], [46, 77, 56]] #list\n",
    "#scores는 모든 행의 열의 수가 동일 해야함\n",
    "d = pd.DataFrame(scores)\n",
    "d"
   ]
  },
  {
   "cell_type": "markdown",
   "id": "a92bd454",
   "metadata": {},
   "source": [
    "### 2. index와 columns 지정\n",
    "- index와 columns를 지정"
   ]
  },
  {
   "cell_type": "code",
   "execution_count": 102,
   "id": "53c3c366",
   "metadata": {},
   "outputs": [
    {
     "data": {
      "text/html": [
       "<div>\n",
       "<style scoped>\n",
       "    .dataframe tbody tr th:only-of-type {\n",
       "        vertical-align: middle;\n",
       "    }\n",
       "\n",
       "    .dataframe tbody tr th {\n",
       "        vertical-align: top;\n",
       "    }\n",
       "\n",
       "    .dataframe thead th {\n",
       "        text-align: right;\n",
       "    }\n",
       "</style>\n",
       "<table border=\"1\" class=\"dataframe\">\n",
       "  <thead>\n",
       "    <tr style=\"text-align: right;\">\n",
       "      <th></th>\n",
       "      <th>국어</th>\n",
       "      <th>영어</th>\n",
       "      <th>수학</th>\n",
       "    </tr>\n",
       "  </thead>\n",
       "  <tbody>\n",
       "    <tr>\n",
       "      <th>철수</th>\n",
       "      <td>84</td>\n",
       "      <td>87</td>\n",
       "      <td>78</td>\n",
       "    </tr>\n",
       "    <tr>\n",
       "      <th>영이</th>\n",
       "      <td>21</td>\n",
       "      <td>15</td>\n",
       "      <td>84</td>\n",
       "    </tr>\n",
       "    <tr>\n",
       "      <th>길동</th>\n",
       "      <td>87</td>\n",
       "      <td>84</td>\n",
       "      <td>76</td>\n",
       "    </tr>\n",
       "    <tr>\n",
       "      <th>미영</th>\n",
       "      <td>100</td>\n",
       "      <td>87</td>\n",
       "      <td>99</td>\n",
       "    </tr>\n",
       "    <tr>\n",
       "      <th>순이</th>\n",
       "      <td>59</td>\n",
       "      <td>99</td>\n",
       "      <td>59</td>\n",
       "    </tr>\n",
       "    <tr>\n",
       "      <th>철이</th>\n",
       "      <td>46</td>\n",
       "      <td>77</td>\n",
       "      <td>56</td>\n",
       "    </tr>\n",
       "  </tbody>\n",
       "</table>\n",
       "</div>"
      ],
      "text/plain": [
       "     국어  영어  수학\n",
       "철수   84  87  78\n",
       "영이   21  15  84\n",
       "길동   87  84  76\n",
       "미영  100  87  99\n",
       "순이   59  99  59\n",
       "철이   46  77  56"
      ]
     },
     "execution_count": 102,
     "metadata": {},
     "output_type": "execute_result"
    }
   ],
   "source": [
    "scores = [[84, 87, 78], [21, 15, 84], [87, 84, 76], [100, 87, 99], [59, 99, 59], [46, 77, 56]]\n",
    "names = ['철수', '영이', '길동', '미영', '순이', '철이']\n",
    "lectures =['국어', '영어', '수학']\n",
    "d = pd.DataFrame(scores, index = names, columns = lectures)\n",
    "d"
   ]
  },
  {
   "cell_type": "code",
   "execution_count": 104,
   "id": "vertical-interaction",
   "metadata": {},
   "outputs": [
    {
     "data": {
      "text/html": [
       "<div>\n",
       "<style scoped>\n",
       "    .dataframe tbody tr th:only-of-type {\n",
       "        vertical-align: middle;\n",
       "    }\n",
       "\n",
       "    .dataframe tbody tr th {\n",
       "        vertical-align: top;\n",
       "    }\n",
       "\n",
       "    .dataframe thead th {\n",
       "        text-align: right;\n",
       "    }\n",
       "</style>\n",
       "<table border=\"1\" class=\"dataframe\">\n",
       "  <thead>\n",
       "    <tr style=\"text-align: right;\">\n",
       "      <th></th>\n",
       "      <th>국어</th>\n",
       "      <th>영어</th>\n",
       "      <th>수학</th>\n",
       "    </tr>\n",
       "  </thead>\n",
       "  <tbody>\n",
       "    <tr>\n",
       "      <th>철수</th>\n",
       "      <td>84</td>\n",
       "      <td>87</td>\n",
       "      <td>78</td>\n",
       "    </tr>\n",
       "    <tr>\n",
       "      <th>영이</th>\n",
       "      <td>21</td>\n",
       "      <td>15</td>\n",
       "      <td>84</td>\n",
       "    </tr>\n",
       "    <tr>\n",
       "      <th>길동</th>\n",
       "      <td>87</td>\n",
       "      <td>84</td>\n",
       "      <td>76</td>\n",
       "    </tr>\n",
       "    <tr>\n",
       "      <th>미영</th>\n",
       "      <td>100</td>\n",
       "      <td>87</td>\n",
       "      <td>99</td>\n",
       "    </tr>\n",
       "    <tr>\n",
       "      <th>순이</th>\n",
       "      <td>59</td>\n",
       "      <td>99</td>\n",
       "      <td>59</td>\n",
       "    </tr>\n",
       "    <tr>\n",
       "      <th>철이</th>\n",
       "      <td>46</td>\n",
       "      <td>77</td>\n",
       "      <td>56</td>\n",
       "    </tr>\n",
       "  </tbody>\n",
       "</table>\n",
       "</div>"
      ],
      "text/plain": [
       "     국어  영어  수학\n",
       "철수   84  87  78\n",
       "영이   21  15  84\n",
       "길동   87  84  76\n",
       "미영  100  87  99\n",
       "순이   59  99  59\n",
       "철이   46  77  56"
      ]
     },
     "execution_count": 104,
     "metadata": {},
     "output_type": "execute_result"
    }
   ],
   "source": [
    "#dictionary 사용 시, columns : key값으로 들어감\n",
    "ScoresWithLectures = { '국어' :[84,21,87,100,59,46], \n",
    "                       '영어' :[87,15,84,87,99,77],\n",
    "                       '수학' :[78,84,76,99,59,56]}\n",
    "d = pd.DataFrame(ScoresWithLectures, index = names)\n",
    "d"
   ]
  },
  {
   "cell_type": "code",
   "execution_count": 105,
   "id": "776517e1",
   "metadata": {},
   "outputs": [],
   "source": [
    "d1 = d.copy()"
   ]
  },
  {
   "cell_type": "markdown",
   "id": "66270c45",
   "metadata": {},
   "source": [
    "## Index, columns, values 접근\n",
    "- Index: DataFrame객체.index\n",
    "- Columns: DataFrame객체.columns\n",
    "- Values: DataFrame객체.values"
   ]
  },
  {
   "cell_type": "code",
   "execution_count": 106,
   "id": "08184313",
   "metadata": {},
   "outputs": [
    {
     "data": {
      "text/plain": [
       "Index(['철수', '영이', '길동', '미영', '순이', '철이'], dtype='object')"
      ]
     },
     "execution_count": 106,
     "metadata": {},
     "output_type": "execute_result"
    }
   ],
   "source": [
    "d.index"
   ]
  },
  {
   "cell_type": "code",
   "execution_count": 107,
   "id": "2a2ea227",
   "metadata": {},
   "outputs": [
    {
     "data": {
      "text/plain": [
       "Index(['국어', '영어', '수학'], dtype='object')"
      ]
     },
     "execution_count": 107,
     "metadata": {},
     "output_type": "execute_result"
    }
   ],
   "source": [
    "d.columns"
   ]
  },
  {
   "cell_type": "code",
   "execution_count": 108,
   "id": "f6f015dd",
   "metadata": {},
   "outputs": [
    {
     "data": {
      "text/plain": [
       "array([[ 84,  87,  78],\n",
       "       [ 21,  15,  84],\n",
       "       [ 87,  84,  76],\n",
       "       [100,  87,  99],\n",
       "       [ 59,  99,  59],\n",
       "       [ 46,  77,  56]], dtype=int64)"
      ]
     },
     "execution_count": 108,
     "metadata": {},
     "output_type": "execute_result"
    }
   ],
   "source": [
    "d.values"
   ]
  },
  {
   "cell_type": "markdown",
   "id": "994b35e5",
   "metadata": {},
   "source": [
    "### index 변경\n",
    "- DataFrame객체.index = 새로운 index 배열/list\n",
    "- rename : 일부 index만 변경"
   ]
  },
  {
   "cell_type": "code",
   "execution_count": 111,
   "id": "e4b17bc1",
   "metadata": {},
   "outputs": [
    {
     "data": {
      "text/html": [
       "<div>\n",
       "<style scoped>\n",
       "    .dataframe tbody tr th:only-of-type {\n",
       "        vertical-align: middle;\n",
       "    }\n",
       "\n",
       "    .dataframe tbody tr th {\n",
       "        vertical-align: top;\n",
       "    }\n",
       "\n",
       "    .dataframe thead th {\n",
       "        text-align: right;\n",
       "    }\n",
       "</style>\n",
       "<table border=\"1\" class=\"dataframe\">\n",
       "  <thead>\n",
       "    <tr style=\"text-align: right;\">\n",
       "      <th></th>\n",
       "      <th>국어</th>\n",
       "      <th>영어</th>\n",
       "      <th>수학</th>\n",
       "    </tr>\n",
       "  </thead>\n",
       "  <tbody>\n",
       "    <tr>\n",
       "      <th>학생1</th>\n",
       "      <td>84</td>\n",
       "      <td>87</td>\n",
       "      <td>78</td>\n",
       "    </tr>\n",
       "    <tr>\n",
       "      <th>학생2</th>\n",
       "      <td>21</td>\n",
       "      <td>15</td>\n",
       "      <td>84</td>\n",
       "    </tr>\n",
       "    <tr>\n",
       "      <th>학생3</th>\n",
       "      <td>87</td>\n",
       "      <td>84</td>\n",
       "      <td>76</td>\n",
       "    </tr>\n",
       "    <tr>\n",
       "      <th>학생4</th>\n",
       "      <td>100</td>\n",
       "      <td>87</td>\n",
       "      <td>99</td>\n",
       "    </tr>\n",
       "    <tr>\n",
       "      <th>학생5</th>\n",
       "      <td>59</td>\n",
       "      <td>99</td>\n",
       "      <td>59</td>\n",
       "    </tr>\n",
       "    <tr>\n",
       "      <th>학생6</th>\n",
       "      <td>46</td>\n",
       "      <td>77</td>\n",
       "      <td>56</td>\n",
       "    </tr>\n",
       "  </tbody>\n",
       "</table>\n",
       "</div>"
      ],
      "text/plain": [
       "      국어  영어  수학\n",
       "학생1   84  87  78\n",
       "학생2   21  15  84\n",
       "학생3   87  84  76\n",
       "학생4  100  87  99\n",
       "학생5   59  99  59\n",
       "학생6   46  77  56"
      ]
     },
     "execution_count": 111,
     "metadata": {},
     "output_type": "execute_result"
    }
   ],
   "source": [
    "d.index = ['학생1','학생2','학생3','학생4', '학생5', '학생6']\n",
    "d"
   ]
  },
  {
   "cell_type": "code",
   "execution_count": 115,
   "id": "2825bccd",
   "metadata": {},
   "outputs": [
    {
     "data": {
      "text/html": [
       "<div>\n",
       "<style scoped>\n",
       "    .dataframe tbody tr th:only-of-type {\n",
       "        vertical-align: middle;\n",
       "    }\n",
       "\n",
       "    .dataframe tbody tr th {\n",
       "        vertical-align: top;\n",
       "    }\n",
       "\n",
       "    .dataframe thead th {\n",
       "        text-align: right;\n",
       "    }\n",
       "</style>\n",
       "<table border=\"1\" class=\"dataframe\">\n",
       "  <thead>\n",
       "    <tr style=\"text-align: right;\">\n",
       "      <th></th>\n",
       "      <th>국어</th>\n",
       "      <th>영어</th>\n",
       "      <th>수학</th>\n",
       "    </tr>\n",
       "  </thead>\n",
       "  <tbody>\n",
       "    <tr>\n",
       "      <th>철수</th>\n",
       "      <td>84</td>\n",
       "      <td>87</td>\n",
       "      <td>78</td>\n",
       "    </tr>\n",
       "    <tr>\n",
       "      <th>영이</th>\n",
       "      <td>21</td>\n",
       "      <td>15</td>\n",
       "      <td>84</td>\n",
       "    </tr>\n",
       "    <tr>\n",
       "      <th>학생3</th>\n",
       "      <td>87</td>\n",
       "      <td>84</td>\n",
       "      <td>76</td>\n",
       "    </tr>\n",
       "    <tr>\n",
       "      <th>학생4</th>\n",
       "      <td>100</td>\n",
       "      <td>87</td>\n",
       "      <td>99</td>\n",
       "    </tr>\n",
       "    <tr>\n",
       "      <th>학생5</th>\n",
       "      <td>59</td>\n",
       "      <td>99</td>\n",
       "      <td>59</td>\n",
       "    </tr>\n",
       "    <tr>\n",
       "      <th>학생6</th>\n",
       "      <td>46</td>\n",
       "      <td>77</td>\n",
       "      <td>56</td>\n",
       "    </tr>\n",
       "  </tbody>\n",
       "</table>\n",
       "</div>"
      ],
      "text/plain": [
       "      국어  영어  수학\n",
       "철수    84  87  78\n",
       "영이    21  15  84\n",
       "학생3   87  84  76\n",
       "학생4  100  87  99\n",
       "학생5   59  99  59\n",
       "학생6   46  77  56"
      ]
     },
     "execution_count": 115,
     "metadata": {},
     "output_type": "execute_result"
    }
   ],
   "source": [
    "d.rename(index = {'학생1':'철수', '학생2' : '영이'}, inplace = True) #before : after #inplace : 내부(원본) 변경 여부\n",
    "d"
   ]
  },
  {
   "cell_type": "code",
   "execution_count": 116,
   "id": "bb2efc39",
   "metadata": {},
   "outputs": [],
   "source": [
    "d = d1.copy()"
   ]
  },
  {
   "cell_type": "markdown",
   "id": "96abf78d",
   "metadata": {},
   "source": [
    "### columns 변경\n",
    "- DataFrame객체.columns = 새로운 columns 배열/list\n",
    "- rename : 일부 columns만 변경"
   ]
  },
  {
   "cell_type": "code",
   "execution_count": 118,
   "id": "f0a4862f",
   "metadata": {},
   "outputs": [
    {
     "data": {
      "text/html": [
       "<div>\n",
       "<style scoped>\n",
       "    .dataframe tbody tr th:only-of-type {\n",
       "        vertical-align: middle;\n",
       "    }\n",
       "\n",
       "    .dataframe tbody tr th {\n",
       "        vertical-align: top;\n",
       "    }\n",
       "\n",
       "    .dataframe thead th {\n",
       "        text-align: right;\n",
       "    }\n",
       "</style>\n",
       "<table border=\"1\" class=\"dataframe\">\n",
       "  <thead>\n",
       "    <tr style=\"text-align: right;\">\n",
       "      <th></th>\n",
       "      <th>과목1</th>\n",
       "      <th>과목2</th>\n",
       "      <th>과목3</th>\n",
       "    </tr>\n",
       "  </thead>\n",
       "  <tbody>\n",
       "    <tr>\n",
       "      <th>철수</th>\n",
       "      <td>84</td>\n",
       "      <td>87</td>\n",
       "      <td>78</td>\n",
       "    </tr>\n",
       "    <tr>\n",
       "      <th>영이</th>\n",
       "      <td>21</td>\n",
       "      <td>15</td>\n",
       "      <td>84</td>\n",
       "    </tr>\n",
       "    <tr>\n",
       "      <th>길동</th>\n",
       "      <td>87</td>\n",
       "      <td>84</td>\n",
       "      <td>76</td>\n",
       "    </tr>\n",
       "    <tr>\n",
       "      <th>미영</th>\n",
       "      <td>100</td>\n",
       "      <td>87</td>\n",
       "      <td>99</td>\n",
       "    </tr>\n",
       "    <tr>\n",
       "      <th>순이</th>\n",
       "      <td>59</td>\n",
       "      <td>99</td>\n",
       "      <td>59</td>\n",
       "    </tr>\n",
       "    <tr>\n",
       "      <th>철이</th>\n",
       "      <td>46</td>\n",
       "      <td>77</td>\n",
       "      <td>56</td>\n",
       "    </tr>\n",
       "  </tbody>\n",
       "</table>\n",
       "</div>"
      ],
      "text/plain": [
       "    과목1  과목2  과목3\n",
       "철수   84   87   78\n",
       "영이   21   15   84\n",
       "길동   87   84   76\n",
       "미영  100   87   99\n",
       "순이   59   99   59\n",
       "철이   46   77   56"
      ]
     },
     "execution_count": 118,
     "metadata": {},
     "output_type": "execute_result"
    }
   ],
   "source": [
    "d.columns = ['과목1', '과목2', '과목3']\n",
    "d"
   ]
  },
  {
   "cell_type": "code",
   "execution_count": 119,
   "id": "1074cb5b",
   "metadata": {},
   "outputs": [
    {
     "data": {
      "text/html": [
       "<div>\n",
       "<style scoped>\n",
       "    .dataframe tbody tr th:only-of-type {\n",
       "        vertical-align: middle;\n",
       "    }\n",
       "\n",
       "    .dataframe tbody tr th {\n",
       "        vertical-align: top;\n",
       "    }\n",
       "\n",
       "    .dataframe thead th {\n",
       "        text-align: right;\n",
       "    }\n",
       "</style>\n",
       "<table border=\"1\" class=\"dataframe\">\n",
       "  <thead>\n",
       "    <tr style=\"text-align: right;\">\n",
       "      <th></th>\n",
       "      <th>국어</th>\n",
       "      <th>영어</th>\n",
       "      <th>과목3</th>\n",
       "    </tr>\n",
       "  </thead>\n",
       "  <tbody>\n",
       "    <tr>\n",
       "      <th>철수</th>\n",
       "      <td>84</td>\n",
       "      <td>87</td>\n",
       "      <td>78</td>\n",
       "    </tr>\n",
       "    <tr>\n",
       "      <th>영이</th>\n",
       "      <td>21</td>\n",
       "      <td>15</td>\n",
       "      <td>84</td>\n",
       "    </tr>\n",
       "    <tr>\n",
       "      <th>길동</th>\n",
       "      <td>87</td>\n",
       "      <td>84</td>\n",
       "      <td>76</td>\n",
       "    </tr>\n",
       "    <tr>\n",
       "      <th>미영</th>\n",
       "      <td>100</td>\n",
       "      <td>87</td>\n",
       "      <td>99</td>\n",
       "    </tr>\n",
       "    <tr>\n",
       "      <th>순이</th>\n",
       "      <td>59</td>\n",
       "      <td>99</td>\n",
       "      <td>59</td>\n",
       "    </tr>\n",
       "    <tr>\n",
       "      <th>철이</th>\n",
       "      <td>46</td>\n",
       "      <td>77</td>\n",
       "      <td>56</td>\n",
       "    </tr>\n",
       "  </tbody>\n",
       "</table>\n",
       "</div>"
      ],
      "text/plain": [
       "     국어  영어  과목3\n",
       "철수   84  87   78\n",
       "영이   21  15   84\n",
       "길동   87  84   76\n",
       "미영  100  87   99\n",
       "순이   59  99   59\n",
       "철이   46  77   56"
      ]
     },
     "execution_count": 119,
     "metadata": {},
     "output_type": "execute_result"
    }
   ],
   "source": [
    "d.rename(columns = {'과목1':'국어', '과목2' : '영어'}, inplace = True)\n",
    "d"
   ]
  },
  {
   "cell_type": "code",
   "execution_count": 120,
   "id": "ce867e96",
   "metadata": {},
   "outputs": [],
   "source": [
    "d = d1.copy()"
   ]
  },
  {
   "cell_type": "markdown",
   "id": "7ba1946f",
   "metadata": {},
   "source": [
    "### 행 삭제\n",
    "- DataFrame객체.drop(index/list/배열, [axis=0], inplace=True)\n",
    "\n",
    "### 열 삭제\n",
    "- DataFrame객체.drop(column명/list/배열, axis=1)"
   ]
  },
  {
   "cell_type": "code",
   "execution_count": 121,
   "id": "fff71ad6",
   "metadata": {},
   "outputs": [
    {
     "data": {
      "text/html": [
       "<div>\n",
       "<style scoped>\n",
       "    .dataframe tbody tr th:only-of-type {\n",
       "        vertical-align: middle;\n",
       "    }\n",
       "\n",
       "    .dataframe tbody tr th {\n",
       "        vertical-align: top;\n",
       "    }\n",
       "\n",
       "    .dataframe thead th {\n",
       "        text-align: right;\n",
       "    }\n",
       "</style>\n",
       "<table border=\"1\" class=\"dataframe\">\n",
       "  <thead>\n",
       "    <tr style=\"text-align: right;\">\n",
       "      <th></th>\n",
       "      <th>국어</th>\n",
       "      <th>영어</th>\n",
       "      <th>수학</th>\n",
       "    </tr>\n",
       "  </thead>\n",
       "  <tbody>\n",
       "    <tr>\n",
       "      <th>철수</th>\n",
       "      <td>84</td>\n",
       "      <td>87</td>\n",
       "      <td>78</td>\n",
       "    </tr>\n",
       "    <tr>\n",
       "      <th>길동</th>\n",
       "      <td>87</td>\n",
       "      <td>84</td>\n",
       "      <td>76</td>\n",
       "    </tr>\n",
       "    <tr>\n",
       "      <th>미영</th>\n",
       "      <td>100</td>\n",
       "      <td>87</td>\n",
       "      <td>99</td>\n",
       "    </tr>\n",
       "    <tr>\n",
       "      <th>순이</th>\n",
       "      <td>59</td>\n",
       "      <td>99</td>\n",
       "      <td>59</td>\n",
       "    </tr>\n",
       "    <tr>\n",
       "      <th>철이</th>\n",
       "      <td>46</td>\n",
       "      <td>77</td>\n",
       "      <td>56</td>\n",
       "    </tr>\n",
       "  </tbody>\n",
       "</table>\n",
       "</div>"
      ],
      "text/plain": [
       "     국어  영어  수학\n",
       "철수   84  87  78\n",
       "길동   87  84  76\n",
       "미영  100  87  99\n",
       "순이   59  99  59\n",
       "철이   46  77  56"
      ]
     },
     "execution_count": 121,
     "metadata": {},
     "output_type": "execute_result"
    }
   ],
   "source": [
    "d.drop('영이', axis = 0, inplace = True)\n",
    "d"
   ]
  },
  {
   "cell_type": "code",
   "execution_count": 126,
   "id": "48a971e0",
   "metadata": {},
   "outputs": [],
   "source": [
    "d = d1.copy() #복원"
   ]
  },
  {
   "cell_type": "code",
   "execution_count": 128,
   "id": "2fcdb19d",
   "metadata": {},
   "outputs": [
    {
     "data": {
      "text/html": [
       "<div>\n",
       "<style scoped>\n",
       "    .dataframe tbody tr th:only-of-type {\n",
       "        vertical-align: middle;\n",
       "    }\n",
       "\n",
       "    .dataframe tbody tr th {\n",
       "        vertical-align: top;\n",
       "    }\n",
       "\n",
       "    .dataframe thead th {\n",
       "        text-align: right;\n",
       "    }\n",
       "</style>\n",
       "<table border=\"1\" class=\"dataframe\">\n",
       "  <thead>\n",
       "    <tr style=\"text-align: right;\">\n",
       "      <th></th>\n",
       "      <th>영어</th>\n",
       "    </tr>\n",
       "  </thead>\n",
       "  <tbody>\n",
       "    <tr>\n",
       "      <th>철수</th>\n",
       "      <td>87</td>\n",
       "    </tr>\n",
       "    <tr>\n",
       "      <th>영이</th>\n",
       "      <td>15</td>\n",
       "    </tr>\n",
       "    <tr>\n",
       "      <th>길동</th>\n",
       "      <td>84</td>\n",
       "    </tr>\n",
       "    <tr>\n",
       "      <th>미영</th>\n",
       "      <td>87</td>\n",
       "    </tr>\n",
       "    <tr>\n",
       "      <th>순이</th>\n",
       "      <td>99</td>\n",
       "    </tr>\n",
       "    <tr>\n",
       "      <th>철이</th>\n",
       "      <td>77</td>\n",
       "    </tr>\n",
       "  </tbody>\n",
       "</table>\n",
       "</div>"
      ],
      "text/plain": [
       "    영어\n",
       "철수  87\n",
       "영이  15\n",
       "길동  84\n",
       "미영  87\n",
       "순이  99\n",
       "철이  77"
      ]
     },
     "execution_count": 128,
     "metadata": {},
     "output_type": "execute_result"
    }
   ],
   "source": [
    "d.drop('국어', axis = 1) #inplace 사용 X -> d는 보존, 결과만 반환\n",
    "#여러 열 삭제 : 리스트로 작성\n",
    "d.drop(['국어', '수학'], axis = 1)"
   ]
  },
  {
   "cell_type": "markdown",
   "id": "69658941",
   "metadata": {},
   "source": [
    "### 행, 열 추가\n",
    "- d['colums명'] = s1 : 열 추가\n",
    "- d.loc['index명'] : 행 추가"
   ]
  },
  {
   "cell_type": "code",
   "execution_count": 129,
   "id": "1492c911",
   "metadata": {},
   "outputs": [
    {
     "data": {
      "text/html": [
       "<div>\n",
       "<style scoped>\n",
       "    .dataframe tbody tr th:only-of-type {\n",
       "        vertical-align: middle;\n",
       "    }\n",
       "\n",
       "    .dataframe tbody tr th {\n",
       "        vertical-align: top;\n",
       "    }\n",
       "\n",
       "    .dataframe thead th {\n",
       "        text-align: right;\n",
       "    }\n",
       "</style>\n",
       "<table border=\"1\" class=\"dataframe\">\n",
       "  <thead>\n",
       "    <tr style=\"text-align: right;\">\n",
       "      <th></th>\n",
       "      <th>국어</th>\n",
       "      <th>영어</th>\n",
       "      <th>수학</th>\n",
       "    </tr>\n",
       "  </thead>\n",
       "  <tbody>\n",
       "    <tr>\n",
       "      <th>철수</th>\n",
       "      <td>84</td>\n",
       "      <td>87</td>\n",
       "      <td>78</td>\n",
       "    </tr>\n",
       "    <tr>\n",
       "      <th>영이</th>\n",
       "      <td>21</td>\n",
       "      <td>15</td>\n",
       "      <td>84</td>\n",
       "    </tr>\n",
       "    <tr>\n",
       "      <th>길동</th>\n",
       "      <td>87</td>\n",
       "      <td>84</td>\n",
       "      <td>76</td>\n",
       "    </tr>\n",
       "    <tr>\n",
       "      <th>미영</th>\n",
       "      <td>100</td>\n",
       "      <td>87</td>\n",
       "      <td>99</td>\n",
       "    </tr>\n",
       "    <tr>\n",
       "      <th>순이</th>\n",
       "      <td>59</td>\n",
       "      <td>99</td>\n",
       "      <td>59</td>\n",
       "    </tr>\n",
       "    <tr>\n",
       "      <th>철이</th>\n",
       "      <td>46</td>\n",
       "      <td>77</td>\n",
       "      <td>56</td>\n",
       "    </tr>\n",
       "    <tr>\n",
       "      <th>소영</th>\n",
       "      <td>40</td>\n",
       "      <td>70</td>\n",
       "      <td>88</td>\n",
       "    </tr>\n",
       "  </tbody>\n",
       "</table>\n",
       "</div>"
      ],
      "text/plain": [
       "     국어  영어  수학\n",
       "철수   84  87  78\n",
       "영이   21  15  84\n",
       "길동   87  84  76\n",
       "미영  100  87  99\n",
       "순이   59  99  59\n",
       "철이   46  77  56\n",
       "소영   40  70  88"
      ]
     },
     "execution_count": 129,
     "metadata": {},
     "output_type": "execute_result"
    }
   ],
   "source": [
    "d.loc['소영'] = [40, 70, 88]\n",
    "d"
   ]
  },
  {
   "cell_type": "code",
   "execution_count": 131,
   "id": "3df0c60e",
   "metadata": {},
   "outputs": [
    {
     "data": {
      "text/html": [
       "<div>\n",
       "<style scoped>\n",
       "    .dataframe tbody tr th:only-of-type {\n",
       "        vertical-align: middle;\n",
       "    }\n",
       "\n",
       "    .dataframe tbody tr th {\n",
       "        vertical-align: top;\n",
       "    }\n",
       "\n",
       "    .dataframe thead th {\n",
       "        text-align: right;\n",
       "    }\n",
       "</style>\n",
       "<table border=\"1\" class=\"dataframe\">\n",
       "  <thead>\n",
       "    <tr style=\"text-align: right;\">\n",
       "      <th></th>\n",
       "      <th>국어</th>\n",
       "      <th>영어</th>\n",
       "      <th>수학</th>\n",
       "    </tr>\n",
       "  </thead>\n",
       "  <tbody>\n",
       "    <tr>\n",
       "      <th>철수</th>\n",
       "      <td>84</td>\n",
       "      <td>87</td>\n",
       "      <td>78</td>\n",
       "    </tr>\n",
       "    <tr>\n",
       "      <th>영이</th>\n",
       "      <td>21</td>\n",
       "      <td>15</td>\n",
       "      <td>84</td>\n",
       "    </tr>\n",
       "    <tr>\n",
       "      <th>길동</th>\n",
       "      <td>87</td>\n",
       "      <td>84</td>\n",
       "      <td>76</td>\n",
       "    </tr>\n",
       "    <tr>\n",
       "      <th>미영</th>\n",
       "      <td>100</td>\n",
       "      <td>87</td>\n",
       "      <td>99</td>\n",
       "    </tr>\n",
       "    <tr>\n",
       "      <th>순이</th>\n",
       "      <td>59</td>\n",
       "      <td>99</td>\n",
       "      <td>59</td>\n",
       "    </tr>\n",
       "    <tr>\n",
       "      <th>철이</th>\n",
       "      <td>46</td>\n",
       "      <td>77</td>\n",
       "      <td>56</td>\n",
       "    </tr>\n",
       "    <tr>\n",
       "      <th>소영</th>\n",
       "      <td>40</td>\n",
       "      <td>70</td>\n",
       "      <td>88</td>\n",
       "    </tr>\n",
       "    <tr>\n",
       "      <th>합계</th>\n",
       "      <td>874</td>\n",
       "      <td>1038</td>\n",
       "      <td>1080</td>\n",
       "    </tr>\n",
       "  </tbody>\n",
       "</table>\n",
       "</div>"
      ],
      "text/plain": [
       "     국어    영어    수학\n",
       "철수   84    87    78\n",
       "영이   21    15    84\n",
       "길동   87    84    76\n",
       "미영  100    87    99\n",
       "순이   59    99    59\n",
       "철이   46    77    56\n",
       "소영   40    70    88\n",
       "합계  874  1038  1080"
      ]
     },
     "execution_count": 131,
     "metadata": {},
     "output_type": "execute_result"
    }
   ],
   "source": [
    "d.loc['합계'] = d.sum(axis = 0) #행(가로) 추가\n",
    "d"
   ]
  },
  {
   "cell_type": "code",
   "execution_count": 132,
   "id": "bd0164ad",
   "metadata": {},
   "outputs": [
    {
     "data": {
      "text/html": [
       "<div>\n",
       "<style scoped>\n",
       "    .dataframe tbody tr th:only-of-type {\n",
       "        vertical-align: middle;\n",
       "    }\n",
       "\n",
       "    .dataframe tbody tr th {\n",
       "        vertical-align: top;\n",
       "    }\n",
       "\n",
       "    .dataframe thead th {\n",
       "        text-align: right;\n",
       "    }\n",
       "</style>\n",
       "<table border=\"1\" class=\"dataframe\">\n",
       "  <thead>\n",
       "    <tr style=\"text-align: right;\">\n",
       "      <th></th>\n",
       "      <th>국어</th>\n",
       "      <th>영어</th>\n",
       "      <th>수학</th>\n",
       "      <th>합계</th>\n",
       "    </tr>\n",
       "  </thead>\n",
       "  <tbody>\n",
       "    <tr>\n",
       "      <th>철수</th>\n",
       "      <td>84</td>\n",
       "      <td>87</td>\n",
       "      <td>78</td>\n",
       "      <td>249</td>\n",
       "    </tr>\n",
       "    <tr>\n",
       "      <th>영이</th>\n",
       "      <td>21</td>\n",
       "      <td>15</td>\n",
       "      <td>84</td>\n",
       "      <td>120</td>\n",
       "    </tr>\n",
       "    <tr>\n",
       "      <th>길동</th>\n",
       "      <td>87</td>\n",
       "      <td>84</td>\n",
       "      <td>76</td>\n",
       "      <td>247</td>\n",
       "    </tr>\n",
       "    <tr>\n",
       "      <th>미영</th>\n",
       "      <td>100</td>\n",
       "      <td>87</td>\n",
       "      <td>99</td>\n",
       "      <td>286</td>\n",
       "    </tr>\n",
       "    <tr>\n",
       "      <th>순이</th>\n",
       "      <td>59</td>\n",
       "      <td>99</td>\n",
       "      <td>59</td>\n",
       "      <td>217</td>\n",
       "    </tr>\n",
       "    <tr>\n",
       "      <th>철이</th>\n",
       "      <td>46</td>\n",
       "      <td>77</td>\n",
       "      <td>56</td>\n",
       "      <td>179</td>\n",
       "    </tr>\n",
       "    <tr>\n",
       "      <th>소영</th>\n",
       "      <td>40</td>\n",
       "      <td>70</td>\n",
       "      <td>88</td>\n",
       "      <td>198</td>\n",
       "    </tr>\n",
       "    <tr>\n",
       "      <th>합계</th>\n",
       "      <td>874</td>\n",
       "      <td>1038</td>\n",
       "      <td>1080</td>\n",
       "      <td>2992</td>\n",
       "    </tr>\n",
       "  </tbody>\n",
       "</table>\n",
       "</div>"
      ],
      "text/plain": [
       "     국어    영어    수학    합계\n",
       "철수   84    87    78   249\n",
       "영이   21    15    84   120\n",
       "길동   87    84    76   247\n",
       "미영  100    87    99   286\n",
       "순이   59    99    59   217\n",
       "철이   46    77    56   179\n",
       "소영   40    70    88   198\n",
       "합계  874  1038  1080  2992"
      ]
     },
     "execution_count": 132,
     "metadata": {},
     "output_type": "execute_result"
    }
   ],
   "source": [
    "d['합계'] = d.sum(axis = 1) #열(세로) 추가\n",
    "d"
   ]
  },
  {
   "cell_type": "markdown",
   "id": "487d7735",
   "metadata": {},
   "source": [
    "### 행의 수 \n",
    "-  len( DataFrame객체) \n",
    "### 열의 수 \n",
    "- len( DataFrame객체.loc[행이름]  )\n",
    "- len(DataFrame객체.iloc[행번호]  )"
   ]
  },
  {
   "cell_type": "code",
   "execution_count": 133,
   "id": "42779d3d",
   "metadata": {},
   "outputs": [
    {
     "data": {
      "text/plain": [
       "(8, 4)"
      ]
     },
     "execution_count": 133,
     "metadata": {},
     "output_type": "execute_result"
    }
   ],
   "source": [
    "d.shape"
   ]
  },
  {
   "cell_type": "code",
   "execution_count": 134,
   "id": "34af090c",
   "metadata": {},
   "outputs": [
    {
     "data": {
      "text/plain": [
       "8"
      ]
     },
     "execution_count": 134,
     "metadata": {},
     "output_type": "execute_result"
    }
   ],
   "source": [
    "len(d) #행의 수"
   ]
  },
  {
   "cell_type": "code",
   "execution_count": 135,
   "id": "c6dc7cea",
   "metadata": {},
   "outputs": [
    {
     "data": {
      "text/plain": [
       "4"
      ]
     },
     "execution_count": 135,
     "metadata": {},
     "output_type": "execute_result"
    }
   ],
   "source": [
    "len(d.loc['철수']) #열의 수"
   ]
  },
  {
   "cell_type": "code",
   "execution_count": 136,
   "id": "32354201",
   "metadata": {},
   "outputs": [
    {
     "data": {
      "text/plain": [
       "4"
      ]
     },
     "execution_count": 136,
     "metadata": {},
     "output_type": "execute_result"
    }
   ],
   "source": [
    "len(d.iloc[0]) #integer loc"
   ]
  },
  {
   "cell_type": "markdown",
   "id": "cb6fa994",
   "metadata": {},
   "source": [
    "### 열 indexing: DataFrame객체[column명] 또는 DataFrame객체.column명\n",
    "### 행 slicing: Series와 동일\n",
    "- DataFrame객체[행번호 : 행번호] \n",
    "- DataFrame객체[index명 : index명] \n",
    "### 열과 행 같이 선택\n",
    "- DataFrame객체[column명][행번호:행번호]\n",
    "- DataFrame객체[column명][index명: index명] \n",
    "- DataFrame객체.column명[행번호:행번호] \n",
    "- DataFrame객체.column명[index명 : index명]\n",
    "### 행 선택\n",
    "- loc를 이용한 행 선택\n",
    "- iloc를 이용한 행 선택"
   ]
  },
  {
   "cell_type": "code",
   "execution_count": 140,
   "id": "c3f91769",
   "metadata": {},
   "outputs": [
    {
     "data": {
      "text/html": [
       "<div>\n",
       "<style scoped>\n",
       "    .dataframe tbody tr th:only-of-type {\n",
       "        vertical-align: middle;\n",
       "    }\n",
       "\n",
       "    .dataframe tbody tr th {\n",
       "        vertical-align: top;\n",
       "    }\n",
       "\n",
       "    .dataframe thead th {\n",
       "        text-align: right;\n",
       "    }\n",
       "</style>\n",
       "<table border=\"1\" class=\"dataframe\">\n",
       "  <thead>\n",
       "    <tr style=\"text-align: right;\">\n",
       "      <th></th>\n",
       "      <th>국어</th>\n",
       "      <th>영어</th>\n",
       "      <th>수학</th>\n",
       "    </tr>\n",
       "  </thead>\n",
       "  <tbody>\n",
       "    <tr>\n",
       "      <th>철수</th>\n",
       "      <td>84</td>\n",
       "      <td>87</td>\n",
       "      <td>78</td>\n",
       "    </tr>\n",
       "    <tr>\n",
       "      <th>영이</th>\n",
       "      <td>21</td>\n",
       "      <td>15</td>\n",
       "      <td>84</td>\n",
       "    </tr>\n",
       "    <tr>\n",
       "      <th>길동</th>\n",
       "      <td>87</td>\n",
       "      <td>84</td>\n",
       "      <td>76</td>\n",
       "    </tr>\n",
       "    <tr>\n",
       "      <th>미영</th>\n",
       "      <td>100</td>\n",
       "      <td>87</td>\n",
       "      <td>99</td>\n",
       "    </tr>\n",
       "    <tr>\n",
       "      <th>순이</th>\n",
       "      <td>59</td>\n",
       "      <td>99</td>\n",
       "      <td>59</td>\n",
       "    </tr>\n",
       "    <tr>\n",
       "      <th>철이</th>\n",
       "      <td>46</td>\n",
       "      <td>77</td>\n",
       "      <td>56</td>\n",
       "    </tr>\n",
       "  </tbody>\n",
       "</table>\n",
       "</div>"
      ],
      "text/plain": [
       "     국어  영어  수학\n",
       "철수   84  87  78\n",
       "영이   21  15  84\n",
       "길동   87  84  76\n",
       "미영  100  87  99\n",
       "순이   59  99  59\n",
       "철이   46  77  56"
      ]
     },
     "execution_count": 140,
     "metadata": {},
     "output_type": "execute_result"
    }
   ],
   "source": [
    "d = d1.copy()\n",
    "d"
   ]
  },
  {
   "cell_type": "code",
   "execution_count": 141,
   "id": "9571b600",
   "metadata": {},
   "outputs": [
    {
     "data": {
      "text/html": [
       "<div>\n",
       "<style scoped>\n",
       "    .dataframe tbody tr th:only-of-type {\n",
       "        vertical-align: middle;\n",
       "    }\n",
       "\n",
       "    .dataframe tbody tr th {\n",
       "        vertical-align: top;\n",
       "    }\n",
       "\n",
       "    .dataframe thead th {\n",
       "        text-align: right;\n",
       "    }\n",
       "</style>\n",
       "<table border=\"1\" class=\"dataframe\">\n",
       "  <thead>\n",
       "    <tr style=\"text-align: right;\">\n",
       "      <th></th>\n",
       "      <th>국어</th>\n",
       "      <th>영어</th>\n",
       "      <th>수학</th>\n",
       "    </tr>\n",
       "  </thead>\n",
       "  <tbody>\n",
       "    <tr>\n",
       "      <th>영이</th>\n",
       "      <td>21</td>\n",
       "      <td>15</td>\n",
       "      <td>84</td>\n",
       "    </tr>\n",
       "    <tr>\n",
       "      <th>길동</th>\n",
       "      <td>87</td>\n",
       "      <td>84</td>\n",
       "      <td>76</td>\n",
       "    </tr>\n",
       "  </tbody>\n",
       "</table>\n",
       "</div>"
      ],
      "text/plain": [
       "    국어  영어  수학\n",
       "영이  21  15  84\n",
       "길동  87  84  76"
      ]
     },
     "execution_count": 141,
     "metadata": {},
     "output_type": "execute_result"
    }
   ],
   "source": [
    "d[1:3]"
   ]
  },
  {
   "cell_type": "code",
   "execution_count": 143,
   "id": "30e84081",
   "metadata": {},
   "outputs": [
    {
     "data": {
      "text/html": [
       "<div>\n",
       "<style scoped>\n",
       "    .dataframe tbody tr th:only-of-type {\n",
       "        vertical-align: middle;\n",
       "    }\n",
       "\n",
       "    .dataframe tbody tr th {\n",
       "        vertical-align: top;\n",
       "    }\n",
       "\n",
       "    .dataframe thead th {\n",
       "        text-align: right;\n",
       "    }\n",
       "</style>\n",
       "<table border=\"1\" class=\"dataframe\">\n",
       "  <thead>\n",
       "    <tr style=\"text-align: right;\">\n",
       "      <th></th>\n",
       "      <th>국어</th>\n",
       "      <th>영어</th>\n",
       "      <th>수학</th>\n",
       "    </tr>\n",
       "  </thead>\n",
       "  <tbody>\n",
       "    <tr>\n",
       "      <th>길동</th>\n",
       "      <td>87</td>\n",
       "      <td>84</td>\n",
       "      <td>76</td>\n",
       "    </tr>\n",
       "    <tr>\n",
       "      <th>미영</th>\n",
       "      <td>100</td>\n",
       "      <td>87</td>\n",
       "      <td>99</td>\n",
       "    </tr>\n",
       "    <tr>\n",
       "      <th>순이</th>\n",
       "      <td>59</td>\n",
       "      <td>99</td>\n",
       "      <td>59</td>\n",
       "    </tr>\n",
       "  </tbody>\n",
       "</table>\n",
       "</div>"
      ],
      "text/plain": [
       "     국어  영어  수학\n",
       "길동   87  84  76\n",
       "미영  100  87  99\n",
       "순이   59  99  59"
      ]
     },
     "execution_count": 143,
     "metadata": {},
     "output_type": "execute_result"
    }
   ],
   "source": [
    "d['길동' : '순이']"
   ]
  },
  {
   "cell_type": "code",
   "execution_count": 146,
   "id": "67340a25",
   "metadata": {},
   "outputs": [
    {
     "data": {
      "text/plain": [
       "영이    21\n",
       "길동    87\n",
       "Name: 국어, dtype: int64"
      ]
     },
     "execution_count": 146,
     "metadata": {},
     "output_type": "execute_result"
    }
   ],
   "source": [
    "d['국어'][1:3] #d.국어[1:3] #열, 행 순서"
   ]
  },
  {
   "cell_type": "code",
   "execution_count": 147,
   "id": "1ba8d525",
   "metadata": {},
   "outputs": [
    {
     "data": {
      "text/plain": [
       "철수    78\n",
       "영이    84\n",
       "길동    76\n",
       "Name: 수학, dtype: int64"
      ]
     },
     "execution_count": 147,
     "metadata": {},
     "output_type": "execute_result"
    }
   ],
   "source": [
    "d['수학']['철수' : '길동'] #d.수학['철수' : '길동']"
   ]
  },
  {
   "cell_type": "code",
   "execution_count": 148,
   "id": "ab574acf",
   "metadata": {},
   "outputs": [
    {
     "data": {
      "text/plain": [
       "국어    84\n",
       "영어    87\n",
       "수학    78\n",
       "Name: 철수, dtype: int64"
      ]
     },
     "execution_count": 148,
     "metadata": {},
     "output_type": "execute_result"
    }
   ],
   "source": [
    "d.loc['철수', '국어':'수학'] #numpy와 비슷 #행, 열 순서"
   ]
  },
  {
   "cell_type": "code",
   "execution_count": 150,
   "id": "9c57c0c3",
   "metadata": {},
   "outputs": [
    {
     "data": {
      "text/plain": [
       "국어    84\n",
       "영어    87\n",
       "수학    78\n",
       "Name: 철수, dtype: int64"
      ]
     },
     "execution_count": 150,
     "metadata": {},
     "output_type": "execute_result"
    }
   ],
   "source": [
    "d.iloc[0]"
   ]
  },
  {
   "cell_type": "code",
   "execution_count": 152,
   "id": "44197866",
   "metadata": {},
   "outputs": [
    {
     "data": {
      "text/plain": [
       "87"
      ]
     },
     "execution_count": 152,
     "metadata": {},
     "output_type": "execute_result"
    }
   ],
   "source": [
    "d.iloc[0, 1] #행,열 순서"
   ]
  },
  {
   "cell_type": "code",
   "execution_count": 154,
   "id": "4fc98c7f",
   "metadata": {},
   "outputs": [
    {
     "data": {
      "text/html": [
       "<div>\n",
       "<style scoped>\n",
       "    .dataframe tbody tr th:only-of-type {\n",
       "        vertical-align: middle;\n",
       "    }\n",
       "\n",
       "    .dataframe tbody tr th {\n",
       "        vertical-align: top;\n",
       "    }\n",
       "\n",
       "    .dataframe thead th {\n",
       "        text-align: right;\n",
       "    }\n",
       "</style>\n",
       "<table border=\"1\" class=\"dataframe\">\n",
       "  <thead>\n",
       "    <tr style=\"text-align: right;\">\n",
       "      <th></th>\n",
       "      <th>국어</th>\n",
       "      <th>영어</th>\n",
       "      <th>수학</th>\n",
       "    </tr>\n",
       "  </thead>\n",
       "  <tbody>\n",
       "    <tr>\n",
       "      <th>영이</th>\n",
       "      <td>21</td>\n",
       "      <td>15</td>\n",
       "      <td>84</td>\n",
       "    </tr>\n",
       "    <tr>\n",
       "      <th>길동</th>\n",
       "      <td>87</td>\n",
       "      <td>84</td>\n",
       "      <td>76</td>\n",
       "    </tr>\n",
       "  </tbody>\n",
       "</table>\n",
       "</div>"
      ],
      "text/plain": [
       "    국어  영어  수학\n",
       "영이  21  15  84\n",
       "길동  87  84  76"
      ]
     },
     "execution_count": 154,
     "metadata": {},
     "output_type": "execute_result"
    }
   ],
   "source": [
    "d.iloc[[1,2]] #리스트(1번행, 2번행) #추출하려는 행의 번호"
   ]
  },
  {
   "cell_type": "markdown",
   "id": "96919b28",
   "metadata": {},
   "source": [
    "### 산술 연산"
   ]
  },
  {
   "cell_type": "code",
   "execution_count": 159,
   "id": "e5f3026d",
   "metadata": {},
   "outputs": [
    {
     "data": {
      "text/plain": [
       "국어    105\n",
       "영어    102\n",
       "수학    162\n",
       "dtype: int64"
      ]
     },
     "execution_count": 159,
     "metadata": {},
     "output_type": "execute_result"
    }
   ],
   "source": [
    "d.iloc[0] + d.iloc[1] #결과 : Series type\n",
    "#철수와 영희의 점수의 합"
   ]
  },
  {
   "cell_type": "code",
   "execution_count": 161,
   "id": "2fc1c022",
   "metadata": {},
   "outputs": [
    {
     "data": {
      "text/plain": [
       "국어    397\n",
       "영어    449\n",
       "수학    452\n",
       "dtype: int64"
      ]
     },
     "execution_count": 161,
     "metadata": {},
     "output_type": "execute_result"
    }
   ],
   "source": [
    "d.sum() #열의 합 (축번호 0)"
   ]
  },
  {
   "cell_type": "code",
   "execution_count": 163,
   "id": "54731289",
   "metadata": {},
   "outputs": [
    {
     "data": {
      "text/plain": [
       "철수    249\n",
       "영이    120\n",
       "길동    247\n",
       "미영    286\n",
       "순이    217\n",
       "철이    179\n",
       "dtype: int64"
      ]
     },
     "execution_count": 163,
     "metadata": {},
     "output_type": "execute_result"
    }
   ],
   "source": [
    "d.sum(axis = 1)"
   ]
  },
  {
   "cell_type": "code",
   "execution_count": 164,
   "id": "7d5dff94",
   "metadata": {},
   "outputs": [
    {
     "data": {
      "text/html": [
       "<div>\n",
       "<style scoped>\n",
       "    .dataframe tbody tr th:only-of-type {\n",
       "        vertical-align: middle;\n",
       "    }\n",
       "\n",
       "    .dataframe tbody tr th {\n",
       "        vertical-align: top;\n",
       "    }\n",
       "\n",
       "    .dataframe thead th {\n",
       "        text-align: right;\n",
       "    }\n",
       "</style>\n",
       "<table border=\"1\" class=\"dataframe\">\n",
       "  <thead>\n",
       "    <tr style=\"text-align: right;\">\n",
       "      <th></th>\n",
       "      <th>국어</th>\n",
       "      <th>영어</th>\n",
       "      <th>수학</th>\n",
       "    </tr>\n",
       "  </thead>\n",
       "  <tbody>\n",
       "    <tr>\n",
       "      <th>철수</th>\n",
       "      <td>84</td>\n",
       "      <td>87</td>\n",
       "      <td>78</td>\n",
       "    </tr>\n",
       "    <tr>\n",
       "      <th>영이</th>\n",
       "      <td>21</td>\n",
       "      <td>15</td>\n",
       "      <td>78</td>\n",
       "    </tr>\n",
       "    <tr>\n",
       "      <th>길동</th>\n",
       "      <td>87</td>\n",
       "      <td>84</td>\n",
       "      <td>76</td>\n",
       "    </tr>\n",
       "    <tr>\n",
       "      <th>미영</th>\n",
       "      <td>100</td>\n",
       "      <td>87</td>\n",
       "      <td>99</td>\n",
       "    </tr>\n",
       "    <tr>\n",
       "      <th>순이</th>\n",
       "      <td>59</td>\n",
       "      <td>99</td>\n",
       "      <td>59</td>\n",
       "    </tr>\n",
       "    <tr>\n",
       "      <th>철이</th>\n",
       "      <td>46</td>\n",
       "      <td>77</td>\n",
       "      <td>56</td>\n",
       "    </tr>\n",
       "  </tbody>\n",
       "</table>\n",
       "</div>"
      ],
      "text/plain": [
       "     국어  영어  수학\n",
       "철수   84  87  78\n",
       "영이   21  15  78\n",
       "길동   87  84  76\n",
       "미영  100  87  99\n",
       "순이   59  99  59\n",
       "철이   46  77  56"
      ]
     },
     "execution_count": 164,
     "metadata": {},
     "output_type": "execute_result"
    }
   ],
   "source": [
    "d.수학['영이'] = 78 #d['수학']['영이'] = 78  #열 우선\n",
    "d"
   ]
  },
  {
   "cell_type": "markdown",
   "id": "044034d6",
   "metadata": {},
   "source": [
    "### 비교/논리 연산\n",
    "- 비교 연산자: ==, != , >, >=, <, <=\n",
    "- 논리 연산자 (Numpy와 동일): & (AND), |(OR), ~(NOT) \n",
    "- df.any() : df의 요소에 True가 있으면 True 반환\n",
    "- df.all() : df의 모든 요소가 True 이면 True 반환\n",
    "### 논리 연산과 filtering\n",
    "- value_counts(): 유일한 값을 가지는 행의 수를 계산 "
   ]
  },
  {
   "cell_type": "code",
   "execution_count": 166,
   "id": "de596ff5",
   "metadata": {},
   "outputs": [
    {
     "data": {
      "text/plain": [
       "78    2\n",
       "76    1\n",
       "99    1\n",
       "59    1\n",
       "56    1\n",
       "Name: 수학, dtype: int64"
      ]
     },
     "execution_count": 166,
     "metadata": {},
     "output_type": "execute_result"
    }
   ],
   "source": [
    "d.수학.value_counts() #dtype은 value의 데이터 타입"
   ]
  },
  {
   "cell_type": "code",
   "execution_count": 172,
   "id": "586468bb",
   "metadata": {},
   "outputs": [
    {
     "data": {
      "text/html": [
       "<div>\n",
       "<style scoped>\n",
       "    .dataframe tbody tr th:only-of-type {\n",
       "        vertical-align: middle;\n",
       "    }\n",
       "\n",
       "    .dataframe tbody tr th {\n",
       "        vertical-align: top;\n",
       "    }\n",
       "\n",
       "    .dataframe thead th {\n",
       "        text-align: right;\n",
       "    }\n",
       "</style>\n",
       "<table border=\"1\" class=\"dataframe\">\n",
       "  <thead>\n",
       "    <tr style=\"text-align: right;\">\n",
       "      <th></th>\n",
       "      <th>국어</th>\n",
       "      <th>영어</th>\n",
       "      <th>수학</th>\n",
       "    </tr>\n",
       "  </thead>\n",
       "  <tbody>\n",
       "    <tr>\n",
       "      <th>철수</th>\n",
       "      <td>84</td>\n",
       "      <td>87</td>\n",
       "      <td>78</td>\n",
       "    </tr>\n",
       "    <tr>\n",
       "      <th>영이</th>\n",
       "      <td>21</td>\n",
       "      <td>15</td>\n",
       "      <td>78</td>\n",
       "    </tr>\n",
       "    <tr>\n",
       "      <th>길동</th>\n",
       "      <td>87</td>\n",
       "      <td>84</td>\n",
       "      <td>76</td>\n",
       "    </tr>\n",
       "    <tr>\n",
       "      <th>미영</th>\n",
       "      <td>100</td>\n",
       "      <td>87</td>\n",
       "      <td>99</td>\n",
       "    </tr>\n",
       "  </tbody>\n",
       "</table>\n",
       "</div>"
      ],
      "text/plain": [
       "     국어  영어  수학\n",
       "철수   84  87  78\n",
       "영이   21  15  78\n",
       "길동   87  84  76\n",
       "미영  100  87  99"
      ]
     },
     "execution_count": 172,
     "metadata": {},
     "output_type": "execute_result"
    }
   ],
   "source": [
    "#수학 점수가 60점 초과인 학생은?\n",
    "x = d.수학 > 60\n",
    "d[x] #d[x].index.value_counts().sum() / len(d[x].index)"
   ]
  },
  {
   "cell_type": "code",
   "execution_count": 176,
   "id": "9d2b4268",
   "metadata": {},
   "outputs": [
    {
     "data": {
      "text/plain": [
       "Index(['철수', '영이', '길동'], dtype='object')"
      ]
     },
     "execution_count": 176,
     "metadata": {},
     "output_type": "execute_result"
    }
   ],
   "source": [
    "#수학 점수가 60점 이상, 80점 미만인 학생은?\n",
    "d[(d.수학 >= 60) & (d.수학 < 80)].index #괄호 필수"
   ]
  },
  {
   "cell_type": "code",
   "execution_count": 178,
   "id": "6b6172ad",
   "metadata": {},
   "outputs": [
    {
     "data": {
      "text/plain": [
       "3"
      ]
     },
     "execution_count": 178,
     "metadata": {},
     "output_type": "execute_result"
    }
   ],
   "source": [
    "#전 과목에서 70점이상 점수를 받은 학생은?\n",
    "d[d >= 70].value_counts().sum()"
   ]
  },
  {
   "cell_type": "markdown",
   "id": "3ecc32fd",
   "metadata": {},
   "source": [
    "### 열 기준 정렬하기\n",
    "- index 기준: DataFrame객체.sort_index(ascending = True/False)\n",
    "- 특정 열 기준: DataFrame객체.sort_values(by = 'column명', ascending = True/False)\n"
   ]
  },
  {
   "cell_type": "code",
   "execution_count": 184,
   "id": "3c6f42ad",
   "metadata": {},
   "outputs": [
    {
     "data": {
      "text/html": [
       "<div>\n",
       "<style scoped>\n",
       "    .dataframe tbody tr th:only-of-type {\n",
       "        vertical-align: middle;\n",
       "    }\n",
       "\n",
       "    .dataframe tbody tr th {\n",
       "        vertical-align: top;\n",
       "    }\n",
       "\n",
       "    .dataframe thead th {\n",
       "        text-align: right;\n",
       "    }\n",
       "</style>\n",
       "<table border=\"1\" class=\"dataframe\">\n",
       "  <thead>\n",
       "    <tr style=\"text-align: right;\">\n",
       "      <th></th>\n",
       "      <th>국어</th>\n",
       "      <th>영어</th>\n",
       "      <th>수학</th>\n",
       "    </tr>\n",
       "  </thead>\n",
       "  <tbody>\n",
       "    <tr>\n",
       "      <th>길동</th>\n",
       "      <td>87</td>\n",
       "      <td>84</td>\n",
       "      <td>76</td>\n",
       "    </tr>\n",
       "    <tr>\n",
       "      <th>미영</th>\n",
       "      <td>100</td>\n",
       "      <td>87</td>\n",
       "      <td>99</td>\n",
       "    </tr>\n",
       "    <tr>\n",
       "      <th>순이</th>\n",
       "      <td>59</td>\n",
       "      <td>99</td>\n",
       "      <td>59</td>\n",
       "    </tr>\n",
       "    <tr>\n",
       "      <th>영이</th>\n",
       "      <td>21</td>\n",
       "      <td>15</td>\n",
       "      <td>78</td>\n",
       "    </tr>\n",
       "    <tr>\n",
       "      <th>철수</th>\n",
       "      <td>84</td>\n",
       "      <td>87</td>\n",
       "      <td>78</td>\n",
       "    </tr>\n",
       "    <tr>\n",
       "      <th>철이</th>\n",
       "      <td>46</td>\n",
       "      <td>77</td>\n",
       "      <td>56</td>\n",
       "    </tr>\n",
       "  </tbody>\n",
       "</table>\n",
       "</div>"
      ],
      "text/plain": [
       "     국어  영어  수학\n",
       "길동   87  84  76\n",
       "미영  100  87  99\n",
       "순이   59  99  59\n",
       "영이   21  15  78\n",
       "철수   84  87  78\n",
       "철이   46  77  56"
      ]
     },
     "execution_count": 184,
     "metadata": {},
     "output_type": "execute_result"
    }
   ],
   "source": [
    "d.sort_index() #index기준으로 정렬 #가나다순(default 오름차순)"
   ]
  },
  {
   "cell_type": "code",
   "execution_count": 185,
   "id": "1b0eadb9",
   "metadata": {},
   "outputs": [
    {
     "data": {
      "text/html": [
       "<div>\n",
       "<style scoped>\n",
       "    .dataframe tbody tr th:only-of-type {\n",
       "        vertical-align: middle;\n",
       "    }\n",
       "\n",
       "    .dataframe tbody tr th {\n",
       "        vertical-align: top;\n",
       "    }\n",
       "\n",
       "    .dataframe thead th {\n",
       "        text-align: right;\n",
       "    }\n",
       "</style>\n",
       "<table border=\"1\" class=\"dataframe\">\n",
       "  <thead>\n",
       "    <tr style=\"text-align: right;\">\n",
       "      <th></th>\n",
       "      <th>국어</th>\n",
       "      <th>영어</th>\n",
       "      <th>수학</th>\n",
       "    </tr>\n",
       "  </thead>\n",
       "  <tbody>\n",
       "    <tr>\n",
       "      <th>미영</th>\n",
       "      <td>100</td>\n",
       "      <td>87</td>\n",
       "      <td>99</td>\n",
       "    </tr>\n",
       "    <tr>\n",
       "      <th>길동</th>\n",
       "      <td>87</td>\n",
       "      <td>84</td>\n",
       "      <td>76</td>\n",
       "    </tr>\n",
       "    <tr>\n",
       "      <th>철수</th>\n",
       "      <td>84</td>\n",
       "      <td>87</td>\n",
       "      <td>78</td>\n",
       "    </tr>\n",
       "    <tr>\n",
       "      <th>순이</th>\n",
       "      <td>59</td>\n",
       "      <td>99</td>\n",
       "      <td>59</td>\n",
       "    </tr>\n",
       "    <tr>\n",
       "      <th>철이</th>\n",
       "      <td>46</td>\n",
       "      <td>77</td>\n",
       "      <td>56</td>\n",
       "    </tr>\n",
       "    <tr>\n",
       "      <th>영이</th>\n",
       "      <td>21</td>\n",
       "      <td>15</td>\n",
       "      <td>78</td>\n",
       "    </tr>\n",
       "  </tbody>\n",
       "</table>\n",
       "</div>"
      ],
      "text/plain": [
       "     국어  영어  수학\n",
       "미영  100  87  99\n",
       "길동   87  84  76\n",
       "철수   84  87  78\n",
       "순이   59  99  59\n",
       "철이   46  77  56\n",
       "영이   21  15  78"
      ]
     },
     "execution_count": 185,
     "metadata": {},
     "output_type": "execute_result"
    }
   ],
   "source": [
    "d.sort_values(by = '국어', ascending = False) #국어를 기준으로 내림차순"
   ]
  },
  {
   "cell_type": "markdown",
   "id": "071d4470",
   "metadata": {},
   "source": [
    "### 평균값\n",
    "- 모든 열의 평균값: DataFrame객체.mean()\n",
    "- 특정 열의 평균값: DataFrame객체['column명'].mean()"
   ]
  },
  {
   "cell_type": "code",
   "execution_count": 187,
   "id": "9439417e",
   "metadata": {},
   "outputs": [
    {
     "data": {
      "text/plain": [
       "국어    66.166667\n",
       "영어    74.833333\n",
       "수학    74.333333\n",
       "dtype: float64"
      ]
     },
     "execution_count": 187,
     "metadata": {},
     "output_type": "execute_result"
    }
   ],
   "source": [
    "d.mean()"
   ]
  },
  {
   "cell_type": "code",
   "execution_count": 188,
   "id": "a90306b5",
   "metadata": {},
   "outputs": [
    {
     "data": {
      "text/plain": [
       "66.16666666666667"
      ]
     },
     "execution_count": 188,
     "metadata": {},
     "output_type": "execute_result"
    }
   ],
   "source": [
    "d.국어.mean()"
   ]
  },
  {
   "cell_type": "markdown",
   "id": "4c600c37",
   "metadata": {},
   "source": [
    "### 중간값\n",
    "- 모든 열의 중간값: DataFrame객체.median()\n",
    "- 특정 열의 중간값: DataFrame객체['column명']. median()\n"
   ]
  },
  {
   "cell_type": "code",
   "execution_count": 186,
   "id": "4a944190",
   "metadata": {},
   "outputs": [
    {
     "data": {
      "text/plain": [
       "71.5"
      ]
     },
     "execution_count": 186,
     "metadata": {},
     "output_type": "execute_result"
    }
   ],
   "source": [
    "d.국어.median()"
   ]
  },
  {
   "cell_type": "markdown",
   "id": "f4cb41fb",
   "metadata": {},
   "source": [
    "### 최댓값, 최솟값, 표준편차\n",
    "- 모든 열의 최대값: DataFrame객체.max()\n",
    "- 특정 열의 최대값: DataFrame객체['column명']. max()"
   ]
  },
  {
   "cell_type": "code",
   "execution_count": 190,
   "id": "0f152629",
   "metadata": {},
   "outputs": [
    {
     "data": {
      "text/plain": [
       "국어    100\n",
       "영어     99\n",
       "수학     99\n",
       "dtype: int64"
      ]
     },
     "execution_count": 190,
     "metadata": {},
     "output_type": "execute_result"
    }
   ],
   "source": [
    "d.max() #과목 별 최댓값"
   ]
  },
  {
   "cell_type": "code",
   "execution_count": 193,
   "id": "9e78fa71",
   "metadata": {},
   "outputs": [
    {
     "data": {
      "text/plain": [
       "국어    21\n",
       "수학    56\n",
       "dtype: int64"
      ]
     },
     "execution_count": 193,
     "metadata": {},
     "output_type": "execute_result"
    }
   ],
   "source": [
    "d[['국어', '수학']].min()"
   ]
  },
  {
   "cell_type": "code",
   "execution_count": 195,
   "id": "bf6bf0e7",
   "metadata": {},
   "outputs": [
    {
     "data": {
      "text/plain": [
       "국어    29.647372\n",
       "영어    30.162339\n",
       "수학    15.552063\n",
       "dtype: float64"
      ]
     },
     "execution_count": 195,
     "metadata": {},
     "output_type": "execute_result"
    }
   ],
   "source": [
    "#표준편차\n",
    "d.std()"
   ]
  },
  {
   "cell_type": "code",
   "execution_count": 196,
   "id": "ca0b71b5",
   "metadata": {},
   "outputs": [
    {
     "data": {
      "text/plain": [
       "29.64737200270315"
      ]
     },
     "execution_count": 196,
     "metadata": {},
     "output_type": "execute_result"
    }
   ],
   "source": [
    "d.국어.std()"
   ]
  },
  {
   "cell_type": "markdown",
   "id": "12ace9f1",
   "metadata": {},
   "source": [
    "### 상관계수 : corr()\n",
    "- 두 변수간의 관계 강도를 나타냄\n",
    "- 모든 열의 상관계수: DataFrame객체.corr()\n",
    "- 특정 열의 상관계수 : DataFrame객체[column명 리스트].corr()\n"
   ]
  },
  {
   "cell_type": "code",
   "execution_count": 197,
   "id": "7306d0de",
   "metadata": {},
   "outputs": [
    {
     "data": {
      "text/html": [
       "<div>\n",
       "<style scoped>\n",
       "    .dataframe tbody tr th:only-of-type {\n",
       "        vertical-align: middle;\n",
       "    }\n",
       "\n",
       "    .dataframe tbody tr th {\n",
       "        vertical-align: top;\n",
       "    }\n",
       "\n",
       "    .dataframe thead th {\n",
       "        text-align: right;\n",
       "    }\n",
       "</style>\n",
       "<table border=\"1\" class=\"dataframe\">\n",
       "  <thead>\n",
       "    <tr style=\"text-align: right;\">\n",
       "      <th></th>\n",
       "      <th>국어</th>\n",
       "      <th>영어</th>\n",
       "      <th>수학</th>\n",
       "    </tr>\n",
       "  </thead>\n",
       "  <tbody>\n",
       "    <tr>\n",
       "      <th>국어</th>\n",
       "      <td>1.000000</td>\n",
       "      <td>0.739217</td>\n",
       "      <td>0.541629</td>\n",
       "    </tr>\n",
       "    <tr>\n",
       "      <th>영어</th>\n",
       "      <td>0.739217</td>\n",
       "      <td>1.000000</td>\n",
       "      <td>-0.114975</td>\n",
       "    </tr>\n",
       "    <tr>\n",
       "      <th>수학</th>\n",
       "      <td>0.541629</td>\n",
       "      <td>-0.114975</td>\n",
       "      <td>1.000000</td>\n",
       "    </tr>\n",
       "  </tbody>\n",
       "</table>\n",
       "</div>"
      ],
      "text/plain": [
       "          국어        영어        수학\n",
       "국어  1.000000  0.739217  0.541629\n",
       "영어  0.739217  1.000000 -0.114975\n",
       "수학  0.541629 -0.114975  1.000000"
      ]
     },
     "execution_count": 197,
     "metadata": {},
     "output_type": "execute_result"
    }
   ],
   "source": [
    "d.corr()"
   ]
  },
  {
   "cell_type": "markdown",
   "id": "fdb308be",
   "metadata": {},
   "source": [
    "## 파일 입출력\n",
    "### 엑셀 파일로 저장하기\n",
    "- DataFrame객체.to_excel('경로/파일명', encoding = '코딩방식')\n",
    "- 한글 encoding 방식: encoding = 코딩방식(utf-8이나 euc-kr 사용)\n",
    "### 엑셀 파일 읽어오기\n",
    "- DataFrame객체 = pd.read_excel('경로/파일명', sheet_name='시트명', encoding = '코딩방식')\n",
    "- 시트명을 넣어주지 않으면 1번째 시트에서 읽어 옴\n",
    "- index열 지정: index_col = 열번호\n"
   ]
  },
  {
   "cell_type": "code",
   "execution_count": 198,
   "id": "dea951de",
   "metadata": {},
   "outputs": [],
   "source": [
    "d1.to_excel(\"D:/Ai/scores.xlsx\", encoding='utf-8') #한글 utf-8"
   ]
  },
  {
   "cell_type": "code",
   "execution_count": 5,
   "id": "32f95cba",
   "metadata": {},
   "outputs": [],
   "source": [
    "d2 = pd.read_excel(\"D:/Ai/scores.xlsx\")"
   ]
  },
  {
   "cell_type": "code",
   "execution_count": 7,
   "id": "76bcc8ae",
   "metadata": {},
   "outputs": [
    {
     "data": {
      "text/html": [
       "<div>\n",
       "<style scoped>\n",
       "    .dataframe tbody tr th:only-of-type {\n",
       "        vertical-align: middle;\n",
       "    }\n",
       "\n",
       "    .dataframe tbody tr th {\n",
       "        vertical-align: top;\n",
       "    }\n",
       "\n",
       "    .dataframe thead th {\n",
       "        text-align: right;\n",
       "    }\n",
       "</style>\n",
       "<table border=\"1\" class=\"dataframe\">\n",
       "  <thead>\n",
       "    <tr style=\"text-align: right;\">\n",
       "      <th></th>\n",
       "      <th>Unnamed: 0</th>\n",
       "      <th>국어</th>\n",
       "      <th>영어</th>\n",
       "      <th>수학</th>\n",
       "    </tr>\n",
       "  </thead>\n",
       "  <tbody>\n",
       "    <tr>\n",
       "      <th>0</th>\n",
       "      <td>철수</td>\n",
       "      <td>84</td>\n",
       "      <td>87</td>\n",
       "      <td>78</td>\n",
       "    </tr>\n",
       "    <tr>\n",
       "      <th>1</th>\n",
       "      <td>영이</td>\n",
       "      <td>21</td>\n",
       "      <td>15</td>\n",
       "      <td>84</td>\n",
       "    </tr>\n",
       "    <tr>\n",
       "      <th>2</th>\n",
       "      <td>길동</td>\n",
       "      <td>87</td>\n",
       "      <td>84</td>\n",
       "      <td>76</td>\n",
       "    </tr>\n",
       "    <tr>\n",
       "      <th>3</th>\n",
       "      <td>미영</td>\n",
       "      <td>100</td>\n",
       "      <td>87</td>\n",
       "      <td>99</td>\n",
       "    </tr>\n",
       "    <tr>\n",
       "      <th>4</th>\n",
       "      <td>순이</td>\n",
       "      <td>59</td>\n",
       "      <td>99</td>\n",
       "      <td>59</td>\n",
       "    </tr>\n",
       "    <tr>\n",
       "      <th>5</th>\n",
       "      <td>철이</td>\n",
       "      <td>46</td>\n",
       "      <td>77</td>\n",
       "      <td>56</td>\n",
       "    </tr>\n",
       "  </tbody>\n",
       "</table>\n",
       "</div>"
      ],
      "text/plain": [
       "  Unnamed: 0   국어  영어  수학\n",
       "0         철수   84  87  78\n",
       "1         영이   21  15  84\n",
       "2         길동   87  84  76\n",
       "3         미영  100  87  99\n",
       "4         순이   59  99  59\n",
       "5         철이   46  77  56"
      ]
     },
     "execution_count": 7,
     "metadata": {},
     "output_type": "execute_result"
    }
   ],
   "source": [
    "d2"
   ]
  },
  {
   "cell_type": "code",
   "execution_count": 12,
   "id": "eaff2cf7",
   "metadata": {},
   "outputs": [
    {
     "data": {
      "text/html": [
       "<div>\n",
       "<style scoped>\n",
       "    .dataframe tbody tr th:only-of-type {\n",
       "        vertical-align: middle;\n",
       "    }\n",
       "\n",
       "    .dataframe tbody tr th {\n",
       "        vertical-align: top;\n",
       "    }\n",
       "\n",
       "    .dataframe thead th {\n",
       "        text-align: right;\n",
       "    }\n",
       "</style>\n",
       "<table border=\"1\" class=\"dataframe\">\n",
       "  <thead>\n",
       "    <tr style=\"text-align: right;\">\n",
       "      <th></th>\n",
       "      <th>국어</th>\n",
       "      <th>영어</th>\n",
       "      <th>수학</th>\n",
       "    </tr>\n",
       "  </thead>\n",
       "  <tbody>\n",
       "    <tr>\n",
       "      <th>철수</th>\n",
       "      <td>84</td>\n",
       "      <td>87</td>\n",
       "      <td>78</td>\n",
       "    </tr>\n",
       "    <tr>\n",
       "      <th>영이</th>\n",
       "      <td>21</td>\n",
       "      <td>15</td>\n",
       "      <td>84</td>\n",
       "    </tr>\n",
       "    <tr>\n",
       "      <th>길동</th>\n",
       "      <td>87</td>\n",
       "      <td>84</td>\n",
       "      <td>76</td>\n",
       "    </tr>\n",
       "    <tr>\n",
       "      <th>미영</th>\n",
       "      <td>100</td>\n",
       "      <td>87</td>\n",
       "      <td>99</td>\n",
       "    </tr>\n",
       "    <tr>\n",
       "      <th>순이</th>\n",
       "      <td>59</td>\n",
       "      <td>99</td>\n",
       "      <td>59</td>\n",
       "    </tr>\n",
       "    <tr>\n",
       "      <th>철이</th>\n",
       "      <td>46</td>\n",
       "      <td>77</td>\n",
       "      <td>56</td>\n",
       "    </tr>\n",
       "  </tbody>\n",
       "</table>\n",
       "</div>"
      ],
      "text/plain": [
       "     국어  영어  수학\n",
       "철수   84  87  78\n",
       "영이   21  15  84\n",
       "길동   87  84  76\n",
       "미영  100  87  99\n",
       "순이   59  99  59\n",
       "철이   46  77  56"
      ]
     },
     "execution_count": 12,
     "metadata": {},
     "output_type": "execute_result"
    }
   ],
   "source": [
    "d3 = pd.read_excel(\"D:/Ai/scores.xlsx\", index_col = 0) #0번 column을 index 지정\n",
    "d3"
   ]
  },
  {
   "cell_type": "markdown",
   "id": "6945bf47",
   "metadata": {},
   "source": [
    "### CSV(comma-separated values) 파일로 저장하기\n",
    "줄바꿈으로 행, comma 등으로 열을 구분하여 데이터를 저장하는 파일 형식\n",
    "DataFrame객체.to_csv('경로/파일명.csv', encoding = '코딩방식')\n",
    "한글 encoding 방식은 euc-kr 권장\n",
    "\n",
    "### CSV 파일 읽어오기\n",
    "DataFrame객체 = pd.read_csv('경로/파일명', encoding = '코딩방식')\n",
    "index열 지정: index_col = 열번호\n",
    "comma(,) 외의 구별 문자 지정: sep = 구별문자(보통 '\\t' 탭)\n",
    "\n",
    "\n"
   ]
  },
  {
   "cell_type": "code",
   "execution_count": 1,
   "id": "4e60be33",
   "metadata": {},
   "outputs": [
    {
     "ename": "NameError",
     "evalue": "name 'd1' is not defined",
     "output_type": "error",
     "traceback": [
      "\u001b[1;31m---------------------------------------------------------------------------\u001b[0m",
      "\u001b[1;31mNameError\u001b[0m                                 Traceback (most recent call last)",
      "Input \u001b[1;32mIn [1]\u001b[0m, in \u001b[0;36m<cell line: 1>\u001b[1;34m()\u001b[0m\n\u001b[1;32m----> 1\u001b[0m \u001b[43md1\u001b[49m\u001b[38;5;241m.\u001b[39mto_csv(\u001b[38;5;124m\"\u001b[39m\u001b[38;5;124mD:/Ai/scores.csv\u001b[39m\u001b[38;5;124m\"\u001b[39m)\n",
      "\u001b[1;31mNameError\u001b[0m: name 'd1' is not defined"
     ]
    }
   ],
   "source": [
    "d1.to_csv(\"D:/Ai/scores.csv\") #csv 파일로 저장하기"
   ]
  },
  {
   "cell_type": "code",
   "execution_count": 13,
   "id": "d9d43d49",
   "metadata": {},
   "outputs": [],
   "source": [
    "d1 = d3.copy()"
   ]
  },
  {
   "cell_type": "code",
   "execution_count": 14,
   "id": "6645b6cf",
   "metadata": {},
   "outputs": [
    {
     "data": {
      "text/html": [
       "<div>\n",
       "<style scoped>\n",
       "    .dataframe tbody tr th:only-of-type {\n",
       "        vertical-align: middle;\n",
       "    }\n",
       "\n",
       "    .dataframe tbody tr th {\n",
       "        vertical-align: top;\n",
       "    }\n",
       "\n",
       "    .dataframe thead th {\n",
       "        text-align: right;\n",
       "    }\n",
       "</style>\n",
       "<table border=\"1\" class=\"dataframe\">\n",
       "  <thead>\n",
       "    <tr style=\"text-align: right;\">\n",
       "      <th></th>\n",
       "      <th>Unnamed: 0</th>\n",
       "      <th>국어</th>\n",
       "      <th>영어</th>\n",
       "      <th>수학</th>\n",
       "    </tr>\n",
       "  </thead>\n",
       "  <tbody>\n",
       "    <tr>\n",
       "      <th>0</th>\n",
       "      <td>철수</td>\n",
       "      <td>84</td>\n",
       "      <td>87</td>\n",
       "      <td>78</td>\n",
       "    </tr>\n",
       "    <tr>\n",
       "      <th>1</th>\n",
       "      <td>영이</td>\n",
       "      <td>21</td>\n",
       "      <td>15</td>\n",
       "      <td>84</td>\n",
       "    </tr>\n",
       "    <tr>\n",
       "      <th>2</th>\n",
       "      <td>길동</td>\n",
       "      <td>87</td>\n",
       "      <td>84</td>\n",
       "      <td>76</td>\n",
       "    </tr>\n",
       "    <tr>\n",
       "      <th>3</th>\n",
       "      <td>미영</td>\n",
       "      <td>100</td>\n",
       "      <td>87</td>\n",
       "      <td>99</td>\n",
       "    </tr>\n",
       "    <tr>\n",
       "      <th>4</th>\n",
       "      <td>순이</td>\n",
       "      <td>59</td>\n",
       "      <td>99</td>\n",
       "      <td>59</td>\n",
       "    </tr>\n",
       "    <tr>\n",
       "      <th>5</th>\n",
       "      <td>철이</td>\n",
       "      <td>46</td>\n",
       "      <td>77</td>\n",
       "      <td>56</td>\n",
       "    </tr>\n",
       "  </tbody>\n",
       "</table>\n",
       "</div>"
      ],
      "text/plain": [
       "  Unnamed: 0   국어  영어  수학\n",
       "0         철수   84  87  78\n",
       "1         영이   21  15  84\n",
       "2         길동   87  84  76\n",
       "3         미영  100  87  99\n",
       "4         순이   59  99  59\n",
       "5         철이   46  77  56"
      ]
     },
     "execution_count": 14,
     "metadata": {},
     "output_type": "execute_result"
    }
   ],
   "source": [
    "d2 = pd.read_csv(\"D:/Ai/scores.csv\")\n",
    "d2"
   ]
  },
  {
   "cell_type": "code",
   "execution_count": 15,
   "id": "a49db190",
   "metadata": {},
   "outputs": [
    {
     "data": {
      "text/html": [
       "<div>\n",
       "<style scoped>\n",
       "    .dataframe tbody tr th:only-of-type {\n",
       "        vertical-align: middle;\n",
       "    }\n",
       "\n",
       "    .dataframe tbody tr th {\n",
       "        vertical-align: top;\n",
       "    }\n",
       "\n",
       "    .dataframe thead th {\n",
       "        text-align: right;\n",
       "    }\n",
       "</style>\n",
       "<table border=\"1\" class=\"dataframe\">\n",
       "  <thead>\n",
       "    <tr style=\"text-align: right;\">\n",
       "      <th></th>\n",
       "      <th>국어</th>\n",
       "      <th>영어</th>\n",
       "      <th>수학</th>\n",
       "    </tr>\n",
       "  </thead>\n",
       "  <tbody>\n",
       "    <tr>\n",
       "      <th>철수</th>\n",
       "      <td>84</td>\n",
       "      <td>87</td>\n",
       "      <td>78</td>\n",
       "    </tr>\n",
       "    <tr>\n",
       "      <th>영이</th>\n",
       "      <td>21</td>\n",
       "      <td>15</td>\n",
       "      <td>84</td>\n",
       "    </tr>\n",
       "    <tr>\n",
       "      <th>길동</th>\n",
       "      <td>87</td>\n",
       "      <td>84</td>\n",
       "      <td>76</td>\n",
       "    </tr>\n",
       "    <tr>\n",
       "      <th>미영</th>\n",
       "      <td>100</td>\n",
       "      <td>87</td>\n",
       "      <td>99</td>\n",
       "    </tr>\n",
       "    <tr>\n",
       "      <th>순이</th>\n",
       "      <td>59</td>\n",
       "      <td>99</td>\n",
       "      <td>59</td>\n",
       "    </tr>\n",
       "    <tr>\n",
       "      <th>철이</th>\n",
       "      <td>46</td>\n",
       "      <td>77</td>\n",
       "      <td>56</td>\n",
       "    </tr>\n",
       "  </tbody>\n",
       "</table>\n",
       "</div>"
      ],
      "text/plain": [
       "     국어  영어  수학\n",
       "철수   84  87  78\n",
       "영이   21  15  84\n",
       "길동   87  84  76\n",
       "미영  100  87  99\n",
       "순이   59  99  59\n",
       "철이   46  77  56"
      ]
     },
     "execution_count": 15,
     "metadata": {},
     "output_type": "execute_result"
    }
   ],
   "source": [
    "d3 = pd.read_csv(\"D:/Ai/scores.csv\", index_col = 0)\n",
    "d3"
   ]
  },
  {
   "cell_type": "markdown",
   "id": "a2453bf1",
   "metadata": {},
   "source": [
    "### JSON 파일로 저장하기\n",
    "DataFrame객체.to_json('경로/파일명')"
   ]
  },
  {
   "cell_type": "code",
   "execution_count": 202,
   "id": "b62acad9",
   "metadata": {},
   "outputs": [],
   "source": [
    "d1.to_json(\"D:/Ai/scores.json\")"
   ]
  },
  {
   "cell_type": "markdown",
   "id": "bf5bf64b",
   "metadata": {},
   "source": [
    "### JSON 파일 읽어오기"
   ]
  },
  {
   "cell_type": "code",
   "execution_count": 22,
   "id": "9da97769",
   "metadata": {},
   "outputs": [
    {
     "data": {
      "text/html": [
       "<div>\n",
       "<style scoped>\n",
       "    .dataframe tbody tr th:only-of-type {\n",
       "        vertical-align: middle;\n",
       "    }\n",
       "\n",
       "    .dataframe tbody tr th {\n",
       "        vertical-align: top;\n",
       "    }\n",
       "\n",
       "    .dataframe thead th {\n",
       "        text-align: right;\n",
       "    }\n",
       "</style>\n",
       "<table border=\"1\" class=\"dataframe\">\n",
       "  <thead>\n",
       "    <tr style=\"text-align: right;\">\n",
       "      <th></th>\n",
       "      <th>국어</th>\n",
       "      <th>영어</th>\n",
       "      <th>수학</th>\n",
       "    </tr>\n",
       "  </thead>\n",
       "  <tbody>\n",
       "    <tr>\n",
       "      <th>철수</th>\n",
       "      <td>84</td>\n",
       "      <td>87</td>\n",
       "      <td>78</td>\n",
       "    </tr>\n",
       "    <tr>\n",
       "      <th>영이</th>\n",
       "      <td>21</td>\n",
       "      <td>15</td>\n",
       "      <td>84</td>\n",
       "    </tr>\n",
       "    <tr>\n",
       "      <th>길동</th>\n",
       "      <td>87</td>\n",
       "      <td>84</td>\n",
       "      <td>76</td>\n",
       "    </tr>\n",
       "    <tr>\n",
       "      <th>미영</th>\n",
       "      <td>100</td>\n",
       "      <td>87</td>\n",
       "      <td>99</td>\n",
       "    </tr>\n",
       "    <tr>\n",
       "      <th>순이</th>\n",
       "      <td>59</td>\n",
       "      <td>99</td>\n",
       "      <td>59</td>\n",
       "    </tr>\n",
       "    <tr>\n",
       "      <th>철이</th>\n",
       "      <td>46</td>\n",
       "      <td>77</td>\n",
       "      <td>56</td>\n",
       "    </tr>\n",
       "  </tbody>\n",
       "</table>\n",
       "</div>"
      ],
      "text/plain": [
       "     국어  영어  수학\n",
       "철수   84  87  78\n",
       "영이   21  15  84\n",
       "길동   87  84  76\n",
       "미영  100  87  99\n",
       "순이   59  99  59\n",
       "철이   46  77  56"
      ]
     },
     "execution_count": 22,
     "metadata": {},
     "output_type": "execute_result"
    }
   ],
   "source": [
    "d2 = pd.read_json(\"D:/Ai/scores.json\") #자동으로 index가짐\n",
    "d2"
   ]
  },
  {
   "cell_type": "markdown",
   "id": "692c2930",
   "metadata": {},
   "source": [
    "#### 파일 읽어오기"
   ]
  },
  {
   "cell_type": "code",
   "execution_count": 18,
   "id": "89985d1b",
   "metadata": {},
   "outputs": [
    {
     "data": {
      "text/html": [
       "<div>\n",
       "<style scoped>\n",
       "    .dataframe tbody tr th:only-of-type {\n",
       "        vertical-align: middle;\n",
       "    }\n",
       "\n",
       "    .dataframe tbody tr th {\n",
       "        vertical-align: top;\n",
       "    }\n",
       "\n",
       "    .dataframe thead th {\n",
       "        text-align: right;\n",
       "    }\n",
       "</style>\n",
       "<table border=\"1\" class=\"dataframe\">\n",
       "  <thead>\n",
       "    <tr style=\"text-align: right;\">\n",
       "      <th></th>\n",
       "      <th>성별</th>\n",
       "      <th>점수</th>\n",
       "    </tr>\n",
       "  </thead>\n",
       "  <tbody>\n",
       "    <tr>\n",
       "      <th>철수</th>\n",
       "      <td>남</td>\n",
       "      <td>90</td>\n",
       "    </tr>\n",
       "    <tr>\n",
       "      <th>영이</th>\n",
       "      <td>여</td>\n",
       "      <td>90</td>\n",
       "    </tr>\n",
       "    <tr>\n",
       "      <th>길동</th>\n",
       "      <td>남</td>\n",
       "      <td>85</td>\n",
       "    </tr>\n",
       "    <tr>\n",
       "      <th>미영</th>\n",
       "      <td>여</td>\n",
       "      <td>99</td>\n",
       "    </tr>\n",
       "    <tr>\n",
       "      <th>순이</th>\n",
       "      <td>여</td>\n",
       "      <td>76</td>\n",
       "    </tr>\n",
       "    <tr>\n",
       "      <th>철이</th>\n",
       "      <td>남</td>\n",
       "      <td>98</td>\n",
       "    </tr>\n",
       "  </tbody>\n",
       "</table>\n",
       "</div>"
      ],
      "text/plain": [
       "   성별  점수\n",
       "철수  남  90\n",
       "영이  여  90\n",
       "길동  남  85\n",
       "미영  여  99\n",
       "순이  여  76\n",
       "철이  남  98"
      ]
     },
     "execution_count": 18,
     "metadata": {},
     "output_type": "execute_result"
    }
   ],
   "source": [
    "d = pd.read_csv(\"D:/Ai/scores_2.csv\", index_col = 0)\n",
    "d"
   ]
  },
  {
   "cell_type": "code",
   "execution_count": 20,
   "id": "ed26593c",
   "metadata": {},
   "outputs": [
    {
     "name": "stdout",
     "output_type": "stream",
     "text": [
      "Index(['철수', '영이', '길동', '미영', '순이', '철이'], dtype='object')\n",
      "Index(['성별', '점수'], dtype='object')\n",
      "[['남' 90]\n",
      " ['여' 90]\n",
      " ['남' 85]\n",
      " ['여' 99]\n",
      " ['여' 76]\n",
      " ['남' 98]]\n",
      "(6, 2)\n"
     ]
    }
   ],
   "source": [
    "print(d.index)\n",
    "print(d.columns)\n",
    "print(d.values)\n",
    "print(d.shape)"
   ]
  },
  {
   "cell_type": "markdown",
   "id": "f57efbf8",
   "metadata": {},
   "source": [
    "## 그룹화: 값이 같은 원소들끼리 그룹화\n",
    "DataFrame객체.groupby(기준이 되는 열의 리스트)\n"
   ]
  },
  {
   "cell_type": "code",
   "execution_count": 21,
   "id": "52f40a7e",
   "metadata": {},
   "outputs": [
    {
     "data": {
      "text/plain": [
       "<pandas.core.groupby.generic.DataFrameGroupBy object at 0x000001891298B250>"
      ]
     },
     "execution_count": 21,
     "metadata": {},
     "output_type": "execute_result"
    }
   ],
   "source": [
    "grouped = d.groupby(['성별'])\n",
    "grouped"
   ]
  },
  {
   "cell_type": "code",
   "execution_count": 23,
   "id": "b3cb6dd1",
   "metadata": {},
   "outputs": [
    {
     "name": "stdout",
     "output_type": "stream",
     "text": [
      "* key:  남\n",
      "* number:  3\n",
      "   성별  점수\n",
      "철수  남  90\n",
      "길동  남  85\n",
      "철이  남  98\n",
      "\n",
      "* key:  여\n",
      "* number:  3\n",
      "   성별  점수\n",
      "영이  여  90\n",
      "미영  여  99\n",
      "순이  여  76\n",
      "\n"
     ]
    }
   ],
   "source": [
    "for key, group in grouped: #성별을 기준으로 그룹화 되어있음\n",
    "    print('* key: ', key)\n",
    "    print('* number: ', len(group))\n",
    "    print(group)\n",
    "    print()"
   ]
  },
  {
   "cell_type": "markdown",
   "id": "40b75b24",
   "metadata": {},
   "source": [
    "### 그룹 연산: 데이터 집계\n",
    "- group객체.함수()  \n",
    "- (함수: mean(), max(), min(), sum(), count(), std(), 등등)\n"
   ]
  },
  {
   "cell_type": "code",
   "execution_count": 24,
   "id": "2a41f290",
   "metadata": {},
   "outputs": [
    {
     "data": {
      "text/html": [
       "<div>\n",
       "<style scoped>\n",
       "    .dataframe tbody tr th:only-of-type {\n",
       "        vertical-align: middle;\n",
       "    }\n",
       "\n",
       "    .dataframe tbody tr th {\n",
       "        vertical-align: top;\n",
       "    }\n",
       "\n",
       "    .dataframe thead th {\n",
       "        text-align: right;\n",
       "    }\n",
       "</style>\n",
       "<table border=\"1\" class=\"dataframe\">\n",
       "  <thead>\n",
       "    <tr style=\"text-align: right;\">\n",
       "      <th></th>\n",
       "      <th>점수</th>\n",
       "    </tr>\n",
       "    <tr>\n",
       "      <th>성별</th>\n",
       "      <th></th>\n",
       "    </tr>\n",
       "  </thead>\n",
       "  <tbody>\n",
       "    <tr>\n",
       "      <th>남</th>\n",
       "      <td>91.000000</td>\n",
       "    </tr>\n",
       "    <tr>\n",
       "      <th>여</th>\n",
       "      <td>88.333333</td>\n",
       "    </tr>\n",
       "  </tbody>\n",
       "</table>\n",
       "</div>"
      ],
      "text/plain": [
       "           점수\n",
       "성별           \n",
       "남   91.000000\n",
       "여   88.333333"
      ]
     },
     "execution_count": 24,
     "metadata": {},
     "output_type": "execute_result"
    }
   ],
   "source": [
    "mean_all = grouped.mean()\n",
    "mean_all"
   ]
  },
  {
   "cell_type": "markdown",
   "id": "80a1a459",
   "metadata": {},
   "source": [
    "### 그룹 연산: 데이터 변환\n",
    "- group객체.transform(매핑 함수)\n"
   ]
  },
  {
   "cell_type": "code",
   "execution_count": 26,
   "id": "0e0e1f11",
   "metadata": {},
   "outputs": [
    {
     "data": {
      "text/html": [
       "<div>\n",
       "<style scoped>\n",
       "    .dataframe tbody tr th:only-of-type {\n",
       "        vertical-align: middle;\n",
       "    }\n",
       "\n",
       "    .dataframe tbody tr th {\n",
       "        vertical-align: top;\n",
       "    }\n",
       "\n",
       "    .dataframe thead th {\n",
       "        text-align: right;\n",
       "    }\n",
       "</style>\n",
       "<table border=\"1\" class=\"dataframe\">\n",
       "  <thead>\n",
       "    <tr style=\"text-align: right;\">\n",
       "      <th></th>\n",
       "      <th>점수</th>\n",
       "    </tr>\n",
       "  </thead>\n",
       "  <tbody>\n",
       "    <tr>\n",
       "      <th>철수</th>\n",
       "      <td>-1.000000</td>\n",
       "    </tr>\n",
       "    <tr>\n",
       "      <th>영이</th>\n",
       "      <td>1.666667</td>\n",
       "    </tr>\n",
       "    <tr>\n",
       "      <th>길동</th>\n",
       "      <td>-6.000000</td>\n",
       "    </tr>\n",
       "    <tr>\n",
       "      <th>미영</th>\n",
       "      <td>10.666667</td>\n",
       "    </tr>\n",
       "    <tr>\n",
       "      <th>순이</th>\n",
       "      <td>-12.333333</td>\n",
       "    </tr>\n",
       "    <tr>\n",
       "      <th>철이</th>\n",
       "      <td>7.000000</td>\n",
       "    </tr>\n",
       "  </tbody>\n",
       "</table>\n",
       "</div>"
      ],
      "text/plain": [
       "           점수\n",
       "철수  -1.000000\n",
       "영이   1.666667\n",
       "길동  -6.000000\n",
       "미영  10.666667\n",
       "순이 -12.333333\n",
       "철이   7.000000"
      ]
     },
     "execution_count": 26,
     "metadata": {},
     "output_type": "execute_result"
    }
   ],
   "source": [
    "def diff(x):\n",
    "    return (x-x.mean())\n",
    "\n",
    "grouped.transform(diff) #자기 그룹과의 평균과 차이 구하기"
   ]
  },
  {
   "cell_type": "markdown",
   "id": "62d63645",
   "metadata": {},
   "source": [
    "### 그룹 연산: 그룹 객체 필터링\n",
    "- group객체.filter(조건식 함수)\n"
   ]
  },
  {
   "cell_type": "code",
   "execution_count": 28,
   "id": "ce6144c0",
   "metadata": {},
   "outputs": [
    {
     "data": {
      "text/html": [
       "<div>\n",
       "<style scoped>\n",
       "    .dataframe tbody tr th:only-of-type {\n",
       "        vertical-align: middle;\n",
       "    }\n",
       "\n",
       "    .dataframe tbody tr th {\n",
       "        vertical-align: top;\n",
       "    }\n",
       "\n",
       "    .dataframe thead th {\n",
       "        text-align: right;\n",
       "    }\n",
       "</style>\n",
       "<table border=\"1\" class=\"dataframe\">\n",
       "  <thead>\n",
       "    <tr style=\"text-align: right;\">\n",
       "      <th></th>\n",
       "      <th>성별</th>\n",
       "      <th>점수</th>\n",
       "    </tr>\n",
       "  </thead>\n",
       "  <tbody>\n",
       "    <tr>\n",
       "      <th>철수</th>\n",
       "      <td>남</td>\n",
       "      <td>90</td>\n",
       "    </tr>\n",
       "    <tr>\n",
       "      <th>길동</th>\n",
       "      <td>남</td>\n",
       "      <td>85</td>\n",
       "    </tr>\n",
       "    <tr>\n",
       "      <th>철이</th>\n",
       "      <td>남</td>\n",
       "      <td>98</td>\n",
       "    </tr>\n",
       "  </tbody>\n",
       "</table>\n",
       "</div>"
      ],
      "text/plain": [
       "   성별  점수\n",
       "철수  남  90\n",
       "길동  남  85\n",
       "철이  남  98"
      ]
     },
     "execution_count": 28,
     "metadata": {},
     "output_type": "execute_result"
    }
   ],
   "source": [
    "grouped.filter(lambda x : x.점수.mean() > 90) #평균이 90 초과인 그룹"
   ]
  },
  {
   "cell_type": "markdown",
   "id": "51e52374",
   "metadata": {},
   "source": [
    "### 전처리 함수"
   ]
  },
  {
   "cell_type": "markdown",
   "id": "f4aa05a3",
   "metadata": {},
   "source": [
    "### 누락 데이터 확인\n",
    "- isnull() : 누락 데이터이면 True를 반환하고, 유효한 데이터가 존재하면 False를 반환\n",
    "- notnull() : 유효한 데이터가 존재하면 True를 반환하고, 누락 데이터이면 False를 반환\n"
   ]
  },
  {
   "cell_type": "code",
   "execution_count": 29,
   "id": "21fdb8cf",
   "metadata": {},
   "outputs": [],
   "source": [
    "#데이터 프레임 준비\n",
    "d1 = pd.read_csv(\"D:/Ai/scores.csv\", index_col = 0)\n",
    "d2 = pd.read_csv(\"D:/Ai/scores_3.csv\", index_col = 0)"
   ]
  },
  {
   "cell_type": "code",
   "execution_count": 31,
   "id": "82e39814",
   "metadata": {},
   "outputs": [
    {
     "data": {
      "text/html": [
       "<div>\n",
       "<style scoped>\n",
       "    .dataframe tbody tr th:only-of-type {\n",
       "        vertical-align: middle;\n",
       "    }\n",
       "\n",
       "    .dataframe tbody tr th {\n",
       "        vertical-align: top;\n",
       "    }\n",
       "\n",
       "    .dataframe thead th {\n",
       "        text-align: right;\n",
       "    }\n",
       "</style>\n",
       "<table border=\"1\" class=\"dataframe\">\n",
       "  <thead>\n",
       "    <tr style=\"text-align: right;\">\n",
       "      <th></th>\n",
       "      <th>국어</th>\n",
       "      <th>영어</th>\n",
       "      <th>수학</th>\n",
       "    </tr>\n",
       "  </thead>\n",
       "  <tbody>\n",
       "    <tr>\n",
       "      <th>길동</th>\n",
       "      <td>167.0</td>\n",
       "      <td>174.0</td>\n",
       "      <td>156.0</td>\n",
       "    </tr>\n",
       "    <tr>\n",
       "      <th>미영</th>\n",
       "      <td>200.0</td>\n",
       "      <td>177.0</td>\n",
       "      <td>198.0</td>\n",
       "    </tr>\n",
       "    <tr>\n",
       "      <th>순이</th>\n",
       "      <td>136.0</td>\n",
       "      <td>194.0</td>\n",
       "      <td>129.0</td>\n",
       "    </tr>\n",
       "    <tr>\n",
       "      <th>슬기</th>\n",
       "      <td>NaN</td>\n",
       "      <td>NaN</td>\n",
       "      <td>NaN</td>\n",
       "    </tr>\n",
       "    <tr>\n",
       "      <th>영이</th>\n",
       "      <td>71.0</td>\n",
       "      <td>75.0</td>\n",
       "      <td>154.0</td>\n",
       "    </tr>\n",
       "    <tr>\n",
       "      <th>철수</th>\n",
       "      <td>164.0</td>\n",
       "      <td>167.0</td>\n",
       "      <td>168.0</td>\n",
       "    </tr>\n",
       "    <tr>\n",
       "      <th>철이</th>\n",
       "      <td>NaN</td>\n",
       "      <td>NaN</td>\n",
       "      <td>NaN</td>\n",
       "    </tr>\n",
       "  </tbody>\n",
       "</table>\n",
       "</div>"
      ],
      "text/plain": [
       "       국어     영어     수학\n",
       "길동  167.0  174.0  156.0\n",
       "미영  200.0  177.0  198.0\n",
       "순이  136.0  194.0  129.0\n",
       "슬기    NaN    NaN    NaN\n",
       "영이   71.0   75.0  154.0\n",
       "철수  164.0  167.0  168.0\n",
       "철이    NaN    NaN    NaN"
      ]
     },
     "execution_count": 31,
     "metadata": {},
     "output_type": "execute_result"
    }
   ],
   "source": [
    "d3 = d1 + d2 #자동으로 index찾아서 계산\n",
    "d3"
   ]
  },
  {
   "cell_type": "code",
   "execution_count": 33,
   "id": "22219f23",
   "metadata": {},
   "outputs": [
    {
     "data": {
      "text/html": [
       "<div>\n",
       "<style scoped>\n",
       "    .dataframe tbody tr th:only-of-type {\n",
       "        vertical-align: middle;\n",
       "    }\n",
       "\n",
       "    .dataframe tbody tr th {\n",
       "        vertical-align: top;\n",
       "    }\n",
       "\n",
       "    .dataframe thead th {\n",
       "        text-align: right;\n",
       "    }\n",
       "</style>\n",
       "<table border=\"1\" class=\"dataframe\">\n",
       "  <thead>\n",
       "    <tr style=\"text-align: right;\">\n",
       "      <th></th>\n",
       "      <th>국어</th>\n",
       "      <th>영어</th>\n",
       "      <th>수학</th>\n",
       "    </tr>\n",
       "  </thead>\n",
       "  <tbody>\n",
       "    <tr>\n",
       "      <th>길동</th>\n",
       "      <td>False</td>\n",
       "      <td>False</td>\n",
       "      <td>False</td>\n",
       "    </tr>\n",
       "    <tr>\n",
       "      <th>미영</th>\n",
       "      <td>False</td>\n",
       "      <td>False</td>\n",
       "      <td>False</td>\n",
       "    </tr>\n",
       "    <tr>\n",
       "      <th>순이</th>\n",
       "      <td>False</td>\n",
       "      <td>False</td>\n",
       "      <td>False</td>\n",
       "    </tr>\n",
       "    <tr>\n",
       "      <th>슬기</th>\n",
       "      <td>True</td>\n",
       "      <td>True</td>\n",
       "      <td>True</td>\n",
       "    </tr>\n",
       "    <tr>\n",
       "      <th>영이</th>\n",
       "      <td>False</td>\n",
       "      <td>False</td>\n",
       "      <td>False</td>\n",
       "    </tr>\n",
       "    <tr>\n",
       "      <th>철수</th>\n",
       "      <td>False</td>\n",
       "      <td>False</td>\n",
       "      <td>False</td>\n",
       "    </tr>\n",
       "    <tr>\n",
       "      <th>철이</th>\n",
       "      <td>True</td>\n",
       "      <td>True</td>\n",
       "      <td>True</td>\n",
       "    </tr>\n",
       "  </tbody>\n",
       "</table>\n",
       "</div>"
      ],
      "text/plain": [
       "       국어     영어     수학\n",
       "길동  False  False  False\n",
       "미영  False  False  False\n",
       "순이  False  False  False\n",
       "슬기   True   True   True\n",
       "영이  False  False  False\n",
       "철수  False  False  False\n",
       "철이   True   True   True"
      ]
     },
     "execution_count": 33,
     "metadata": {},
     "output_type": "execute_result"
    }
   ],
   "source": [
    "d3.isnull() #null값이면 True"
   ]
  },
  {
   "cell_type": "code",
   "execution_count": 34,
   "id": "08111c34",
   "metadata": {},
   "outputs": [
    {
     "data": {
      "text/plain": [
       "국어    2\n",
       "영어    2\n",
       "수학    2\n",
       "dtype: int64"
      ]
     },
     "execution_count": 34,
     "metadata": {},
     "output_type": "execute_result"
    }
   ],
   "source": [
    "d3.isnull().sum() #열 별로 null값의 개수"
   ]
  },
  {
   "cell_type": "code",
   "execution_count": 35,
   "id": "3c82ad2e",
   "metadata": {},
   "outputs": [
    {
     "data": {
      "text/plain": [
       "국어    5\n",
       "영어    5\n",
       "수학    5\n",
       "dtype: int64"
      ]
     },
     "execution_count": 35,
     "metadata": {},
     "output_type": "execute_result"
    }
   ],
   "source": [
    "d3.notnull().sum()"
   ]
  },
  {
   "cell_type": "code",
   "execution_count": 36,
   "id": "43765853",
   "metadata": {},
   "outputs": [
    {
     "data": {
      "text/plain": [
       "길동    0\n",
       "미영    0\n",
       "순이    0\n",
       "슬기    3\n",
       "영이    0\n",
       "철수    0\n",
       "철이    3\n",
       "dtype: int64"
      ]
     },
     "execution_count": 36,
     "metadata": {},
     "output_type": "execute_result"
    }
   ],
   "source": [
    "d3.isnull().sum(axis = 1)"
   ]
  },
  {
   "cell_type": "markdown",
   "id": "b878adb4",
   "metadata": {},
   "source": [
    "### 누락 데이터 제거\n",
    "- 행 제거: DataFrame객체.dropna(subset=column명 리스트, how='any'/'all', axis=0, thresh=개수)\n",
    "- 열 제거: DataFrame객체.dropna(axis=1, thresh=개수)\n",
    "- tresh : 유효한 값의 개수가 tresh의 값보다 작은 행이나 열을 삭제"
   ]
  },
  {
   "cell_type": "code",
   "execution_count": 37,
   "id": "ff397c87",
   "metadata": {},
   "outputs": [
    {
     "data": {
      "text/plain": [
       "길동    False\n",
       "미영    False\n",
       "순이    False\n",
       "슬기     True\n",
       "영이    False\n",
       "철수    False\n",
       "철이     True\n",
       "dtype: bool"
      ]
     },
     "execution_count": 37,
     "metadata": {},
     "output_type": "execute_result"
    }
   ],
   "source": [
    "#누락데이터가 하나라도 있는 학생\n",
    "x = d3.isnull().sum(axis = 1) >= 1\n",
    "x"
   ]
  },
  {
   "cell_type": "code",
   "execution_count": 38,
   "id": "a650207b",
   "metadata": {},
   "outputs": [
    {
     "data": {
      "text/html": [
       "<div>\n",
       "<style scoped>\n",
       "    .dataframe tbody tr th:only-of-type {\n",
       "        vertical-align: middle;\n",
       "    }\n",
       "\n",
       "    .dataframe tbody tr th {\n",
       "        vertical-align: top;\n",
       "    }\n",
       "\n",
       "    .dataframe thead th {\n",
       "        text-align: right;\n",
       "    }\n",
       "</style>\n",
       "<table border=\"1\" class=\"dataframe\">\n",
       "  <thead>\n",
       "    <tr style=\"text-align: right;\">\n",
       "      <th></th>\n",
       "      <th>국어</th>\n",
       "      <th>영어</th>\n",
       "      <th>수학</th>\n",
       "    </tr>\n",
       "  </thead>\n",
       "  <tbody>\n",
       "    <tr>\n",
       "      <th>슬기</th>\n",
       "      <td>NaN</td>\n",
       "      <td>NaN</td>\n",
       "      <td>NaN</td>\n",
       "    </tr>\n",
       "    <tr>\n",
       "      <th>철이</th>\n",
       "      <td>NaN</td>\n",
       "      <td>NaN</td>\n",
       "      <td>NaN</td>\n",
       "    </tr>\n",
       "  </tbody>\n",
       "</table>\n",
       "</div>"
      ],
      "text/plain": [
       "    국어  영어  수학\n",
       "슬기 NaN NaN NaN\n",
       "철이 NaN NaN NaN"
      ]
     },
     "execution_count": 38,
     "metadata": {},
     "output_type": "execute_result"
    }
   ],
   "source": [
    "d3[x]"
   ]
  },
  {
   "cell_type": "code",
   "execution_count": 39,
   "id": "c15c22a0",
   "metadata": {},
   "outputs": [
    {
     "data": {
      "text/plain": [
       "Index(['슬기', '철이'], dtype='object')"
      ]
     },
     "execution_count": 39,
     "metadata": {},
     "output_type": "execute_result"
    }
   ],
   "source": [
    "d3[x].index"
   ]
  },
  {
   "cell_type": "code",
   "execution_count": null,
   "id": "dc49c55c",
   "metadata": {},
   "outputs": [],
   "source": [
    "d3.dropna(subset = ['국어']) #열 삭제"
   ]
  },
  {
   "cell_type": "markdown",
   "id": "ed97383d",
   "metadata": {},
   "source": [
    "### 누락 데이터 치환\n",
    "- DataFrame객체['column명'].fillna(값) : 새로운 객체 반환\n",
    "- DataFrame객체['column명'].fillna(값, inplace = True) : 원본 객체 변경"
   ]
  },
  {
   "cell_type": "code",
   "execution_count": 40,
   "id": "765906b9",
   "metadata": {},
   "outputs": [
    {
     "data": {
      "text/html": [
       "<div>\n",
       "<style scoped>\n",
       "    .dataframe tbody tr th:only-of-type {\n",
       "        vertical-align: middle;\n",
       "    }\n",
       "\n",
       "    .dataframe tbody tr th {\n",
       "        vertical-align: top;\n",
       "    }\n",
       "\n",
       "    .dataframe thead th {\n",
       "        text-align: right;\n",
       "    }\n",
       "</style>\n",
       "<table border=\"1\" class=\"dataframe\">\n",
       "  <thead>\n",
       "    <tr style=\"text-align: right;\">\n",
       "      <th></th>\n",
       "      <th>국어</th>\n",
       "      <th>영어</th>\n",
       "      <th>수학</th>\n",
       "    </tr>\n",
       "  </thead>\n",
       "  <tbody>\n",
       "    <tr>\n",
       "      <th>길동</th>\n",
       "      <td>167.0</td>\n",
       "      <td>174.0</td>\n",
       "      <td>156.0</td>\n",
       "    </tr>\n",
       "    <tr>\n",
       "      <th>미영</th>\n",
       "      <td>200.0</td>\n",
       "      <td>177.0</td>\n",
       "      <td>198.0</td>\n",
       "    </tr>\n",
       "    <tr>\n",
       "      <th>순이</th>\n",
       "      <td>136.0</td>\n",
       "      <td>194.0</td>\n",
       "      <td>129.0</td>\n",
       "    </tr>\n",
       "    <tr>\n",
       "      <th>슬기</th>\n",
       "      <td>71.0</td>\n",
       "      <td>NaN</td>\n",
       "      <td>NaN</td>\n",
       "    </tr>\n",
       "    <tr>\n",
       "      <th>영이</th>\n",
       "      <td>71.0</td>\n",
       "      <td>75.0</td>\n",
       "      <td>154.0</td>\n",
       "    </tr>\n",
       "    <tr>\n",
       "      <th>철수</th>\n",
       "      <td>164.0</td>\n",
       "      <td>167.0</td>\n",
       "      <td>168.0</td>\n",
       "    </tr>\n",
       "    <tr>\n",
       "      <th>철이</th>\n",
       "      <td>71.0</td>\n",
       "      <td>NaN</td>\n",
       "      <td>NaN</td>\n",
       "    </tr>\n",
       "  </tbody>\n",
       "</table>\n",
       "</div>"
      ],
      "text/plain": [
       "       국어     영어     수학\n",
       "길동  167.0  174.0  156.0\n",
       "미영  200.0  177.0  198.0\n",
       "순이  136.0  194.0  129.0\n",
       "슬기   71.0    NaN    NaN\n",
       "영이   71.0   75.0  154.0\n",
       "철수  164.0  167.0  168.0\n",
       "철이   71.0    NaN    NaN"
      ]
     },
     "execution_count": 40,
     "metadata": {},
     "output_type": "execute_result"
    }
   ],
   "source": [
    "min_kor = d3['국어'].min() #국어 점수의 최솟값\n",
    "d3['국어'].fillna(min_kor, inplace = True) #빈칸인 경우, 최솟값으로 채우기    #원본 변경\n",
    "d3"
   ]
  },
  {
   "cell_type": "markdown",
   "id": "73550923",
   "metadata": {},
   "source": [
    "## 중복 데이터 확인\n",
    "- 행 중복 확인: DataFrame객체.duplicated()\n",
    "- 열 중복 확인: DataFrame객체['column명'].duplicated()\n"
   ]
  },
  {
   "cell_type": "code",
   "execution_count": 41,
   "id": "dd32d27c",
   "metadata": {},
   "outputs": [
    {
     "data": {
      "text/plain": [
       "길동    False\n",
       "미영    False\n",
       "순이    False\n",
       "슬기    False\n",
       "영이    False\n",
       "철수    False\n",
       "철이     True\n",
       "dtype: bool"
      ]
     },
     "execution_count": 41,
     "metadata": {},
     "output_type": "execute_result"
    }
   ],
   "source": [
    "d3.duplicated()"
   ]
  },
  {
   "cell_type": "markdown",
   "id": "7f41dea0",
   "metadata": {},
   "source": [
    "### 중복 데이터 제거\n",
    "- 중복 행 제거: DataFrame객체.drop_duplicates(subset=column명 리스트)"
   ]
  },
  {
   "cell_type": "code",
   "execution_count": 43,
   "id": "bc7b51da",
   "metadata": {},
   "outputs": [
    {
     "data": {
      "text/html": [
       "<div>\n",
       "<style scoped>\n",
       "    .dataframe tbody tr th:only-of-type {\n",
       "        vertical-align: middle;\n",
       "    }\n",
       "\n",
       "    .dataframe tbody tr th {\n",
       "        vertical-align: top;\n",
       "    }\n",
       "\n",
       "    .dataframe thead th {\n",
       "        text-align: right;\n",
       "    }\n",
       "</style>\n",
       "<table border=\"1\" class=\"dataframe\">\n",
       "  <thead>\n",
       "    <tr style=\"text-align: right;\">\n",
       "      <th></th>\n",
       "      <th>국어</th>\n",
       "      <th>영어</th>\n",
       "      <th>수학</th>\n",
       "    </tr>\n",
       "  </thead>\n",
       "  <tbody>\n",
       "    <tr>\n",
       "      <th>길동</th>\n",
       "      <td>167.0</td>\n",
       "      <td>174.0</td>\n",
       "      <td>156.0</td>\n",
       "    </tr>\n",
       "    <tr>\n",
       "      <th>미영</th>\n",
       "      <td>200.0</td>\n",
       "      <td>177.0</td>\n",
       "      <td>198.0</td>\n",
       "    </tr>\n",
       "    <tr>\n",
       "      <th>순이</th>\n",
       "      <td>136.0</td>\n",
       "      <td>194.0</td>\n",
       "      <td>129.0</td>\n",
       "    </tr>\n",
       "    <tr>\n",
       "      <th>슬기</th>\n",
       "      <td>71.0</td>\n",
       "      <td>NaN</td>\n",
       "      <td>NaN</td>\n",
       "    </tr>\n",
       "    <tr>\n",
       "      <th>영이</th>\n",
       "      <td>71.0</td>\n",
       "      <td>75.0</td>\n",
       "      <td>154.0</td>\n",
       "    </tr>\n",
       "    <tr>\n",
       "      <th>철수</th>\n",
       "      <td>164.0</td>\n",
       "      <td>167.0</td>\n",
       "      <td>168.0</td>\n",
       "    </tr>\n",
       "  </tbody>\n",
       "</table>\n",
       "</div>"
      ],
      "text/plain": [
       "       국어     영어     수학\n",
       "길동  167.0  174.0  156.0\n",
       "미영  200.0  177.0  198.0\n",
       "순이  136.0  194.0  129.0\n",
       "슬기   71.0    NaN    NaN\n",
       "영이   71.0   75.0  154.0\n",
       "철수  164.0  167.0  168.0"
      ]
     },
     "execution_count": 43,
     "metadata": {},
     "output_type": "execute_result"
    }
   ],
   "source": [
    "d3.drop_duplicates() #중복 '철이' 삭제 #원본 그대로 존재"
   ]
  },
  {
   "cell_type": "code",
   "execution_count": 44,
   "id": "c753c4f0",
   "metadata": {},
   "outputs": [
    {
     "data": {
      "text/html": [
       "<div>\n",
       "<style scoped>\n",
       "    .dataframe tbody tr th:only-of-type {\n",
       "        vertical-align: middle;\n",
       "    }\n",
       "\n",
       "    .dataframe tbody tr th {\n",
       "        vertical-align: top;\n",
       "    }\n",
       "\n",
       "    .dataframe thead th {\n",
       "        text-align: right;\n",
       "    }\n",
       "</style>\n",
       "<table border=\"1\" class=\"dataframe\">\n",
       "  <thead>\n",
       "    <tr style=\"text-align: right;\">\n",
       "      <th></th>\n",
       "      <th>국어</th>\n",
       "      <th>영어</th>\n",
       "      <th>수학</th>\n",
       "    </tr>\n",
       "  </thead>\n",
       "  <tbody>\n",
       "    <tr>\n",
       "      <th>길동</th>\n",
       "      <td>167.0</td>\n",
       "      <td>174.0</td>\n",
       "      <td>156.0</td>\n",
       "    </tr>\n",
       "    <tr>\n",
       "      <th>미영</th>\n",
       "      <td>200.0</td>\n",
       "      <td>177.0</td>\n",
       "      <td>198.0</td>\n",
       "    </tr>\n",
       "    <tr>\n",
       "      <th>순이</th>\n",
       "      <td>136.0</td>\n",
       "      <td>194.0</td>\n",
       "      <td>129.0</td>\n",
       "    </tr>\n",
       "    <tr>\n",
       "      <th>슬기</th>\n",
       "      <td>71.0</td>\n",
       "      <td>NaN</td>\n",
       "      <td>NaN</td>\n",
       "    </tr>\n",
       "    <tr>\n",
       "      <th>영이</th>\n",
       "      <td>71.0</td>\n",
       "      <td>75.0</td>\n",
       "      <td>154.0</td>\n",
       "    </tr>\n",
       "    <tr>\n",
       "      <th>철수</th>\n",
       "      <td>164.0</td>\n",
       "      <td>167.0</td>\n",
       "      <td>168.0</td>\n",
       "    </tr>\n",
       "  </tbody>\n",
       "</table>\n",
       "</div>"
      ],
      "text/plain": [
       "       국어     영어     수학\n",
       "길동  167.0  174.0  156.0\n",
       "미영  200.0  177.0  198.0\n",
       "순이  136.0  194.0  129.0\n",
       "슬기   71.0    NaN    NaN\n",
       "영이   71.0   75.0  154.0\n",
       "철수  164.0  167.0  168.0"
      ]
     },
     "execution_count": 44,
     "metadata": {},
     "output_type": "execute_result"
    }
   ],
   "source": [
    "d3.drop_duplicates(subset = ['영어', '수학'])"
   ]
  },
  {
   "cell_type": "markdown",
   "id": "c309d3df",
   "metadata": {},
   "source": [
    "### 자료형 변환\n",
    "- DataFrame객체['column명'].astype(자료형)"
   ]
  },
  {
   "cell_type": "code",
   "execution_count": 45,
   "id": "074ed7a2",
   "metadata": {},
   "outputs": [
    {
     "data": {
      "text/html": [
       "<div>\n",
       "<style scoped>\n",
       "    .dataframe tbody tr th:only-of-type {\n",
       "        vertical-align: middle;\n",
       "    }\n",
       "\n",
       "    .dataframe tbody tr th {\n",
       "        vertical-align: top;\n",
       "    }\n",
       "\n",
       "    .dataframe thead th {\n",
       "        text-align: right;\n",
       "    }\n",
       "</style>\n",
       "<table border=\"1\" class=\"dataframe\">\n",
       "  <thead>\n",
       "    <tr style=\"text-align: right;\">\n",
       "      <th></th>\n",
       "      <th>국어</th>\n",
       "      <th>영어</th>\n",
       "      <th>수학</th>\n",
       "    </tr>\n",
       "  </thead>\n",
       "  <tbody>\n",
       "    <tr>\n",
       "      <th>길동</th>\n",
       "      <td>167</td>\n",
       "      <td>174</td>\n",
       "      <td>156</td>\n",
       "    </tr>\n",
       "    <tr>\n",
       "      <th>미영</th>\n",
       "      <td>200</td>\n",
       "      <td>177</td>\n",
       "      <td>198</td>\n",
       "    </tr>\n",
       "  </tbody>\n",
       "</table>\n",
       "</div>"
      ],
      "text/plain": [
       "     국어   영어   수학\n",
       "길동  167  174  156\n",
       "미영  200  177  198"
      ]
     },
     "execution_count": 45,
     "metadata": {},
     "output_type": "execute_result"
    }
   ],
   "source": [
    "d3['길동':'미영'].astype('int') #slicing: 길동~미영(포함)까지"
   ]
  },
  {
   "cell_type": "markdown",
   "id": "8634dbce",
   "metadata": {},
   "source": [
    "## 열 순서 변경"
   ]
  },
  {
   "cell_type": "code",
   "execution_count": 46,
   "id": "d03c8f30",
   "metadata": {},
   "outputs": [
    {
     "data": {
      "text/html": [
       "<div>\n",
       "<style scoped>\n",
       "    .dataframe tbody tr th:only-of-type {\n",
       "        vertical-align: middle;\n",
       "    }\n",
       "\n",
       "    .dataframe tbody tr th {\n",
       "        vertical-align: top;\n",
       "    }\n",
       "\n",
       "    .dataframe thead th {\n",
       "        text-align: right;\n",
       "    }\n",
       "</style>\n",
       "<table border=\"1\" class=\"dataframe\">\n",
       "  <thead>\n",
       "    <tr style=\"text-align: right;\">\n",
       "      <th></th>\n",
       "      <th>국어</th>\n",
       "      <th>수학</th>\n",
       "      <th>영어</th>\n",
       "    </tr>\n",
       "  </thead>\n",
       "  <tbody>\n",
       "    <tr>\n",
       "      <th>철수</th>\n",
       "      <td>84</td>\n",
       "      <td>78</td>\n",
       "      <td>87</td>\n",
       "    </tr>\n",
       "    <tr>\n",
       "      <th>영이</th>\n",
       "      <td>21</td>\n",
       "      <td>84</td>\n",
       "      <td>15</td>\n",
       "    </tr>\n",
       "    <tr>\n",
       "      <th>길동</th>\n",
       "      <td>87</td>\n",
       "      <td>76</td>\n",
       "      <td>84</td>\n",
       "    </tr>\n",
       "    <tr>\n",
       "      <th>미영</th>\n",
       "      <td>100</td>\n",
       "      <td>99</td>\n",
       "      <td>87</td>\n",
       "    </tr>\n",
       "    <tr>\n",
       "      <th>순이</th>\n",
       "      <td>59</td>\n",
       "      <td>59</td>\n",
       "      <td>99</td>\n",
       "    </tr>\n",
       "    <tr>\n",
       "      <th>철이</th>\n",
       "      <td>46</td>\n",
       "      <td>56</td>\n",
       "      <td>77</td>\n",
       "    </tr>\n",
       "  </tbody>\n",
       "</table>\n",
       "</div>"
      ],
      "text/plain": [
       "     국어  수학  영어\n",
       "철수   84  78  87\n",
       "영이   21  84  15\n",
       "길동   87  76  84\n",
       "미영  100  99  87\n",
       "순이   59  59  99\n",
       "철이   46  56  77"
      ]
     },
     "execution_count": 46,
     "metadata": {},
     "output_type": "execute_result"
    }
   ],
   "source": [
    "#sort_index 실행 시 행(index)순으로 정렬\n",
    "sc = sorted(d1.columns) #가나다 순으로 정렬\n",
    "d1[sc] #slicing개념 활용"
   ]
  }
 ],
 "metadata": {
  "kernelspec": {
   "display_name": "Python 3 (ipykernel)",
   "language": "python",
   "name": "python3"
  },
  "language_info": {
   "codemirror_mode": {
    "name": "ipython",
    "version": 3
   },
   "file_extension": ".py",
   "mimetype": "text/x-python",
   "name": "python",
   "nbconvert_exporter": "python",
   "pygments_lexer": "ipython3",
   "version": "3.9.12"
  }
 },
 "nbformat": 4,
 "nbformat_minor": 5
}
