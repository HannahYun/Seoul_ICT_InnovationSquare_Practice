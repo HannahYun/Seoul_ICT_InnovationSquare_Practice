{
 "cells": [
  {
   "cell_type": "markdown",
   "metadata": {},
   "source": [
    "# 함수\n",
    "### def 함수명(매개변수):\n",
    "- 프로그램에서 자주 사용되는 코드를 따로 만들어 두고 필요할 때마다 불러서(호출해서) 사용하는 기능\n",
    "- 내장 함수(built-in function):\n",
    "프로그래밍에서 자주 사용하는 기능을 미리 만들어놓은 함수\n",
    "- 사용자 정의 함수(user-defined function):\n",
    "프로그래머가 필요에 의해서 만든 함수\n",
    "- 함수 정의 파트가 함수 호출 파트보다 먼저 작성되어 있어야 한다. \n"
   ]
  },
  {
   "cell_type": "code",
   "execution_count": 1,
   "metadata": {},
   "outputs": [
    {
     "name": "stdout",
     "output_type": "stream",
     "text": [
      "★\n",
      "★★\n",
      "★★★\n",
      "★★★★\n",
      "★★★★★\n",
      "★★★★★★\n",
      "★★★★★★★\n",
      "★★★★★★★★\n",
      "★★★★★★★★★\n",
      "★★★★★★★★★★\n"
     ]
    }
   ],
   "source": [
    "star = '★'\n",
    "for n in range(1,11):\n",
    "    print(star*n)"
   ]
  },
  {
   "cell_type": "code",
   "execution_count": 5,
   "metadata": {},
   "outputs": [
    {
     "name": "stdout",
     "output_type": "stream",
     "text": [
      "Variable       Type        Data/Info\n",
      "------------------------------------\n",
      "drawTriangle   function    <function drawTriangle at 0x0000011205C8EC10>\n",
      "n              int         10\n",
      "star           str         ★\n"
     ]
    }
   ],
   "source": [
    "%whos"
   ]
  },
  {
   "cell_type": "code",
   "execution_count": 6,
   "metadata": {},
   "outputs": [
    {
     "name": "stdout",
     "output_type": "stream",
     "text": [
      "★\n",
      "★★\n",
      "★★★\n",
      "★★★★\n",
      "★★★★★\n",
      "★★★★★★\n",
      "★★★★★★★\n",
      "★★★★★★★★\n",
      "★★★★★★★★★\n",
      "★★★★★★★★★★\n"
     ]
    }
   ],
   "source": [
    "def drawTriangle(): #함수 정의\n",
    "    star = '★'\n",
    "    for n in range(1,11):\n",
    "        print(star*n)\n",
    "\n",
    "drawTriangle() #함수 호출"
   ]
  },
  {
   "cell_type": "code",
   "execution_count": 7,
   "metadata": {},
   "outputs": [
    {
     "name": "stdout",
     "output_type": "stream",
     "text": [
      "★\n",
      "★★\n",
      "★★★\n",
      "★★★★\n",
      "★★★★★\n",
      "★★★★★★\n",
      "★★★★★★★\n",
      "★★★★★★★★\n",
      "★★★★★★★★★\n",
      "★★★★★★★★★★\n",
      "★\n",
      "★★\n",
      "★★★\n",
      "★★★★\n",
      "★★★★★\n",
      "★★★★★★\n",
      "★★★★★★★\n",
      "★★★★★★★★\n",
      "★★★★★★★★★\n",
      "★★★★★★★★★★\n"
     ]
    }
   ],
   "source": [
    "drawTriangle()\n",
    "drawTriangle()"
   ]
  },
  {
   "cell_type": "code",
   "execution_count": 9,
   "metadata": {},
   "outputs": [
    {
     "name": "stdout",
     "output_type": "stream",
     "text": [
      "1부터 10까지의 합은 55 입니다.\n"
     ]
    }
   ],
   "source": [
    "#1부터 10까지의 합 구하는 함수 (sum은 이미 존재하는 예약어)\n",
    "def summation():\n",
    "    total = 0\n",
    "    for num in range(1, 11):\n",
    "        total = total + num\n",
    "    print('1부터 10까지의 합은', total,'입니다.')\n",
    "    \n",
    "summation()"
   ]
  },
  {
   "cell_type": "markdown",
   "metadata": {},
   "source": [
    "### Sum()\n",
    "- 합계 구하는 함수\n",
    "- sum([1,2,3,4,5])\n",
    "- sum(range(1, 101))\n",
    "- sum((1,2,3,4,5))"
   ]
  },
  {
   "cell_type": "markdown",
   "metadata": {},
   "source": [
    "## 전역 변수 vs 지역 변수"
   ]
  },
  {
   "cell_type": "markdown",
   "metadata": {},
   "source": [
    "### 지역변수\n",
    "- 함수 정의 파트(내부)에서만 유효한 변수\n",
    "- 함수가 호출되었을 때 생성되며 함수를 벗어날 때 사라짐\n",
    "\n",
    "### 전역변수\n",
    "- 프로그램 전체에서 유효한 변수\n",
    "- 프로그램이 시작될 때 생성되며, 프로그램이 끝날 때 사라짐"
   ]
  },
  {
   "cell_type": "code",
   "execution_count": 11,
   "metadata": {},
   "outputs": [
    {
     "name": "stdout",
     "output_type": "stream",
     "text": [
      "8\n",
      "5\n"
     ]
    }
   ],
   "source": [
    "def add ():\n",
    "    number = 5 #지역변수\n",
    "    number = number + 3\n",
    "    print (number)\n",
    "\n",
    "number = 5 #전역변수\n",
    "add()\n",
    "print(number)"
   ]
  },
  {
   "cell_type": "code",
   "execution_count": 11,
   "metadata": {},
   "outputs": [
    {
     "name": "stdout",
     "output_type": "stream",
     "text": [
      "8\n",
      "5\n"
     ]
    }
   ],
   "source": [
    "def add ():\n",
    "    global number #전역변수 사용\n",
    "    number = number + 3\n",
    "    print (number)\n",
    "\n",
    "number = 5 #전역변수\n",
    "add()\n",
    "print(number)"
   ]
  },
  {
   "cell_type": "code",
   "execution_count": 13,
   "metadata": {},
   "outputs": [
    {
     "name": "stdout",
     "output_type": "stream",
     "text": [
      "Hello, Albert\n",
      "Your new name is Waffles\n",
      "Howdy, Albert\n"
     ]
    }
   ],
   "source": [
    "#지역변수와 전역변수의 이름이 같아도 각각의 변수\n",
    "def spam(name):\n",
    "    print ('Hello, ' + name)\n",
    "    name = 'Waffles'\n",
    "    print('Your new name is ' + name)\n",
    "    \n",
    "name = 'Albert'\n",
    "spam(name)\n",
    "print(\"Howdy, \" + name)"
   ]
  },
  {
   "cell_type": "markdown",
   "metadata": {},
   "source": [
    "### 함수는 블랙 박스\n",
    "- 입력(전달인자 argument, 매개변수 parameter)을 받아 실행하고 결과를 반환(return)\n"
   ]
  },
  {
   "cell_type": "markdown",
   "metadata": {},
   "source": [
    "##### 입력: 전달인자(argument) & 매개변수(parameter)\n",
    "- 함수 호출 파트(외부) 에서 함수 정의 파트(내부)로 값을 전달할 때 전달인자(argument)를 사용한다.\n",
    "- 함수 정의 파트에서는 값을 받을 때 매개변수(parameter)로 받는다.\n",
    "\n",
    "##### 출력: 반환(return)\n",
    "- 함수 정의 파트에서 함수 호출 파트로 값을 내 보낼 때에는 반환(return)을 사용한다.\n"
   ]
  },
  {
   "cell_type": "code",
   "execution_count": 14,
   "metadata": {},
   "outputs": [
    {
     "name": "stdout",
     "output_type": "stream",
     "text": [
      "1부터 10까지의 합은 55 입니다.\n",
      "1부터 100까지의 합은 5050 입니다.\n",
      "1부터 1000까지의 합은 500500 입니다.\n"
     ]
    }
   ],
   "source": [
    "total = 0\n",
    "for num in range(1, 11):\n",
    "    total = total + num\n",
    "print('1부터 10까지의 합은', total,'입니다.')\n",
    "\n",
    "total = 0\n",
    "for num in range(1, 101):\n",
    "    total = total + num\n",
    "print('1부터 100까지의 합은',total,'입니다.')\n",
    "\n",
    "total = 0\n",
    "for num in range(1, 1001):\n",
    "    total = total + num\n",
    "print('1부터 1000까지의 합은',total, '입니다.')"
   ]
  },
  {
   "cell_type": "code",
   "execution_count": 17,
   "metadata": {},
   "outputs": [
    {
     "name": "stdout",
     "output_type": "stream",
     "text": [
      "1부터 10까지의 합은 55 입니다.\n",
      "1부터 100까지의 합은 5050 입니다.\n",
      "1부터 1000까지의 합은 500500 입니다.\n"
     ]
    }
   ],
   "source": [
    "#합계 구하는 함수\n",
    "def summation(y):\n",
    "    total = 0\n",
    "    for num in range(1, y+1):\n",
    "        total += num\n",
    "    print(\"1부터 %d까지의 합은\"%y, total, '입니다.')\n",
    "    \n",
    "summation(10)\n",
    "summation(100)\n",
    "summation(1000)"
   ]
  },
  {
   "cell_type": "code",
   "execution_count": 18,
   "metadata": {},
   "outputs": [
    {
     "name": "stdout",
     "output_type": "stream",
     "text": [
      "result: 5050\n"
     ]
    }
   ],
   "source": [
    "def f_b( ):\n",
    "    total = 0\n",
    "    for count in range(101):\n",
    "            total+=count\n",
    "    return total\n",
    "\n",
    "print ('result:', f_b())"
   ]
  },
  {
   "cell_type": "code",
   "execution_count": 19,
   "metadata": {},
   "outputs": [
    {
     "name": "stdout",
     "output_type": "stream",
     "text": [
      "result: 5050\n",
      "None\n"
     ]
    }
   ],
   "source": [
    "def f_c( ):\n",
    "    result = 0\n",
    "    for count in range(101):\n",
    "            result += count\n",
    "    print('result:', result) #return값 존재 X\n",
    "\n",
    "result = f_c()\n",
    "print(result)"
   ]
  },
  {
   "cell_type": "code",
   "execution_count": 21,
   "metadata": {},
   "outputs": [
    {
     "name": "stdout",
     "output_type": "stream",
     "text": [
      "Hello, Albert\n",
      "Your new name is Waffles\n",
      "Howdy, Waffles\n"
     ]
    }
   ],
   "source": [
    "def spam(name):\n",
    "    print ('Hello, ' + name)\n",
    "    name = 'Waffles'\n",
    "    print('Your new name is ' + name)\n",
    "    return name\n",
    "    \n",
    "name = 'Albert'\n",
    "name = spam(name)\n",
    "print('Howdy, ' + name)"
   ]
  },
  {
   "cell_type": "code",
   "execution_count": 22,
   "metadata": {},
   "outputs": [
    {
     "data": {
      "text/plain": [
       "(1.4142135623730951, -1.4142135623730951)"
      ]
     },
     "execution_count": 22,
     "metadata": {},
     "output_type": "execute_result"
    }
   ],
   "source": [
    "from math import sqrt\n",
    "\n",
    "def roots(value):\n",
    "    result = sqrt(value)\n",
    "    return result, -result\n",
    "    \n",
    "roots(2)"
   ]
  },
  {
   "cell_type": "code",
   "execution_count": 25,
   "metadata": {},
   "outputs": [
    {
     "name": "stdout",
     "output_type": "stream",
     "text": [
      "3.0\n",
      "3.0\n",
      "3.0\n"
     ]
    }
   ],
   "source": [
    "#평균값 함수\n",
    "def mean(numbers):\n",
    "    result = sum(numbers) / len(numbers)\n",
    "    return result\n",
    "\n",
    "print(mean([1,2,3,4,5]))\n",
    "print(mean(range(1,6)))\n",
    "print(mean((1,2,3,4,5)))"
   ]
  },
  {
   "cell_type": "code",
   "execution_count": 26,
   "metadata": {},
   "outputs": [
    {
     "name": "stdout",
     "output_type": "stream",
     "text": [
      "3\n",
      "3.5\n"
     ]
    }
   ],
   "source": [
    "#중앙값 함수\n",
    "def median(numbers):\n",
    "    sorted_numbers = sorted(numbers)\n",
    "    med_idx = len(numbers) // 2\n",
    "\n",
    "    if len(numbers) % 2: #홀수 개\n",
    "        median = sorted_numbers[med_idx]\n",
    "    else: #짝수 개\n",
    "        median = (sorted_numbers[med_idx-1] + sorted_numbers[med_idx]) / 2\n",
    "    return median\n",
    "    \n",
    "print( median( [1,2,3,4,5] ) )\n",
    "print( median( [1,2,3,4,5,6] ) )"
   ]
  },
  {
   "cell_type": "code",
   "execution_count": 27,
   "metadata": {},
   "outputs": [
    {
     "name": "stdout",
     "output_type": "stream",
     "text": [
      "평균: 12.0\n",
      "중앙값: 3\n"
     ]
    }
   ],
   "source": [
    "print('평균:', mean([4,3,1,2,50]))\n",
    "print('중앙값:',median([4,3,1,2,50]))"
   ]
  },
  {
   "cell_type": "markdown",
   "metadata": {},
   "source": [
    "# 예외처리\n",
    "#### try : 시도할 코드\n",
    "#### except <예외> : 예외가 발생했을 경우\n",
    "#### else : 예외가 발생하지 않았을 경우\n",
    "#### finally : 무조건 실행할 코드"
   ]
  },
  {
   "cell_type": "code",
   "execution_count": 30,
   "metadata": {},
   "outputs": [
    {
     "name": "stdout",
     "output_type": "stream",
     "text": [
      "식을 입력하세요: 2,3\n"
     ]
    },
    {
     "data": {
      "text/plain": [
       "(2, 3)"
      ]
     },
     "execution_count": 30,
     "metadata": {},
     "output_type": "execute_result"
    }
   ],
   "source": [
    "#eval : 계산식을 입력하면 계산 결과 반환 / 콤마로 입력하면 쪼개서 반환\n",
    "eval( input('식을 입력하세요: ') )"
   ]
  },
  {
   "cell_type": "code",
   "execution_count": 35,
   "metadata": {},
   "outputs": [
    {
     "name": "stdout",
     "output_type": "stream",
     "text": [
      "두 숫자를 컴마로 분리하여 입력하세요: 3, two\n",
      "입력에 문제가 있습니다.\n",
      "finally절이 실행되었습니다.\n"
     ]
    }
   ],
   "source": [
    "try:\n",
    "    number1, number2 = eval(input('두 숫자를 컴마로 분리하여 입력하세요: '))\n",
    "    result = number1 / number2\n",
    "    print('결과는', result,'입니다.')\n",
    "except ZeroDivisionError :\n",
    "    print('0으로 나누기')\n",
    "except SyntaxError :\n",
    "    print('입력에 컴마가 빠졌습니다.')\n",
    "except:\n",
    "    print('입력에 문제가 있습니다.')\n",
    "else :\n",
    "    print('예외는 없습니다.')\n",
    "finally :\n",
    "    print('finally절이 실행되었습니다.')"
   ]
  }
 ],
 "metadata": {
  "kernelspec": {
   "display_name": "Python 3 (ipykernel)",
   "language": "python",
   "name": "python3"
  },
  "language_info": {
   "codemirror_mode": {
    "name": "ipython",
    "version": 3
   },
   "file_extension": ".py",
   "mimetype": "text/x-python",
   "name": "python",
   "nbconvert_exporter": "python",
   "pygments_lexer": "ipython3",
   "version": "3.9.12"
  }
 },
 "nbformat": 4,
 "nbformat_minor": 4
}
