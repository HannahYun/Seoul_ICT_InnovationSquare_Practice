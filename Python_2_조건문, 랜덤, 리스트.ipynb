{
 "cells": [
  {
   "cell_type": "markdown",
   "metadata": {},
   "source": [
    "# 구문(statement) = 문\n",
    "- 예약어(reserved word, keyword)와 표현식을 결합한 패턴\n",
    "- 컴퓨터가 수행해야 하는 하나의 단일 작업(instruction)을 명시.\n",
    "\n",
    "### 할당(대입, assigning statement)\n",
    "- python에서는 보통 ‘바인딩(binding)’이라는 표현을 씀, 어떤 값에 이름을 붙이는 작업.\n",
    "\n",
    "### 선언(정의, declaration)\n",
    "- 재사용이 가능한 독립적인 단위를 정의. \n",
    "- 별도의 선언 문법과 그 내용을 기술하는 블럭 혹은 블럭들로 구성.\n",
    "\n",
    "### 조건(분기): 조건에 따라 수행할 작업을 나눌 때 사용.\n",
    "- Ex) if 문\n",
    "### 반복: 특정한 작업을 반복수행할때 사용.\n",
    "- Ex) for 문 및 while 문\n",
    "### 예외처리\n"
   ]
  },
  {
   "cell_type": "markdown",
   "metadata": {},
   "source": [
    "## 선택/분기를 처리하는 조건문\n",
    "- 조건이 True일 때 실행해야 할 문장들을 블록으로 만들어 줘야 함\n",
    "- 동일 블록 내의 문장들은 들여쓰기가 일치해야 함"
   ]
  },
  {
   "cell_type": "code",
   "execution_count": 1,
   "metadata": {},
   "outputs": [
    {
     "name": "stdout",
     "output_type": "stream",
     "text": [
      "점수: 70\n",
      "합격입니다. \n"
     ]
    }
   ],
   "source": [
    "score = int( input('점수: ') )\n",
    "if score >= 60 :\n",
    "    print('합격입니다. ' )    "
   ]
  },
  {
   "cell_type": "code",
   "execution_count": 2,
   "metadata": {},
   "outputs": [
    {
     "name": "stdout",
     "output_type": "stream",
     "text": [
      "점수: 50\n",
      "불합격입니다.\n"
     ]
    }
   ],
   "source": [
    "score = int( input('점수: ') )\n",
    "if score >= 60 :\n",
    "    print('합격입니다. ' )\n",
    "else:\n",
    "    print('불합격입니다.' )"
   ]
  },
  {
   "cell_type": "code",
   "execution_count": 3,
   "metadata": {},
   "outputs": [
    {
     "name": "stdout",
     "output_type": "stream",
     "text": [
      "C입니다.\n"
     ]
    }
   ],
   "source": [
    "score = 75\n",
    "if score >= 90:\n",
    "    print ('A입니다. ' )\n",
    "elif score >= 80 :\n",
    "     print ('B입니다.' )\n",
    "elif score >= 70 :\n",
    "     print ('C입니다.' )\n",
    "elif score >= 60 :\n",
    "     print ('D입니다.' )\n",
    "else:\n",
    "     print ('F입니다.' )"
   ]
  },
  {
   "cell_type": "code",
   "execution_count": 4,
   "metadata": {},
   "outputs": [
    {
     "name": "stdout",
     "output_type": "stream",
     "text": [
      "C입니다.\n",
      "D입니다.\n"
     ]
    }
   ],
   "source": [
    "#if문 잘못 사용한 경우\n",
    "score = 75 \n",
    "if score >= 90:\n",
    "    print ('A입니다. ' )\n",
    "if score >= 80 :\n",
    "     print ('B입니다.' )\n",
    "if score >= 70 :\n",
    "     print ('C입니다.' )\n",
    "if score >= 60 :\n",
    "     print ('D입니다.' )\n",
    "else:\n",
    "     print ('F입니다.' )"
   ]
  },
  {
   "cell_type": "code",
   "execution_count": null,
   "metadata": {},
   "outputs": [],
   "source": [
    "# 활용 문장\n",
    "print('합격입니다. ' )\n",
    "print('불합격입니다.' )\n",
    "print('A입니다. ' )\n",
    "input('점수를 입력하시오: ')\n",
    "print('축하합니다. ' )\n",
    "print('운전면허 시험에 최종 합격하셨습니다!!')\n",
    "print('불합격입니다.' )\n",
    "print('홀수입니다.')\n",
    "input('첫 번째 정수를 입력하시오: ')\n"
   ]
  },
  {
   "cell_type": "code",
   "execution_count": 9,
   "metadata": {},
   "outputs": [
    {
     "name": "stdout",
     "output_type": "stream",
     "text": [
      "숫자를 입력하시오: 5\n",
      "홀수입니다.\n"
     ]
    }
   ],
   "source": [
    "number = int(input('숫자를 입력하시오: '))\n",
    "if number % 2: # == 1 : True\n",
    "    print('홀수입니다.')\n",
    "else:\n",
    "    print('짝수입니다.')"
   ]
  },
  {
   "cell_type": "markdown",
   "metadata": {},
   "source": [
    "## random 모듈\n",
    "    \n",
    "- 난수를 발생시키는 것과 관련된 함수들을 모아놓은 집합\n",
    "- random 모듈의 randint( ) 함수를 이용하여 지정함 범위의 값 중에서 하나의 난수를 발생시킨다."
   ]
  },
  {
   "cell_type": "code",
   "execution_count": 10,
   "metadata": {},
   "outputs": [],
   "source": [
    "import random\n",
    "#random.randint(범위의_시작값, 범위의_끝값)"
   ]
  },
  {
   "cell_type": "code",
   "execution_count": 16,
   "metadata": {},
   "outputs": [
    {
     "data": {
      "text/plain": [
       "17"
      ]
     },
     "execution_count": 16,
     "metadata": {},
     "output_type": "execute_result"
    }
   ],
   "source": [
    "random.randint(1, 20)"
   ]
  },
  {
   "cell_type": "code",
   "execution_count": 23,
   "metadata": {},
   "outputs": [
    {
     "data": {
      "text/plain": [
       "8"
      ]
     },
     "execution_count": 23,
     "metadata": {},
     "output_type": "execute_result"
    }
   ],
   "source": [
    "random.seed(3) #seed : 특정위치 지정\n",
    "random.randint(1, 20)"
   ]
  },
  {
   "cell_type": "code",
   "execution_count": 24,
   "metadata": {},
   "outputs": [
    {
     "data": {
      "text/plain": [
       "19"
      ]
     },
     "execution_count": 24,
     "metadata": {},
     "output_type": "execute_result"
    }
   ],
   "source": [
    "random.randint(1, 20)"
   ]
  },
  {
   "cell_type": "code",
   "execution_count": 31,
   "metadata": {},
   "outputs": [
    {
     "name": "stdout",
     "output_type": "stream",
     "text": [
      "*** 숫자 맞추기 게임 ***\n",
      "당신의 이름은? d\n",
      "1~20 사이의 값을 입력하세요: 14\n",
      "당신이 예측한 수는 너무 작군요.\n",
      "안녕~\n"
     ]
    }
   ],
   "source": [
    "print('*** 숫자 맞추기 게임 ***')\n",
    "name = input('당신의 이름은? ')\n",
    "number = random.randint(1, 20)\n",
    "guess = int(input('1~20 사이의 값을 입력하세요: '))\n",
    "\n",
    "if number > guess:\n",
    "    print ('당신이 예측한 수는 너무 작군요.')\n",
    "elif number < guess:\n",
    "    print ('당신이 예측한 수는 너무 크군요.')\n",
    "else:\n",
    "    print (name + '님! 잘했어요~ 짝!짝!짝!')\n",
    "print ('안녕~')"
   ]
  },
  {
   "cell_type": "markdown",
   "metadata": {},
   "source": [
    "### 중첩 if문"
   ]
  },
  {
   "cell_type": "code",
   "execution_count": 35,
   "metadata": {},
   "outputs": [
    {
     "name": "stdout",
     "output_type": "stream",
     "text": [
      "핸드폰으로 링크가 있는 문자 메시지가 왔어요...\n",
      "발신인이 있나요?(예/아니오)아니오\n",
      "메시지를 삭제하세요...\n"
     ]
    }
   ],
   "source": [
    "print('핸드폰으로 링크가 있는 문자 메시지가 왔어요...')\n",
    "ans = input('발신인이 있나요?(예/아니오)')\n",
    "if ans == '예':\n",
    "    ans2 = input('발신인을 신뢰하나요?(예/아니오)')\n",
    "    if ans2 == '예':\n",
    "        print('링크를 열어도 좋습니다~')\n",
    "    else:\n",
    "        print('메시지를 삭제하세요...')\n",
    "else:\n",
    "    print('메시지를 삭제하세요...')"
   ]
  },
  {
   "cell_type": "code",
   "execution_count": null,
   "metadata": {},
   "outputs": [],
   "source": [
    "input('발신인을 신뢰하나요?(예/아니오) ')\n",
    "print('링크를 열어도 좋습니다~')\n",
    "print('메시지를 삭제하세요...')"
   ]
  },
  {
   "cell_type": "markdown",
   "metadata": {},
   "source": [
    "# List\n",
    "- 여러 개의 데이터를 하나의 변수에 저장하고자 할 때 매우 유용함\n",
    "- 리스트는 [   ]로 묶어주고, 리스트의 아이템은 ,(컴마)로 구분함\n",
    "- 리스트의 아이템에 접근하고자 할 때에는 인덱스를 사용함\n",
    "- 인덱스는 0부터 시작함!!"
   ]
  },
  {
   "cell_type": "code",
   "execution_count": 44,
   "metadata": {},
   "outputs": [
    {
     "data": {
      "text/plain": [
       "('turtle', 'arrow', 'circle', 'square')"
      ]
     },
     "execution_count": 44,
     "metadata": {},
     "output_type": "execute_result"
    }
   ],
   "source": [
    "shape= ['turtle', 'arrow', 'circle', 'square']\n",
    "shape[0], shape[1], shape[2], shape[3]"
   ]
  },
  {
   "cell_type": "code",
   "execution_count": 38,
   "metadata": {},
   "outputs": [
    {
     "name": "stdout",
     "output_type": "stream",
     "text": [
      "Variable   Type      Data/Info\n",
      "------------------------------\n",
      "ans        str       아니오\n",
      "ans2       str       아니오\n",
      "guess      int       14\n",
      "name       str       d\n",
      "number     int       19\n",
      "random     module    <module 'random' from 'C:<...>aconda3\\\\lib\\\\random.py'>\n",
      "score      int       75\n",
      "shape      list      n=4\n"
     ]
    }
   ],
   "source": [
    "%whos"
   ]
  },
  {
   "cell_type": "code",
   "execution_count": 46,
   "metadata": {},
   "outputs": [
    {
     "data": {
      "text/plain": [
       "['turtle', 'ARROW', 'circle', 'square']"
      ]
     },
     "execution_count": 46,
     "metadata": {},
     "output_type": "execute_result"
    }
   ],
   "source": [
    "shape[1] = 'ARROW'\n",
    "shape"
   ]
  },
  {
   "cell_type": "code",
   "execution_count": 47,
   "metadata": {},
   "outputs": [
    {
     "data": {
      "text/plain": [
       "['turtle', 'ARROW', 'circle', 'square', 'heart']"
      ]
     },
     "execution_count": 47,
     "metadata": {},
     "output_type": "execute_result"
    }
   ],
   "source": [
    "#아이템 추가\n",
    "shape.append('heart')\n",
    "shape"
   ]
  },
  {
   "cell_type": "code",
   "execution_count": 48,
   "metadata": {},
   "outputs": [
    {
     "data": {
      "text/plain": [
       "['turtle', 'ARROW', 'circle', 'square', 'heart', 27]"
      ]
     },
     "execution_count": 48,
     "metadata": {},
     "output_type": "execute_result"
    }
   ],
   "source": [
    "shape.append(27) #숫자 추가 가능\n",
    "shape"
   ]
  },
  {
   "cell_type": "code",
   "execution_count": 49,
   "metadata": {},
   "outputs": [
    {
     "data": {
      "text/plain": [
       "['turtle', 'ARROW', 'circle', 'triangle', 'square', 'heart', 27]"
      ]
     },
     "execution_count": 49,
     "metadata": {},
     "output_type": "execute_result"
    }
   ],
   "source": [
    "shape.insert(3, 'triangle') #특정 위치 삽입\n",
    "shape"
   ]
  },
  {
   "cell_type": "code",
   "execution_count": 51,
   "metadata": {},
   "outputs": [
    {
     "data": {
      "text/plain": [
       "7"
      ]
     },
     "execution_count": 51,
     "metadata": {},
     "output_type": "execute_result"
    }
   ],
   "source": [
    "len(shape) #리스트 크기"
   ]
  },
  {
   "cell_type": "code",
   "execution_count": 52,
   "metadata": {},
   "outputs": [
    {
     "data": {
      "text/plain": [
       "True"
      ]
     },
     "execution_count": 52,
     "metadata": {},
     "output_type": "execute_result"
    }
   ],
   "source": [
    "'heart' in shape"
   ]
  },
  {
   "cell_type": "code",
   "execution_count": 53,
   "metadata": {},
   "outputs": [
    {
     "data": {
      "text/plain": [
       "True"
      ]
     },
     "execution_count": 53,
     "metadata": {},
     "output_type": "execute_result"
    }
   ],
   "source": [
    "'rectangle' not in shape"
   ]
  },
  {
   "cell_type": "code",
   "execution_count": 54,
   "metadata": {},
   "outputs": [
    {
     "data": {
      "text/plain": [
       "['turtle', 'circle', 'triangle', 'square', 'heart', 27]"
      ]
     },
     "execution_count": 54,
     "metadata": {},
     "output_type": "execute_result"
    }
   ],
   "source": [
    "del shape[1]\n",
    "shape"
   ]
  },
  {
   "cell_type": "code",
   "execution_count": 55,
   "metadata": {},
   "outputs": [
    {
     "data": {
      "text/plain": [
       "1"
      ]
     },
     "execution_count": 55,
     "metadata": {},
     "output_type": "execute_result"
    }
   ],
   "source": [
    "shape.index('circle') #원소의 index 번호 반환"
   ]
  },
  {
   "cell_type": "code",
   "execution_count": 56,
   "metadata": {},
   "outputs": [
    {
     "data": {
      "text/plain": [
       "1"
      ]
     },
     "execution_count": 56,
     "metadata": {},
     "output_type": "execute_result"
    }
   ],
   "source": [
    "shape.count('circle') #원소의 갯수"
   ]
  },
  {
   "cell_type": "markdown",
   "metadata": {},
   "source": [
    "## 리스트 연산자: +"
   ]
  },
  {
   "cell_type": "code",
   "execution_count": 58,
   "metadata": {},
   "outputs": [
    {
     "data": {
      "text/plain": [
       "[1, 2, 3, 4, 'Seoul', 'Kwangju', 'Alice', 'Bob']"
      ]
     },
     "execution_count": 58,
     "metadata": {},
     "output_type": "execute_result"
    }
   ],
   "source": [
    "[1,2,3,4]+['Seoul', 'Kwangju']+['Alice', 'Bob']"
   ]
  },
  {
   "cell_type": "code",
   "execution_count": 59,
   "metadata": {},
   "outputs": [
    {
     "data": {
      "text/plain": [
       "[1, 2, 3, 4, 1, 2, 3, 4, 1, 2, 3, 4]"
      ]
     },
     "execution_count": 59,
     "metadata": {},
     "output_type": "execute_result"
    }
   ],
   "source": [
    "[1,2,3,4] * 3"
   ]
  },
  {
   "cell_type": "markdown",
   "metadata": {},
   "source": [
    "## 정렬"
   ]
  },
  {
   "cell_type": "code",
   "execution_count": 64,
   "metadata": {},
   "outputs": [
    {
     "data": {
      "text/plain": [
       "['arrow', 'circle', 'heart', 'square', 'turtle']"
      ]
     },
     "execution_count": 64,
     "metadata": {},
     "output_type": "execute_result"
    }
   ],
   "source": [
    "shape= ['turtle', 'arrow', 'circle', 'square', 'heart']\n",
    "shape.sort() #sort : 원본을 수정\n",
    "shape"
   ]
  },
  {
   "cell_type": "code",
   "execution_count": 62,
   "metadata": {},
   "outputs": [
    {
     "data": {
      "text/plain": [
       "[1, 2, 3, 4, 5, 6, 7, 8, 9, 10]"
      ]
     },
     "execution_count": 62,
     "metadata": {},
     "output_type": "execute_result"
    }
   ],
   "source": [
    "numbers = [ 8, 6, 3, 10, 2, 9, 1, 4, 7, 5]\n",
    "numbers.sort()\n",
    "numbers"
   ]
  },
  {
   "cell_type": "code",
   "execution_count": 65,
   "metadata": {},
   "outputs": [
    {
     "data": {
      "text/plain": [
       "[1, 2, 3, 4, 5, 6, 7, 8, 9, 10]"
      ]
     },
     "execution_count": 65,
     "metadata": {},
     "output_type": "execute_result"
    }
   ],
   "source": [
    "numbers = [ 8, 6, 3, 10, 2, 9, 1, 4, 7, 5]\n",
    "sorted_numbers = sorted(numbers) #sorted : 원본 수정 X\n",
    "sorted_numbers"
   ]
  },
  {
   "cell_type": "code",
   "execution_count": 66,
   "metadata": {},
   "outputs": [
    {
     "data": {
      "text/plain": [
       "[8, 6, 3, 10, 2, 9, 1, 4, 7, 5]"
      ]
     },
     "execution_count": 66,
     "metadata": {},
     "output_type": "execute_result"
    }
   ],
   "source": [
    "numbers"
   ]
  },
  {
   "cell_type": "markdown",
   "metadata": {},
   "source": [
    "### 소망 룰렛"
   ]
  },
  {
   "cell_type": "code",
   "execution_count": 67,
   "metadata": {},
   "outputs": [
    {
     "name": "stdout",
     "output_type": "stream",
     "text": [
      "당신의 이번 달의 행운은...\n",
      "건강하기 입니다.\n"
     ]
    }
   ],
   "source": [
    "import random\n",
    "import time\n",
    "\n",
    "wishList = ['공무원 시험 합격', '건강하기', '사업번창', '새친구생김', '내집마련', '꽝!', \n",
    "            '대학합격', '부모님건강', '다이어트 성공!', '게임 만렙', '콘써트 가기', '3kg 살빼기', \n",
    "            '승진', '국토종주', '해외여행']\n",
    "\n",
    "idx = random.randint(0, len(wishList)-1)\n",
    " \n",
    "print('당신의 이번 달의 행운은...')\n",
    "time.sleep(2) #2초간 멈춤\n",
    "print(wishList[idx], '입니다.')"
   ]
  },
  {
   "cell_type": "markdown",
   "metadata": {},
   "source": [
    "### median : 중앙값\n",
    "- 원소를 크기 순으로 나열했을 때, 가장 중앙에 위치한 값\n",
    "- 홀수 개 : 중앙 위치의 값\n",
    "- 짝수 개 : 중앙 2개 원소의 평균값"
   ]
  },
  {
   "cell_type": "code",
   "execution_count": 73,
   "metadata": {},
   "outputs": [
    {
     "name": "stdout",
     "output_type": "stream",
     "text": [
      "정렬한 리스트: [1, 2, 3, 4, 5, 6, 7, 8, 9, 10, 15]\n",
      "중앙값: 6\n"
     ]
    }
   ],
   "source": [
    "# 실습 8-1 : 리스트의 개수가 홀수 개 일때\n",
    "numbers = [8, 6, 3, 10, 2, 9, 1, 4, 7, 5, 15] #11개 : 홀수\n",
    "sorted_numbers = sorted(numbers)\n",
    "med_idx = len(numbers) // 2                    #// : 나눗셈 몫\n",
    "median = sorted_numbers[med_idx]\n",
    "\n",
    "print('정렬한 리스트:', sorted_numbers)\n",
    "print('중앙값:', median)"
   ]
  },
  {
   "cell_type": "code",
   "execution_count": 75,
   "metadata": {},
   "outputs": [
    {
     "name": "stdout",
     "output_type": "stream",
     "text": [
      "정렬한 리스트: [1, 2, 3, 4, 5, 6, 7, 8, 9, 10]\n",
      "중앙값: 5.5\n"
     ]
    }
   ],
   "source": [
    "# 실습 8-2 : 리스트의 개수가 짝수 개 일때\n",
    "numbers = [8, 6, 3, 10, 2, 9, 1, 4, 7, 5] #10개 : 짝수\n",
    "sorted_numbers = sorted(numbers)\n",
    "med_idx = len(numbers) // 2 \n",
    "median = (sorted_numbers[med_idx-1] + sorted_numbers[med_idx]) / 2\n",
    "\n",
    "print('정렬한 리스트:', sorted_numbers)\n",
    "print('중앙값:', median)"
   ]
  },
  {
   "cell_type": "code",
   "execution_count": 76,
   "metadata": {},
   "outputs": [
    {
     "name": "stdout",
     "output_type": "stream",
     "text": [
      "정렬한 리스트: [1, 2, 3, 4, 5, 6, 7, 8, 9, 10]\n",
      "중앙값: 5.5\n"
     ]
    }
   ],
   "source": [
    "# 실습 8-3 : 혼합\n",
    "numbers = [8, 6, 3, 10, 2, 9, 1, 4, 7, 5]\n",
    "sorted_numbers = sorted(numbers)\n",
    "med_idx = len(numbers) // 2\n",
    "\n",
    "if len(numbers) % 2: #홀수 개\n",
    "    median = sorted_numbers[med_idx]\n",
    "else: #짝수 개\n",
    "    median = (sorted_numbers[med_idx-1] + sorted_numbers[med_idx]) / 2\n",
    "\n",
    "print('정렬한 리스트:', sorted_numbers)\n",
    "print('중앙값:', median)"
   ]
  },
  {
   "cell_type": "code",
   "execution_count": 78,
   "metadata": {},
   "outputs": [
    {
     "data": {
      "text/plain": [
       "[]"
      ]
     },
     "execution_count": 78,
     "metadata": {},
     "output_type": "execute_result"
    }
   ],
   "source": [
    "a = list()\n",
    "a #빈 리스트 표시 : []"
   ]
  },
  {
   "cell_type": "code",
   "execution_count": 80,
   "metadata": {},
   "outputs": [
    {
     "data": {
      "text/plain": [
       "['h', 'e', 'l', 'l', 'o']"
      ]
     },
     "execution_count": 80,
     "metadata": {},
     "output_type": "execute_result"
    }
   ],
   "source": [
    "list('hello') #문자열을 한 글자씩 분리하여 리스트 생성"
   ]
  },
  {
   "cell_type": "code",
   "execution_count": 81,
   "metadata": {},
   "outputs": [
    {
     "data": {
      "text/plain": [
       "'l'"
      ]
     },
     "execution_count": 81,
     "metadata": {},
     "output_type": "execute_result"
    }
   ],
   "source": [
    "'hello'[3] #자동으로 리스트로 변환하여 처리"
   ]
  },
  {
   "cell_type": "markdown",
   "metadata": {},
   "source": [
    "### split() 메소드 \n",
    "- 문자열의 단어를 분리하여 리스트 생성\n",
    "- split() : 공백을 기준으로 분리\n",
    "- split(문자) : 문자를 기준으로 분리"
   ]
  },
  {
   "cell_type": "code",
   "execution_count": 82,
   "metadata": {},
   "outputs": [
    {
     "data": {
      "text/plain": [
       "['1', '2', '3', '4', '5']"
      ]
     },
     "execution_count": 82,
     "metadata": {},
     "output_type": "execute_result"
    }
   ],
   "source": [
    "a = '1 2 3 4 5'\n",
    "b = a.split()\n",
    "b"
   ]
  },
  {
   "cell_type": "code",
   "execution_count": 84,
   "metadata": {},
   "outputs": [
    {
     "data": {
      "text/plain": [
       "['1', '2', '3', '4', '5']"
      ]
     },
     "execution_count": 84,
     "metadata": {},
     "output_type": "execute_result"
    }
   ],
   "source": [
    "a = '1:2:3:4:5'\n",
    "b = a.split(':')\n",
    "b"
   ]
  },
  {
   "cell_type": "code",
   "execution_count": 88,
   "metadata": {},
   "outputs": [
    {
     "name": "stdout",
     "output_type": "stream",
     "text": [
      "문장을 입력하세요: Hi Hello III\n"
     ]
    },
    {
     "data": {
      "text/plain": [
       "['Hi', 'Hello', 'III']"
      ]
     },
     "execution_count": 88,
     "metadata": {},
     "output_type": "execute_result"
    }
   ],
   "source": [
    "input('문장을 입력하세요: ').split()"
   ]
  },
  {
   "cell_type": "code",
   "execution_count": 89,
   "metadata": {},
   "outputs": [
    {
     "name": "stdout",
     "output_type": "stream",
     "text": [
      "문장을 입력하세요: Hi Hello III\n"
     ]
    },
    {
     "data": {
      "text/plain": [
       "'Hello'"
      ]
     },
     "execution_count": 89,
     "metadata": {},
     "output_type": "execute_result"
    }
   ],
   "source": [
    "input('문장을 입력하세요: ').split()[1]"
   ]
  },
  {
   "cell_type": "code",
   "execution_count": 90,
   "metadata": {},
   "outputs": [
    {
     "data": {
      "text/plain": [
       "['He', '', 'o wor', 'd']"
      ]
     },
     "execution_count": 90,
     "metadata": {},
     "output_type": "execute_result"
    }
   ],
   "source": [
    "a='Hello world'\n",
    "a.split('l')"
   ]
  },
  {
   "cell_type": "code",
   "execution_count": 92,
   "metadata": {},
   "outputs": [
    {
     "data": {
      "text/plain": [
       "('Hello world',\n",
       " ['H', 'e', 'l', 'l', 'o', ' ', 'w', 'o', 'r', 'l', 'd'],\n",
       " ['Hello', 'world'],\n",
       " ['Hell', ' w', 'rld'])"
      ]
     },
     "execution_count": 92,
     "metadata": {},
     "output_type": "execute_result"
    }
   ],
   "source": [
    "a = 'Hello world'\n",
    "b = list(a)\n",
    "c = a.split()\n",
    "d = a.split('o')\n",
    "a, b, c, d"
   ]
  },
  {
   "cell_type": "markdown",
   "metadata": {},
   "source": [
    "### 슬라이싱\n",
    "- 리스트의 일부를 정한 규칙으로 추출\n",
    "- list[시작:끝:스텝] : 끝번호의 -1번 까지"
   ]
  },
  {
   "cell_type": "code",
   "execution_count": 94,
   "metadata": {},
   "outputs": [
    {
     "data": {
      "text/plain": [
       "[3, 4]"
      ]
     },
     "execution_count": 94,
     "metadata": {},
     "output_type": "execute_result"
    }
   ],
   "source": [
    "a = [0,1,2,3,4,5,6,7,8,9,10]\n",
    "a[3:5]"
   ]
  },
  {
   "cell_type": "code",
   "execution_count": 97,
   "metadata": {},
   "outputs": [
    {
     "data": {
      "text/plain": [
       "[2, 4, 6, 8, 10]"
      ]
     },
     "execution_count": 97,
     "metadata": {},
     "output_type": "execute_result"
    }
   ],
   "source": [
    "a[2:11:2] #2~10까지 2step"
   ]
  },
  {
   "cell_type": "code",
   "execution_count": 98,
   "metadata": {},
   "outputs": [
    {
     "data": {
      "text/plain": [
       "5"
      ]
     },
     "execution_count": 98,
     "metadata": {},
     "output_type": "execute_result"
    }
   ],
   "source": [
    "len(a[2:11:2])"
   ]
  },
  {
   "cell_type": "code",
   "execution_count": 99,
   "metadata": {},
   "outputs": [
    {
     "data": {
      "text/plain": [
       "[0, 1, 2, 3, 4, 5, 6, 7, 8, 9, 10]"
      ]
     },
     "execution_count": 99,
     "metadata": {},
     "output_type": "execute_result"
    }
   ],
   "source": [
    "a[::] #처음~끝"
   ]
  },
  {
   "cell_type": "code",
   "execution_count": 100,
   "metadata": {},
   "outputs": [
    {
     "data": {
      "text/plain": [
       "[9, 8, 7, 6, 5, 4, 3, 2]"
      ]
     },
     "execution_count": 100,
     "metadata": {},
     "output_type": "execute_result"
    }
   ],
   "source": [
    "a[9:1:-1] #9부터 역순으로"
   ]
  },
  {
   "cell_type": "code",
   "execution_count": 101,
   "metadata": {},
   "outputs": [
    {
     "data": {
      "text/plain": [
       "[]"
      ]
     },
     "execution_count": 101,
     "metadata": {},
     "output_type": "execute_result"
    }
   ],
   "source": [
    "a = [1,6,2,4,8,5,3,10,9,7]\n",
    "a[0:0] #빈 리스트"
   ]
  },
  {
   "cell_type": "markdown",
   "metadata": {},
   "source": [
    "# range() \n",
    "- range(끝) : 0 ~ 끝 이전\n",
    "- range(시작, 끝) : 시작 ~ 끝 이전\n",
    "- range(시작, 끝, 스텝)\n",
    "- range(시작, 끝, -스텝)"
   ]
  },
  {
   "cell_type": "code",
   "execution_count": 102,
   "metadata": {},
   "outputs": [
    {
     "data": {
      "text/plain": [
       "range(0, 10)"
      ]
     },
     "execution_count": 102,
     "metadata": {},
     "output_type": "execute_result"
    }
   ],
   "source": [
    "range(10)"
   ]
  },
  {
   "cell_type": "code",
   "execution_count": 103,
   "metadata": {},
   "outputs": [
    {
     "data": {
      "text/plain": [
       "[0, 1, 2, 3, 4, 5, 6, 7, 8, 9]"
      ]
     },
     "execution_count": 103,
     "metadata": {},
     "output_type": "execute_result"
    }
   ],
   "source": [
    "list(range(10))"
   ]
  },
  {
   "cell_type": "code",
   "execution_count": 104,
   "metadata": {},
   "outputs": [
    {
     "data": {
      "text/plain": [
       "[10, 11, 12, 13, 14, 15, 16, 17, 18, 19]"
      ]
     },
     "execution_count": 104,
     "metadata": {},
     "output_type": "execute_result"
    }
   ],
   "source": [
    "list(range(10, 20))"
   ]
  },
  {
   "cell_type": "code",
   "execution_count": 105,
   "metadata": {},
   "outputs": [
    {
     "data": {
      "text/plain": [
       "[1, 2, 3, 4, 5, 6, 7, 8, 9, 10]"
      ]
     },
     "execution_count": 105,
     "metadata": {},
     "output_type": "execute_result"
    }
   ],
   "source": [
    "list(range(1, 11))"
   ]
  },
  {
   "cell_type": "code",
   "execution_count": 107,
   "metadata": {},
   "outputs": [
    {
     "data": {
      "text/plain": [
       "[2, 4, 6, 8, 10]"
      ]
     },
     "execution_count": 107,
     "metadata": {},
     "output_type": "execute_result"
    }
   ],
   "source": [
    "list(range(2, 11, 2))"
   ]
  },
  {
   "cell_type": "code",
   "execution_count": 110,
   "metadata": {},
   "outputs": [
    {
     "data": {
      "text/plain": [
       "[10, 8, 6, 4, 2]"
      ]
     },
     "execution_count": 110,
     "metadata": {},
     "output_type": "execute_result"
    }
   ],
   "source": [
    "list(range(10, 1, -2))"
   ]
  },
  {
   "cell_type": "code",
   "execution_count": 112,
   "metadata": {},
   "outputs": [
    {
     "data": {
      "text/plain": [
       "[10, 9, 8, 7, 6, 5, 4, 3, 2, 1]"
      ]
     },
     "execution_count": 112,
     "metadata": {},
     "output_type": "execute_result"
    }
   ],
   "source": [
    "list(range(10, 0, -1))"
   ]
  },
  {
   "cell_type": "code",
   "execution_count": 115,
   "metadata": {},
   "outputs": [
    {
     "data": {
      "text/plain": [
       "[10, 9, 8, 7, 6, 5, 4, 3, 2, 1, 0]"
      ]
     },
     "execution_count": 115,
     "metadata": {},
     "output_type": "execute_result"
    }
   ],
   "source": [
    "list(range(10, -1, -1))"
   ]
  },
  {
   "cell_type": "code",
   "execution_count": 116,
   "metadata": {},
   "outputs": [
    {
     "data": {
      "text/plain": [
       "range(4, 9)"
      ]
     },
     "execution_count": 116,
     "metadata": {},
     "output_type": "execute_result"
    }
   ],
   "source": [
    "b = 3\n",
    "length = 5\n",
    "range(1, 20)[b : b + length]"
   ]
  }
 ],
 "metadata": {
  "kernelspec": {
   "display_name": "Python 3 (ipykernel)",
   "language": "python",
   "name": "python3"
  },
  "language_info": {
   "codemirror_mode": {
    "name": "ipython",
    "version": 3
   },
   "file_extension": ".py",
   "mimetype": "text/x-python",
   "name": "python",
   "nbconvert_exporter": "python",
   "pygments_lexer": "ipython3",
   "version": "3.9.12"
  }
 },
 "nbformat": 4,
 "nbformat_minor": 4
}
