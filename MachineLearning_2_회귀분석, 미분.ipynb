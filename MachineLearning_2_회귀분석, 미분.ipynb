{
 "cells": [
  {
   "cell_type": "markdown",
   "id": "a7685b2c",
   "metadata": {},
   "source": [
    "# 회귀 분석"
   ]
  },
  {
   "cell_type": "markdown",
   "id": "6436743a",
   "metadata": {},
   "source": [
    "### Python으로 미분식 구하는 방법"
   ]
  },
  {
   "cell_type": "code",
   "execution_count": 1,
   "id": "db64eb05",
   "metadata": {},
   "outputs": [],
   "source": [
    "from sympy import symbols, Derivative"
   ]
  },
  {
   "cell_type": "code",
   "execution_count": 2,
   "id": "62feba79",
   "metadata": {},
   "outputs": [
    {
     "data": {
      "text/latex": [
       "$\\displaystyle 6 x - 4$"
      ],
      "text/plain": [
       "6*x - 4"
      ]
     },
     "execution_count": 2,
     "metadata": {},
     "output_type": "execute_result"
    }
   ],
   "source": [
    "x = symbols('x') #함수에 사용될 변수를 심볼화\n",
    "fx = 3 * x ** 2 - 4 * x + 1 #함수식\n",
    "Derivative(fx, x).doit() #x에 대한 도함수 구하기"
   ]
  },
  {
   "cell_type": "code",
   "execution_count": 3,
   "id": "e71fcc34",
   "metadata": {},
   "outputs": [
    {
     "data": {
      "text/latex": [
       "$\\displaystyle 8$"
      ],
      "text/plain": [
       "8"
      ]
     },
     "execution_count": 3,
     "metadata": {},
     "output_type": "execute_result"
    }
   ],
   "source": [
    "d = Derivative(fx, x).doit() #미분식의 객체화\n",
    "d.subs({x:2}) # x = 2일때의 미분계수"
   ]
  },
  {
   "cell_type": "markdown",
   "id": "8b806273",
   "metadata": {},
   "source": [
    "#### MSE 편미분하기"
   ]
  },
  {
   "cell_type": "code",
   "execution_count": 4,
   "id": "452271d4",
   "metadata": {},
   "outputs": [
    {
     "data": {
      "text/latex": [
       "$\\displaystyle - \\frac{2 x \\left(- W x - b + y\\right)}{n}$"
      ],
      "text/plain": [
       "-2*x*(-W*x - b + y)/n"
      ]
     },
     "execution_count": 4,
     "metadata": {},
     "output_type": "execute_result"
    }
   ],
   "source": [
    "n, x, W, b, y = symbols('n, x, W, b, y') #함수에 사용될 변수를 심볼화\n",
    "fx = (y - W * x - b) ** 2 / n #MSE 함수식\n",
    "Derivative(fx, W).doit() #w에 대한 편미분식 구하기"
   ]
  },
  {
   "cell_type": "code",
   "execution_count": 5,
   "id": "413541ba",
   "metadata": {},
   "outputs": [
    {
     "data": {
      "text/latex": [
       "$\\displaystyle \\frac{2 W x + 2 b - 2 y}{n}$"
      ],
      "text/plain": [
       "(2*W*x + 2*b - 2*y)/n"
      ]
     },
     "execution_count": 5,
     "metadata": {},
     "output_type": "execute_result"
    }
   ],
   "source": [
    "Derivative(fx, b).doit()"
   ]
  },
  {
   "cell_type": "code",
   "execution_count": 6,
   "id": "e28de7ba",
   "metadata": {},
   "outputs": [],
   "source": [
    "del W, b, y, x, n #symbol을 변수로 사용하기 위해 지움\n",
    "#함수식을 정의하기 위해 symbol로 정해진 name은 변수로 사용될 수 없기때문"
   ]
  },
  {
   "cell_type": "markdown",
   "id": "a40562fd",
   "metadata": {},
   "source": [
    "##  경사하강법"
   ]
  },
  {
   "cell_type": "markdown",
   "id": "540eaddb",
   "metadata": {},
   "source": [
    "### (1) 수치 미분법 "
   ]
  },
  {
   "cell_type": "markdown",
   "id": "4e5f499d",
   "metadata": {},
   "source": [
    "#### 중심 차분법"
   ]
  },
  {
   "cell_type": "code",
   "execution_count": 7,
   "id": "6a57906a",
   "metadata": {},
   "outputs": [],
   "source": [
    "def numerical_derivative(func, x):\n",
    "    delta = 1E-4 #소수 네번째자리가 1이되도록\n",
    "    return (func(x + delta) - func(x - delta)) / (2 * delta)"
   ]
  },
  {
   "cell_type": "code",
   "execution_count": 8,
   "id": "a37fcb8b",
   "metadata": {},
   "outputs": [
    {
     "data": {
      "text/plain": [
       "4.000000000004"
      ]
     },
     "execution_count": 8,
     "metadata": {},
     "output_type": "execute_result"
    }
   ],
   "source": [
    "def func1(x):\n",
    "    return x**2\n",
    "numerical_derivative(func1, 2.0) #x=2에서의 미분값"
   ]
  },
  {
   "cell_type": "code",
   "execution_count": 9,
   "id": "21b5ad57",
   "metadata": {},
   "outputs": [
    {
     "name": "stdout",
     "output_type": "stream",
     "text": [
      "0 : 0.0\n",
      "1 : 1.9999999999992246\n",
      "2 : 4.000000000004\n",
      "3 : 6.000000000012662\n",
      "4 : 7.999999999999119\n",
      "5 : 9.999999999976694\n",
      "6 : 11.999999999972033\n",
      "7 : 13.999999999967372\n",
      "8 : 15.999999999927184\n",
      "9 : 17.99999999995805\n",
      "10 : 19.99999999995339\n"
     ]
    }
   ],
   "source": [
    "for i in range(0, 11):\n",
    "    print(i, ':', numerical_derivative(func1, float(i)))"
   ]
  },
  {
   "cell_type": "markdown",
   "id": "b5a488e7",
   "metadata": {},
   "source": [
    "#### 다중 변수 미분 계수 구하기\n",
    "- https://numpy.org/doc/stable/reference/generated/numpy.nditer.html\n",
    "- 입력 변수가 독립적이기 때문에, 수치 미분도 변수의 개수만큼 개별적으로 계산 (각각 수치 미분 수행)"
   ]
  },
  {
   "cell_type": "code",
   "execution_count": 10,
   "id": "73b0ce0d",
   "metadata": {},
   "outputs": [],
   "source": [
    "#수치미분법에 의한 다중 변수 미분 계수 구하는 프로그램\n",
    "import numpy as np\n",
    "\n",
    "def numerical_derivative(f, x): #f:다변수 함수, x:모든 변수값을 포함하고 있는 numpy배열\n",
    "    delta = 1E-4\n",
    "    \n",
    "    grad = np.zeros_like(x) # 각 변수마다, 계산된 수치 미분계수 값\n",
    "    itr = np.nditer(x, flags=['multi_index'], op_flags=['readwrite'])\n",
    "    \n",
    "    while not itr.finished: #끝까지 갔는지 체크\n",
    "        idx = itr.multi_index   # index\n",
    "        \n",
    "        tmp_val = x[idx]  #임시보관\n",
    "        \n",
    "        x[idx] = float(tmp_val + delta)\n",
    "        fx1 = f(x) #f(x+delta, y) 계산\n",
    "        \n",
    "        x[idx] = float(tmp_val - delta)\n",
    "        fx2 = f(x) #f(x-delta, y) 계산\n",
    "        grad[idx] = (fx1 - fx2) / (2 * delta)\n",
    "        \n",
    "        x[idx] = tmp_val\n",
    "        itr.iternext() \n",
    "    else:\n",
    "        #print(grad)\n",
    "        return grad"
   ]
  },
  {
   "cell_type": "code",
   "execution_count": 11,
   "id": "c81d857b",
   "metadata": {},
   "outputs": [],
   "source": [
    "#수치미분법에 의한 선형 회귀 구현\n",
    "def MSE(p):  #p: [W, b]를 가지는 numpy 배열\n",
    "    global X, y\n",
    "    y_pred = X * p[0] + p[1]\n",
    "    return np.sum((y - y_pred) ** 2) / len(X)"
   ]
  },
  {
   "cell_type": "code",
   "execution_count": 12,
   "id": "04a5ad3c",
   "metadata": {},
   "outputs": [],
   "source": [
    "#자료\n",
    "X = np.array([-3, -2, -1, 0, 1, 2, 3])\n",
    "y = np.array([-2, -1, 0, 1, 2, 3, 4]) #y = 1*x + 1"
   ]
  },
  {
   "cell_type": "code",
   "execution_count": 13,
   "id": "84027aab",
   "metadata": {},
   "outputs": [
    {
     "name": "stdout",
     "output_type": "stream",
     "text": [
      "Epochs: 0 \tW: -9.0 \tb: -2.0 \tcost: 409.0\n",
      "Epochs: 1 gradient W: -80.00, gradient b:-6.00,  W:-8.20, b:-1.94, cost: 347.20\n",
      "Epochs: 2 gradient W: -73.60, gradient b:-5.88,  W:-7.46, b:-1.88, cost: 294.86\n",
      "Epochs: 3 gradient W: -67.71, gradient b:-5.76,  W:-6.79, b:-1.82, cost: 250.51\n",
      "Epochs: 4 gradient W: -62.30, gradient b:-5.65,  W:-6.16, b:-1.77, cost: 212.94\n",
      "Epochs: 5 gradient W: -57.31, gradient b:-5.53,  W:-5.59, b:-1.71, cost: 181.11\n",
      "Epochs: 6 gradient W: -52.73, gradient b:-5.42,  W:-5.06, b:-1.66, cost: 154.13\n",
      "Epochs: 7 gradient W: -48.51, gradient b:-5.32,  W:-4.58, b:-1.60, cost: 131.26\n",
      "Epochs: 8 gradient W: -44.63, gradient b:-5.21,  W:-4.13, b:-1.55, cost: 111.87\n",
      "Epochs: 9 gradient W: -41.06, gradient b:-5.10,  W:-3.72, b:-1.50, cost: 95.43\n",
      "Epochs: 100 gradient W: -0.02, gradient b:-0.81,  W:1.00, b:0.60, cost: 0.16\n",
      "Epochs: 200 gradient W: -0.00, gradient b:-0.11,  W:1.00, b:0.95, cost: 0.00\n",
      "Epochs: 300 gradient W: -0.00, gradient b:-0.01,  W:1.00, b:0.99, cost: 0.00\n",
      "Epochs: 400 gradient W: -0.00, gradient b:-0.00,  W:1.00, b:1.00, cost: 0.00\n",
      "Epochs: 500 gradient W: -0.00, gradient b:-0.00,  W:1.00, b:1.00, cost: 0.00\n",
      "Epochs: 600 gradient W: -0.00, gradient b:-0.00,  W:1.00, b:1.00, cost: 0.00\n",
      "Epochs: 700 gradient W: -0.00, gradient b:-0.00,  W:1.00, b:1.00, cost: 0.00\n",
      "Epochs: 800 gradient W: -0.00, gradient b:-0.00,  W:1.00, b:1.00, cost: 0.00\n",
      "Epochs: 900 gradient W: -0.00, gradient b:-0.00,  W:1.00, b:1.00, cost: 0.00\n",
      "Epochs: 1000 gradient W: -0.00, gradient b:-0.00,  W:1.00, b:1.00, cost: 0.00\n"
     ]
    }
   ],
   "source": [
    "#실제 프로그램\n",
    "import random\n",
    "\n",
    "W = float(random.randint(-10, 10))\n",
    "b = float(random.randint(-10, 10))\n",
    "\n",
    "#list 형태로 변환\n",
    "W_history = [W]\n",
    "b_history = [b]\n",
    "\n",
    "cost = MSE(np.array([W, b])) #MSE 함수 사용 - numpy배열\n",
    "print(\"Epochs:\",0,\"\\tW:\",W,\"\\tb:\",b,\"\\tcost:\",cost) #Epochs가 0일때 출력\n",
    "\n",
    "rate = 0.01 #Learning rate  #데이터 개수가 작으면 rate가 커지고, 데이터 개수가 커지면 rate가 작아짐  #1보다 작은 값\n",
    "MaxItrs = 1000 #최대 1000번 반복\n",
    "\n",
    "for epoch in range(1, MaxItrs + 1):  #epoch: 반복 횟수 저장\n",
    "    gradientW, gradientB = numerical_derivative(MSE, np.array([W, b]))\n",
    "    #새로운 W, B 생성\n",
    "    newW = W - rate * gradientW  #Grad descent\n",
    "    newb = b - rate * gradientB  #Grad descent\n",
    "    W_history.append(newW)\n",
    "    b_history.append(newb)\n",
    "    W, b = newW, newb #새로 바뀐값이 [W, b]로 다시 대입\n",
    "    \n",
    "    cost = MSE(np.array([W, b])) #바뀐 [W, b]를 사용하여 cost 다시 계산\n",
    "\n",
    "    if len(str(epoch))==1 or epoch %100==0 or epoch==MaxItrs:\n",
    "        print('Epochs:', epoch, \n",
    "              'gradient W: %.2f, gradient b:%.2f, ' %(gradientW, gradientB), \n",
    "              end=' ')\n",
    "        print(\"W:%.2f, b:%.2f, cost: %.2f\" % (W, b, cost)) #Print result \n",
    "\n",
    "# gradient W/b가 양수이면 점점 값이 줄어듦 -> 1로 수렴\n",
    "# gradient W/b가 음수이면 점점 값이 커짐-> 1로 수렴"
   ]
  },
  {
   "cell_type": "code",
   "execution_count": 14,
   "id": "16135939",
   "metadata": {},
   "outputs": [
    {
     "data": {
      "image/png": "[encoded data removed]",
      "text/plain": [
       "<Figure size 432x288 with 1 Axes>"
      ]
     },
     "metadata": {
      "needs_background": "light"
     },
     "output_type": "display_data"
    }
   ],
   "source": [
    "import matplotlib.pyplot as plt\n",
    "plt.plot(W_history)\n",
    "plt.show()"
   ]
  },
  {
   "cell_type": "code",
   "execution_count": 15,
   "id": "478e785c",
   "metadata": {},
   "outputs": [
    {
     "data": {
      "image/png": "[encoded data removed]",
      "text/plain": [
       "<Figure size 432x288 with 1 Axes>"
      ]
     },
     "metadata": {
      "needs_background": "light"
     },
     "output_type": "display_data"
    }
   ],
   "source": [
    "plt.plot(b_history, 'r')\n",
    "plt.show()"
   ]
  },
  {
   "cell_type": "markdown",
   "id": "f72ff992",
   "metadata": {},
   "source": [
    "### (2) 해석적 미분법"
   ]
  },
  {
   "cell_type": "code",
   "execution_count": 16,
   "id": "e8d573c4",
   "metadata": {},
   "outputs": [],
   "source": [
    "def MSE(W, b):\n",
    "    global X, y\n",
    "    y_pred = X * W + b\n",
    "    return np.sum((y - y_pred) ** 2) / len(X)\n",
    "\n",
    "def gradient(W, b):\n",
    "    global X, y\n",
    "    return np.sum(-2*X * (-W*X - b + y)) / len(X), np.sum(2*(W*X + b - y)) / len(X)"
   ]
  },
  {
   "cell_type": "code",
   "execution_count": 17,
   "id": "dbc84849",
   "metadata": {},
   "outputs": [],
   "source": [
    "#자료\n",
    "X = np.array([-3, -2, -1, 0, 1, 2, 3])\n",
    "y = np.array([-2, -1, 0, 1, 2, 3, 4]) #y = 1*x + 1"
   ]
  },
  {
   "cell_type": "code",
   "execution_count": 18,
   "id": "3ec3b259",
   "metadata": {},
   "outputs": [
    {
     "name": "stdout",
     "output_type": "stream",
     "text": [
      "Epochs: 0 \tW: 10.0 \tb: -5.0 \tcost: 360.0\n",
      "Epochs: 1 gradient W: 72.00, gradient b:-12.00,  W:9.28, b:-4.88, cost: 308.81\n",
      "Epochs: 2 gradient W: 66.24, gradient b:-11.76,  W:8.62, b:-4.76, cost: 265.32\n",
      "Epochs: 3 gradient W: 60.94, gradient b:-11.52,  W:8.01, b:-4.65, cost: 228.35\n",
      "Epochs: 4 gradient W: 56.07, gradient b:-11.29,  W:7.45, b:-4.53, cost: 196.91\n",
      "Epochs: 5 gradient W: 51.58, gradient b:-11.07,  W:6.93, b:-4.42, cost: 170.16\n",
      "Epochs: 6 gradient W: 47.45, gradient b:-10.85,  W:6.46, b:-4.32, cost: 147.37\n",
      "Epochs: 7 gradient W: 43.66, gradient b:-10.63,  W:6.02, b:-4.21, cost: 127.96\n",
      "Epochs: 8 gradient W: 40.16, gradient b:-10.42,  W:5.62, b:-4.10, cost: 111.40\n",
      "Epochs: 9 gradient W: 36.95, gradient b:-10.21,  W:5.25, b:-4.00, cost: 97.26\n",
      "Epochs: 100 gradient W: 0.02, gradient b:-1.62,  W:1.00, b:0.20, cost: 0.63\n",
      "Epochs: 200 gradient W: 0.00, gradient b:-0.22,  W:1.00, b:0.89, cost: 0.01\n",
      "Epochs: 300 gradient W: 0.00, gradient b:-0.03,  W:1.00, b:0.99, cost: 0.00\n",
      "Epochs: 400 gradient W: 0.00, gradient b:-0.00,  W:1.00, b:1.00, cost: 0.00\n",
      "Epochs: 500 gradient W: 0.00, gradient b:-0.00,  W:1.00, b:1.00, cost: 0.00\n",
      "Epochs: 600 gradient W: 0.00, gradient b:-0.00,  W:1.00, b:1.00, cost: 0.00\n",
      "Epochs: 700 gradient W: 0.00, gradient b:-0.00,  W:1.00, b:1.00, cost: 0.00\n",
      "Epochs: 800 gradient W: 0.00, gradient b:-0.00,  W:1.00, b:1.00, cost: 0.00\n",
      "Epochs: 900 gradient W: 0.00, gradient b:-0.00,  W:1.00, b:1.00, cost: 0.00\n",
      "Epochs: 1000 gradient W: 0.00, gradient b:-0.00,  W:1.00, b:1.00, cost: 0.00\n"
     ]
    }
   ],
   "source": [
    "#실제 프로그램\n",
    "import random\n",
    "\n",
    "W = float(random.randint(-10, 10))\n",
    "b = float(random.randint(-10, 10))\n",
    "\n",
    "#list 형태로 변환\n",
    "W_history = [W]\n",
    "b_history = [b]\n",
    "\n",
    "cost = MSE(W, b) #MSE 함수 사용 - numpy배열\n",
    "print(\"Epochs:\",0,\"\\tW:\",W,\"\\tb:\",b,\"\\tcost:\",cost) #Epochs가 0일때 출력\n",
    "\n",
    "rate = 0.01 #Learning rate  #데이터 개수가 작으면 rate가 커지고, 데이터 개수가 커지면 rate가 작아짐  #1보다 작은 값\n",
    "MaxItrs = 1000 #최대 1000번 반복\n",
    "\n",
    "for epoch in range(1, MaxItrs + 1):  #epoch: 반복 횟수 저장\n",
    "    gradientW, gradientB = gradient(W, b)\n",
    "    #새로운 W, B 생성\n",
    "    newW = W - rate * gradientW  #Grad descent\n",
    "    newb = b - rate * gradientB  #Grad descent\n",
    "    W_history.append(newW)\n",
    "    b_history.append(newb)\n",
    "    W, b = newW, newb #새로 바뀐값이 [W, b]로 다시 대입\n",
    "    \n",
    "    cost = MSE(W, b) #바뀐 [W, b]를 사용하여 cost 다시 계산\n",
    "\n",
    "    if len(str(epoch))==1 or epoch %100==0 or epoch==MaxItrs:\n",
    "        print('Epochs:', epoch, \n",
    "              'gradient W: %.2f, gradient b:%.2f, ' %(gradientW, gradientB), \n",
    "              end=' ')\n",
    "        print(\"W:%.2f, b:%.2f, cost: %.2f\" % (W, b, cost)) #Print result \n",
    "\n",
    "# gradient W/b가 양수이면 점점 값이 줄어듦 -> 1로 수렴\n",
    "# gradient W/b가 음수이면 점점 값이 커짐-> 1로 수렴"
   ]
  },
  {
   "cell_type": "code",
   "execution_count": 19,
   "id": "2e26b340",
   "metadata": {},
   "outputs": [
    {
     "data": {
      "image/png": "[encoded data removed]",
      "text/plain": [
       "<Figure size 432x288 with 1 Axes>"
      ]
     },
     "metadata": {
      "needs_background": "light"
     },
     "output_type": "display_data"
    }
   ],
   "source": [
    "#W와 b값 변화 보기\n",
    "iters = np.arange(MaxItrs + 1)\n",
    "plt.plot(iters, W_history, 'r', b_history, 'b')\n",
    "plt.show()"
   ]
  },
  {
   "cell_type": "markdown",
   "id": "961c4c96",
   "metadata": {},
   "source": [
    "## 랜덤 자료에 대한 단순 선형 회귀 분석"
   ]
  },
  {
   "cell_type": "code",
   "execution_count": 21,
   "id": "d4b6cfef",
   "metadata": {},
   "outputs": [
    {
     "data": {
      "image/png": "[encoded data removed]",
      "text/plain": [
       "<Figure size 432x288 with 1 Axes>"
      ]
     },
     "metadata": {
      "needs_background": "light"
     },
     "output_type": "display_data"
    }
   ],
   "source": [
    "rng = np.random.RandomState(42)\n",
    "X = 10 * rng.rand(50)\n",
    "y = 2*X -1 + rng.randn(50)\n",
    "plt.scatter(X, y)\n",
    "plt.show() #상관계수 약0.9(선에 가까운 정도)"
   ]
  },
  {
   "cell_type": "code",
   "execution_count": 27,
   "id": "c02c3bf0",
   "metadata": {},
   "outputs": [
    {
     "data": {
      "image/png": "[encoded data removed]",
      "text/plain": [
       "<Figure size 360x360 with 1 Axes>"
      ]
     },
     "metadata": {
      "needs_background": "light"
     },
     "output_type": "display_data"
    }
   ],
   "source": [
    "import pandas as pd\n",
    "import seaborn as sns\n",
    "\n",
    "df = pd.DataFrame()\n",
    "df['x'] = pd.Series(X)\n",
    "df['y'] = pd.Series(y)\n",
    "sns.lmplot(x = 'x', y = 'y', data = df)\n",
    "plt.show()"
   ]
  },
  {
   "cell_type": "markdown",
   "id": "9877e438",
   "metadata": {},
   "source": [
    "### (1) 해석적 방법 "
   ]
  },
  {
   "cell_type": "code",
   "execution_count": 29,
   "id": "3f16df02",
   "metadata": {},
   "outputs": [
    {
     "name": "stdout",
     "output_type": "stream",
     "text": [
      "1.9776566003853104\n",
      "-0.9033107255311146\n"
     ]
    }
   ],
   "source": [
    "#단순 선형 회귀\n",
    "Qx = X - X.mean()\n",
    "Qy = y - y.mean()\n",
    "W = sum(Qx * Qy) / sum(Qx ** 2)\n",
    "print(W) #기울기\n",
    "\n",
    "b = y.mean() - W * X.mean()\n",
    "print(b) #y절편"
   ]
  },
  {
   "cell_type": "code",
   "execution_count": 30,
   "id": "c8bd7b84",
   "metadata": {},
   "outputs": [
    {
     "data": {
      "image/png": "[encoded data removed]",
      "text/plain": [
       "<Figure size 360x360 with 1 Axes>"
      ]
     },
     "metadata": {
      "needs_background": "light"
     },
     "output_type": "display_data"
    }
   ],
   "source": [
    "xx = np.linspace(-1, 10, 10) #x축의 값 / 시작점, 끝점, 데이터 개수 -> 등간격\n",
    "yy = W * xx + b #직선의 방정식\n",
    "\n",
    "plt.figure(figsize =(5, 5))\n",
    "plt.scatter(X, y)\n",
    "plt.plot(xx, yy, c = 'r', marker = 'o')\n",
    "plt.show()"
   ]
  },
  {
   "cell_type": "markdown",
   "id": "2b96a95f",
   "metadata": {},
   "source": [
    "### (2) 수치미분 방법\n",
    "- 해석적 방법에 비해 시간이 더 오래걸림"
   ]
  },
  {
   "cell_type": "code",
   "execution_count": null,
   "id": "c10b487b",
   "metadata": {},
   "outputs": [],
   "source": [
    "#데이터 수가 많아지면 running rate값을 감소시켜야함 (0.001 or 0.0001부터 시작)\n",
    "#데이터 수가 많아지면 MaxItrs도 증가시켜야함"
   ]
  },
  {
   "cell_type": "markdown",
   "id": "aef3f2f0",
   "metadata": {},
   "source": [
    "### (3) Scikit Learn 활용\n",
    "- 데이터를 특징과 대상 벡터로 배치\n",
    "- 입력은 feature x값을 한 행씩으로 입력\n",
    "- y는 1차원"
   ]
  },
  {
   "cell_type": "code",
   "execution_count": 31,
   "id": "61ec687d",
   "metadata": {},
   "outputs": [
    {
     "name": "stdout",
     "output_type": "stream",
     "text": [
      "(50, 1)\n",
      "(50,)\n"
     ]
    }
   ],
   "source": [
    "X = X.reshape(-1, 1)\n",
    "print(X.shape) #한 sample당 한 행\n",
    "print(y.shape) #1차원"
   ]
  },
  {
   "cell_type": "code",
   "execution_count": 34,
   "id": "faef886d",
   "metadata": {},
   "outputs": [
    {
     "name": "stderr",
     "output_type": "stream",
     "text": [
      "C:\\Users\\ictai\\anaconda3\\lib\\site-packages\\sklearn\\linear_model\\_base.py:148: FutureWarning: 'normalize' was deprecated in version 1.0 and will be removed in 1.2. Please leave the normalize parameter to its default value to silence this warning. The default behavior of this estimator is to not do any normalization. If normalization is needed please use sklearn.preprocessing.StandardScaler instead.\n",
      "  warnings.warn(\n"
     ]
    },
    {
     "data": {
      "text/plain": [
       "LinearRegression(normalize=False)"
      ]
     },
     "execution_count": 34,
     "metadata": {},
     "output_type": "execute_result"
    }
   ],
   "source": [
    "#Scikit-learn 클래스 import & 모델 인스턴스화, 학습\n",
    "from sklearn.linear_model import LinearRegression #모델 클래스\n",
    "\n",
    "model = LinearRegression(copy_X = True, \n",
    "                         fit_intercept = True, #fit_intercept(True) : y절편 있음\n",
    "                         normalize = False) #원 값 그대로 사용\n",
    "model.fit(X, y)"
   ]
  },
  {
   "cell_type": "code",
   "execution_count": 35,
   "id": "233e6c0b",
   "metadata": {},
   "outputs": [
    {
     "data": {
      "text/plain": [
       "array([1.9776566])"
      ]
     },
     "execution_count": 35,
     "metadata": {},
     "output_type": "execute_result"
    }
   ],
   "source": [
    "model.coef_ #기울기(W)"
   ]
  },
  {
   "cell_type": "code",
   "execution_count": 36,
   "id": "51e763eb",
   "metadata": {},
   "outputs": [
    {
     "data": {
      "text/plain": [
       "-0.9033107255311164"
      ]
     },
     "execution_count": 36,
     "metadata": {},
     "output_type": "execute_result"
    }
   ],
   "source": [
    "model.intercept_ #b"
   ]
  },
  {
   "cell_type": "code",
   "execution_count": 37,
   "id": "b2b858cc",
   "metadata": {},
   "outputs": [
    {
     "data": {
      "image/png": "[encoded data removed]",
      "text/plain": [
       "<Figure size 360x360 with 1 Axes>"
      ]
     },
     "metadata": {
      "needs_background": "light"
     },
     "output_type": "display_data"
    }
   ],
   "source": [
    "#학습된 모델로 새로운 데이터에 대한 레이블(값) 예측하기\n",
    "xx = np.linspace(-1, 10, 10) #x축의 값 / 시작점, 끝점, 데이터 개수 -> 등간격\n",
    "yy = model.predict(xx.reshape(-1, 1)) #1차원 xx값을 2차원으로 입력 -> y는 1차원\n",
    "\n",
    "plt.figure(figsize =(5, 5))\n",
    "plt.scatter(X, y)\n",
    "plt.plot(xx, yy, c = 'r', marker = 'o')\n",
    "plt.show()"
   ]
  },
  {
   "cell_type": "markdown",
   "id": "02e914e4",
   "metadata": {},
   "source": [
    "## 다중 선형 회귀 분석\n",
    "- 독립변수 x가 1개 이상인 회귀"
   ]
  },
  {
   "cell_type": "markdown",
   "id": "efdd8d89",
   "metadata": {},
   "source": [
    "#### Boston House 가격 예측"
   ]
  },
  {
   "cell_type": "code",
   "execution_count": 43,
   "id": "128a112c",
   "metadata": {},
   "outputs": [
    {
     "data": {
      "text/plain": [
       "['DESCR', 'data', 'data_module', 'feature_names', 'filename', 'target']"
      ]
     },
     "execution_count": 43,
     "metadata": {},
     "output_type": "execute_result"
    }
   ],
   "source": [
    "from sklearn.datasets import load_boston\n",
    "house = load_boston()\n",
    "\n",
    "dir(house)"
   ]
  },
  {
   "cell_type": "code",
   "execution_count": 39,
   "id": "3353d250",
   "metadata": {},
   "outputs": [
    {
     "data": {
      "text/plain": [
       "'boston_house_prices.csv'"
      ]
     },
     "execution_count": 39,
     "metadata": {},
     "output_type": "execute_result"
    }
   ],
   "source": [
    "house.filename"
   ]
  },
  {
   "cell_type": "code",
   "execution_count": 40,
   "id": "32b4eede",
   "metadata": {},
   "outputs": [
    {
     "data": {
      "text/plain": [
       "(506, 13)"
      ]
     },
     "execution_count": 40,
     "metadata": {},
     "output_type": "execute_result"
    }
   ],
   "source": [
    "house.data.shape"
   ]
  },
  {
   "cell_type": "code",
   "execution_count": 41,
   "id": "6c809486",
   "metadata": {},
   "outputs": [
    {
     "data": {
      "text/plain": [
       "array(['CRIM', 'ZN', 'INDUS', 'CHAS', 'NOX', 'RM', 'AGE', 'DIS', 'RAD',\n",
       "       'TAX', 'PTRATIO', 'B', 'LSTAT'], dtype='<U7')"
      ]
     },
     "execution_count": 41,
     "metadata": {},
     "output_type": "execute_result"
    }
   ],
   "source": [
    "house.feature_names"
   ]
  },
  {
   "cell_type": "code",
   "execution_count": 42,
   "id": "e7517d21",
   "metadata": {},
   "outputs": [
    {
     "data": {
      "text/plain": [
       "(506,)"
      ]
     },
     "execution_count": 42,
     "metadata": {},
     "output_type": "execute_result"
    }
   ],
   "source": [
    "house.target.shape"
   ]
  },
  {
   "cell_type": "code",
   "execution_count": 46,
   "id": "b41d8b75",
   "metadata": {},
   "outputs": [
    {
     "data": {
      "text/html": [
       "<div>\n",
       "<style scoped>\n",
       "    .dataframe tbody tr th:only-of-type {\n",
       "        vertical-align: middle;\n",
       "    }\n",
       "\n",
       "    .dataframe tbody tr th {\n",
       "        vertical-align: top;\n",
       "    }\n",
       "\n",
       "    .dataframe thead th {\n",
       "        text-align: right;\n",
       "    }\n",
       "</style>\n",
       "<table border=\"1\" class=\"dataframe\">\n",
       "  <thead>\n",
       "    <tr style=\"text-align: right;\">\n",
       "      <th></th>\n",
       "      <th>CRIM</th>\n",
       "      <th>ZN</th>\n",
       "      <th>INDUS</th>\n",
       "      <th>CHAS</th>\n",
       "      <th>NOX</th>\n",
       "      <th>RM</th>\n",
       "      <th>AGE</th>\n",
       "      <th>DIS</th>\n",
       "      <th>RAD</th>\n",
       "      <th>TAX</th>\n",
       "      <th>PTRATIO</th>\n",
       "      <th>B</th>\n",
       "      <th>LSTAT</th>\n",
       "    </tr>\n",
       "  </thead>\n",
       "  <tbody>\n",
       "    <tr>\n",
       "      <th>0</th>\n",
       "      <td>0.00632</td>\n",
       "      <td>18.0</td>\n",
       "      <td>2.31</td>\n",
       "      <td>0.0</td>\n",
       "      <td>0.538</td>\n",
       "      <td>6.575</td>\n",
       "      <td>65.2</td>\n",
       "      <td>4.0900</td>\n",
       "      <td>1.0</td>\n",
       "      <td>296.0</td>\n",
       "      <td>15.3</td>\n",
       "      <td>396.90</td>\n",
       "      <td>4.98</td>\n",
       "    </tr>\n",
       "    <tr>\n",
       "      <th>1</th>\n",
       "      <td>0.02731</td>\n",
       "      <td>0.0</td>\n",
       "      <td>7.07</td>\n",
       "      <td>0.0</td>\n",
       "      <td>0.469</td>\n",
       "      <td>6.421</td>\n",
       "      <td>78.9</td>\n",
       "      <td>4.9671</td>\n",
       "      <td>2.0</td>\n",
       "      <td>242.0</td>\n",
       "      <td>17.8</td>\n",
       "      <td>396.90</td>\n",
       "      <td>9.14</td>\n",
       "    </tr>\n",
       "    <tr>\n",
       "      <th>2</th>\n",
       "      <td>0.02729</td>\n",
       "      <td>0.0</td>\n",
       "      <td>7.07</td>\n",
       "      <td>0.0</td>\n",
       "      <td>0.469</td>\n",
       "      <td>7.185</td>\n",
       "      <td>61.1</td>\n",
       "      <td>4.9671</td>\n",
       "      <td>2.0</td>\n",
       "      <td>242.0</td>\n",
       "      <td>17.8</td>\n",
       "      <td>392.83</td>\n",
       "      <td>4.03</td>\n",
       "    </tr>\n",
       "    <tr>\n",
       "      <th>3</th>\n",
       "      <td>0.03237</td>\n",
       "      <td>0.0</td>\n",
       "      <td>2.18</td>\n",
       "      <td>0.0</td>\n",
       "      <td>0.458</td>\n",
       "      <td>6.998</td>\n",
       "      <td>45.8</td>\n",
       "      <td>6.0622</td>\n",
       "      <td>3.0</td>\n",
       "      <td>222.0</td>\n",
       "      <td>18.7</td>\n",
       "      <td>394.63</td>\n",
       "      <td>2.94</td>\n",
       "    </tr>\n",
       "    <tr>\n",
       "      <th>4</th>\n",
       "      <td>0.06905</td>\n",
       "      <td>0.0</td>\n",
       "      <td>2.18</td>\n",
       "      <td>0.0</td>\n",
       "      <td>0.458</td>\n",
       "      <td>7.147</td>\n",
       "      <td>54.2</td>\n",
       "      <td>6.0622</td>\n",
       "      <td>3.0</td>\n",
       "      <td>222.0</td>\n",
       "      <td>18.7</td>\n",
       "      <td>396.90</td>\n",
       "      <td>5.33</td>\n",
       "    </tr>\n",
       "  </tbody>\n",
       "</table>\n",
       "</div>"
      ],
      "text/plain": [
       "      CRIM    ZN  INDUS  CHAS    NOX     RM   AGE     DIS  RAD    TAX  \\\n",
       "0  0.00632  18.0   2.31   0.0  0.538  6.575  65.2  4.0900  1.0  296.0   \n",
       "1  0.02731   0.0   7.07   0.0  0.469  6.421  78.9  4.9671  2.0  242.0   \n",
       "2  0.02729   0.0   7.07   0.0  0.469  7.185  61.1  4.9671  2.0  242.0   \n",
       "3  0.03237   0.0   2.18   0.0  0.458  6.998  45.8  6.0622  3.0  222.0   \n",
       "4  0.06905   0.0   2.18   0.0  0.458  7.147  54.2  6.0622  3.0  222.0   \n",
       "\n",
       "   PTRATIO       B  LSTAT  \n",
       "0     15.3  396.90   4.98  \n",
       "1     17.8  396.90   9.14  \n",
       "2     17.8  392.83   4.03  \n",
       "3     18.7  394.63   2.94  \n",
       "4     18.7  396.90   5.33  "
      ]
     },
     "execution_count": 46,
     "metadata": {},
     "output_type": "execute_result"
    }
   ],
   "source": [
    "df = pd.DataFrame(house.data, columns = house.feature_names)\n",
    "df.head()"
   ]
  },
  {
   "cell_type": "code",
   "execution_count": 48,
   "id": "47928ce0",
   "metadata": {},
   "outputs": [
    {
     "data": {
      "text/html": [
       "<div>\n",
       "<style scoped>\n",
       "    .dataframe tbody tr th:only-of-type {\n",
       "        vertical-align: middle;\n",
       "    }\n",
       "\n",
       "    .dataframe tbody tr th {\n",
       "        vertical-align: top;\n",
       "    }\n",
       "\n",
       "    .dataframe thead th {\n",
       "        text-align: right;\n",
       "    }\n",
       "</style>\n",
       "<table border=\"1\" class=\"dataframe\">\n",
       "  <thead>\n",
       "    <tr style=\"text-align: right;\">\n",
       "      <th></th>\n",
       "      <th>CRIM</th>\n",
       "      <th>ZN</th>\n",
       "      <th>INDUS</th>\n",
       "      <th>CHAS</th>\n",
       "      <th>NOX</th>\n",
       "      <th>RM</th>\n",
       "      <th>AGE</th>\n",
       "      <th>DIS</th>\n",
       "      <th>RAD</th>\n",
       "      <th>TAX</th>\n",
       "      <th>PTRATIO</th>\n",
       "      <th>B</th>\n",
       "      <th>LSTAT</th>\n",
       "      <th>MEDV</th>\n",
       "    </tr>\n",
       "  </thead>\n",
       "  <tbody>\n",
       "    <tr>\n",
       "      <th>0</th>\n",
       "      <td>0.00632</td>\n",
       "      <td>18.0</td>\n",
       "      <td>2.31</td>\n",
       "      <td>0.0</td>\n",
       "      <td>0.538</td>\n",
       "      <td>6.575</td>\n",
       "      <td>65.2</td>\n",
       "      <td>4.0900</td>\n",
       "      <td>1.0</td>\n",
       "      <td>296.0</td>\n",
       "      <td>15.3</td>\n",
       "      <td>396.90</td>\n",
       "      <td>4.98</td>\n",
       "      <td>24.0</td>\n",
       "    </tr>\n",
       "    <tr>\n",
       "      <th>1</th>\n",
       "      <td>0.02731</td>\n",
       "      <td>0.0</td>\n",
       "      <td>7.07</td>\n",
       "      <td>0.0</td>\n",
       "      <td>0.469</td>\n",
       "      <td>6.421</td>\n",
       "      <td>78.9</td>\n",
       "      <td>4.9671</td>\n",
       "      <td>2.0</td>\n",
       "      <td>242.0</td>\n",
       "      <td>17.8</td>\n",
       "      <td>396.90</td>\n",
       "      <td>9.14</td>\n",
       "      <td>21.6</td>\n",
       "    </tr>\n",
       "    <tr>\n",
       "      <th>2</th>\n",
       "      <td>0.02729</td>\n",
       "      <td>0.0</td>\n",
       "      <td>7.07</td>\n",
       "      <td>0.0</td>\n",
       "      <td>0.469</td>\n",
       "      <td>7.185</td>\n",
       "      <td>61.1</td>\n",
       "      <td>4.9671</td>\n",
       "      <td>2.0</td>\n",
       "      <td>242.0</td>\n",
       "      <td>17.8</td>\n",
       "      <td>392.83</td>\n",
       "      <td>4.03</td>\n",
       "      <td>34.7</td>\n",
       "    </tr>\n",
       "    <tr>\n",
       "      <th>3</th>\n",
       "      <td>0.03237</td>\n",
       "      <td>0.0</td>\n",
       "      <td>2.18</td>\n",
       "      <td>0.0</td>\n",
       "      <td>0.458</td>\n",
       "      <td>6.998</td>\n",
       "      <td>45.8</td>\n",
       "      <td>6.0622</td>\n",
       "      <td>3.0</td>\n",
       "      <td>222.0</td>\n",
       "      <td>18.7</td>\n",
       "      <td>394.63</td>\n",
       "      <td>2.94</td>\n",
       "      <td>33.4</td>\n",
       "    </tr>\n",
       "    <tr>\n",
       "      <th>4</th>\n",
       "      <td>0.06905</td>\n",
       "      <td>0.0</td>\n",
       "      <td>2.18</td>\n",
       "      <td>0.0</td>\n",
       "      <td>0.458</td>\n",
       "      <td>7.147</td>\n",
       "      <td>54.2</td>\n",
       "      <td>6.0622</td>\n",
       "      <td>3.0</td>\n",
       "      <td>222.0</td>\n",
       "      <td>18.7</td>\n",
       "      <td>396.90</td>\n",
       "      <td>5.33</td>\n",
       "      <td>36.2</td>\n",
       "    </tr>\n",
       "  </tbody>\n",
       "</table>\n",
       "</div>"
      ],
      "text/plain": [
       "      CRIM    ZN  INDUS  CHAS    NOX     RM   AGE     DIS  RAD    TAX  \\\n",
       "0  0.00632  18.0   2.31   0.0  0.538  6.575  65.2  4.0900  1.0  296.0   \n",
       "1  0.02731   0.0   7.07   0.0  0.469  6.421  78.9  4.9671  2.0  242.0   \n",
       "2  0.02729   0.0   7.07   0.0  0.469  7.185  61.1  4.9671  2.0  242.0   \n",
       "3  0.03237   0.0   2.18   0.0  0.458  6.998  45.8  6.0622  3.0  222.0   \n",
       "4  0.06905   0.0   2.18   0.0  0.458  7.147  54.2  6.0622  3.0  222.0   \n",
       "\n",
       "   PTRATIO       B  LSTAT  MEDV  \n",
       "0     15.3  396.90   4.98  24.0  \n",
       "1     17.8  396.90   9.14  21.6  \n",
       "2     17.8  392.83   4.03  34.7  \n",
       "3     18.7  394.63   2.94  33.4  \n",
       "4     18.7  396.90   5.33  36.2  "
      ]
     },
     "execution_count": 48,
     "metadata": {},
     "output_type": "execute_result"
    }
   ],
   "source": [
    "df['MEDV'] = house.target #target name = MEDV(집값)\n",
    "df.head()"
   ]
  },
  {
   "cell_type": "code",
   "execution_count": 49,
   "id": "6615d593",
   "metadata": {},
   "outputs": [
    {
     "name": "stdout",
     "output_type": "stream",
     "text": [
      "<class 'pandas.core.frame.DataFrame'>\n",
      "RangeIndex: 506 entries, 0 to 505\n",
      "Data columns (total 14 columns):\n",
      " #   Column   Non-Null Count  Dtype  \n",
      "---  ------   --------------  -----  \n",
      " 0   CRIM     506 non-null    float64\n",
      " 1   ZN       506 non-null    float64\n",
      " 2   INDUS    506 non-null    float64\n",
      " 3   CHAS     506 non-null    float64\n",
      " 4   NOX      506 non-null    float64\n",
      " 5   RM       506 non-null    float64\n",
      " 6   AGE      506 non-null    float64\n",
      " 7   DIS      506 non-null    float64\n",
      " 8   RAD      506 non-null    float64\n",
      " 9   TAX      506 non-null    float64\n",
      " 10  PTRATIO  506 non-null    float64\n",
      " 11  B        506 non-null    float64\n",
      " 12  LSTAT    506 non-null    float64\n",
      " 13  MEDV     506 non-null    float64\n",
      "dtypes: float64(14)\n",
      "memory usage: 55.5 KB\n"
     ]
    }
   ],
   "source": [
    "df.info()"
   ]
  },
  {
   "cell_type": "code",
   "execution_count": 50,
   "id": "c004a974",
   "metadata": {},
   "outputs": [
    {
     "data": {
      "text/html": [
       "<div>\n",
       "<style scoped>\n",
       "    .dataframe tbody tr th:only-of-type {\n",
       "        vertical-align: middle;\n",
       "    }\n",
       "\n",
       "    .dataframe tbody tr th {\n",
       "        vertical-align: top;\n",
       "    }\n",
       "\n",
       "    .dataframe thead th {\n",
       "        text-align: right;\n",
       "    }\n",
       "</style>\n",
       "<table border=\"1\" class=\"dataframe\">\n",
       "  <thead>\n",
       "    <tr style=\"text-align: right;\">\n",
       "      <th></th>\n",
       "      <th>CRIM</th>\n",
       "      <th>ZN</th>\n",
       "      <th>INDUS</th>\n",
       "      <th>CHAS</th>\n",
       "      <th>NOX</th>\n",
       "      <th>RM</th>\n",
       "      <th>AGE</th>\n",
       "      <th>DIS</th>\n",
       "      <th>RAD</th>\n",
       "      <th>TAX</th>\n",
       "      <th>PTRATIO</th>\n",
       "      <th>B</th>\n",
       "      <th>LSTAT</th>\n",
       "      <th>MEDV</th>\n",
       "    </tr>\n",
       "  </thead>\n",
       "  <tbody>\n",
       "    <tr>\n",
       "      <th>count</th>\n",
       "      <td>506.000000</td>\n",
       "      <td>506.000000</td>\n",
       "      <td>506.000000</td>\n",
       "      <td>506.000000</td>\n",
       "      <td>506.000000</td>\n",
       "      <td>506.000000</td>\n",
       "      <td>506.000000</td>\n",
       "      <td>506.000000</td>\n",
       "      <td>506.000000</td>\n",
       "      <td>506.000000</td>\n",
       "      <td>506.000000</td>\n",
       "      <td>506.000000</td>\n",
       "      <td>506.000000</td>\n",
       "      <td>506.000000</td>\n",
       "    </tr>\n",
       "    <tr>\n",
       "      <th>mean</th>\n",
       "      <td>3.613524</td>\n",
       "      <td>11.363636</td>\n",
       "      <td>11.136779</td>\n",
       "      <td>0.069170</td>\n",
       "      <td>0.554695</td>\n",
       "      <td>6.284634</td>\n",
       "      <td>68.574901</td>\n",
       "      <td>3.795043</td>\n",
       "      <td>9.549407</td>\n",
       "      <td>408.237154</td>\n",
       "      <td>18.455534</td>\n",
       "      <td>356.674032</td>\n",
       "      <td>12.653063</td>\n",
       "      <td>22.532806</td>\n",
       "    </tr>\n",
       "    <tr>\n",
       "      <th>std</th>\n",
       "      <td>8.601545</td>\n",
       "      <td>23.322453</td>\n",
       "      <td>6.860353</td>\n",
       "      <td>0.253994</td>\n",
       "      <td>0.115878</td>\n",
       "      <td>0.702617</td>\n",
       "      <td>28.148861</td>\n",
       "      <td>2.105710</td>\n",
       "      <td>8.707259</td>\n",
       "      <td>168.537116</td>\n",
       "      <td>2.164946</td>\n",
       "      <td>91.294864</td>\n",
       "      <td>7.141062</td>\n",
       "      <td>9.197104</td>\n",
       "    </tr>\n",
       "    <tr>\n",
       "      <th>min</th>\n",
       "      <td>0.006320</td>\n",
       "      <td>0.000000</td>\n",
       "      <td>0.460000</td>\n",
       "      <td>0.000000</td>\n",
       "      <td>0.385000</td>\n",
       "      <td>3.561000</td>\n",
       "      <td>2.900000</td>\n",
       "      <td>1.129600</td>\n",
       "      <td>1.000000</td>\n",
       "      <td>187.000000</td>\n",
       "      <td>12.600000</td>\n",
       "      <td>0.320000</td>\n",
       "      <td>1.730000</td>\n",
       "      <td>5.000000</td>\n",
       "    </tr>\n",
       "    <tr>\n",
       "      <th>25%</th>\n",
       "      <td>0.082045</td>\n",
       "      <td>0.000000</td>\n",
       "      <td>5.190000</td>\n",
       "      <td>0.000000</td>\n",
       "      <td>0.449000</td>\n",
       "      <td>5.885500</td>\n",
       "      <td>45.025000</td>\n",
       "      <td>2.100175</td>\n",
       "      <td>4.000000</td>\n",
       "      <td>279.000000</td>\n",
       "      <td>17.400000</td>\n",
       "      <td>375.377500</td>\n",
       "      <td>6.950000</td>\n",
       "      <td>17.025000</td>\n",
       "    </tr>\n",
       "    <tr>\n",
       "      <th>50%</th>\n",
       "      <td>0.256510</td>\n",
       "      <td>0.000000</td>\n",
       "      <td>9.690000</td>\n",
       "      <td>0.000000</td>\n",
       "      <td>0.538000</td>\n",
       "      <td>6.208500</td>\n",
       "      <td>77.500000</td>\n",
       "      <td>3.207450</td>\n",
       "      <td>5.000000</td>\n",
       "      <td>330.000000</td>\n",
       "      <td>19.050000</td>\n",
       "      <td>391.440000</td>\n",
       "      <td>11.360000</td>\n",
       "      <td>21.200000</td>\n",
       "    </tr>\n",
       "    <tr>\n",
       "      <th>75%</th>\n",
       "      <td>3.677083</td>\n",
       "      <td>12.500000</td>\n",
       "      <td>18.100000</td>\n",
       "      <td>0.000000</td>\n",
       "      <td>0.624000</td>\n",
       "      <td>6.623500</td>\n",
       "      <td>94.075000</td>\n",
       "      <td>5.188425</td>\n",
       "      <td>24.000000</td>\n",
       "      <td>666.000000</td>\n",
       "      <td>20.200000</td>\n",
       "      <td>396.225000</td>\n",
       "      <td>16.955000</td>\n",
       "      <td>25.000000</td>\n",
       "    </tr>\n",
       "    <tr>\n",
       "      <th>max</th>\n",
       "      <td>88.976200</td>\n",
       "      <td>100.000000</td>\n",
       "      <td>27.740000</td>\n",
       "      <td>1.000000</td>\n",
       "      <td>0.871000</td>\n",
       "      <td>8.780000</td>\n",
       "      <td>100.000000</td>\n",
       "      <td>12.126500</td>\n",
       "      <td>24.000000</td>\n",
       "      <td>711.000000</td>\n",
       "      <td>22.000000</td>\n",
       "      <td>396.900000</td>\n",
       "      <td>37.970000</td>\n",
       "      <td>50.000000</td>\n",
       "    </tr>\n",
       "  </tbody>\n",
       "</table>\n",
       "</div>"
      ],
      "text/plain": [
       "             CRIM          ZN       INDUS        CHAS         NOX          RM  \\\n",
       "count  506.000000  506.000000  506.000000  506.000000  506.000000  506.000000   \n",
       "mean     3.613524   11.363636   11.136779    0.069170    0.554695    6.284634   \n",
       "std      8.601545   23.322453    6.860353    0.253994    0.115878    0.702617   \n",
       "min      0.006320    0.000000    0.460000    0.000000    0.385000    3.561000   \n",
       "25%      0.082045    0.000000    5.190000    0.000000    0.449000    5.885500   \n",
       "50%      0.256510    0.000000    9.690000    0.000000    0.538000    6.208500   \n",
       "75%      3.677083   12.500000   18.100000    0.000000    0.624000    6.623500   \n",
       "max     88.976200  100.000000   27.740000    1.000000    0.871000    8.780000   \n",
       "\n",
       "              AGE         DIS         RAD         TAX     PTRATIO           B  \\\n",
       "count  506.000000  506.000000  506.000000  506.000000  506.000000  506.000000   \n",
       "mean    68.574901    3.795043    9.549407  408.237154   18.455534  356.674032   \n",
       "std     28.148861    2.105710    8.707259  168.537116    2.164946   91.294864   \n",
       "min      2.900000    1.129600    1.000000  187.000000   12.600000    0.320000   \n",
       "25%     45.025000    2.100175    4.000000  279.000000   17.400000  375.377500   \n",
       "50%     77.500000    3.207450    5.000000  330.000000   19.050000  391.440000   \n",
       "75%     94.075000    5.188425   24.000000  666.000000   20.200000  396.225000   \n",
       "max    100.000000   12.126500   24.000000  711.000000   22.000000  396.900000   \n",
       "\n",
       "            LSTAT        MEDV  \n",
       "count  506.000000  506.000000  \n",
       "mean    12.653063   22.532806  \n",
       "std      7.141062    9.197104  \n",
       "min      1.730000    5.000000  \n",
       "25%      6.950000   17.025000  \n",
       "50%     11.360000   21.200000  \n",
       "75%     16.955000   25.000000  \n",
       "max     37.970000   50.000000  "
      ]
     },
     "execution_count": 50,
     "metadata": {},
     "output_type": "execute_result"
    }
   ],
   "source": [
    "df.describe()"
   ]
  },
  {
   "cell_type": "code",
   "execution_count": 51,
   "id": "0a6ee36d",
   "metadata": {},
   "outputs": [
    {
     "data": {
      "text/plain": [
       "CRIM      -0.388305\n",
       "ZN         0.360445\n",
       "INDUS     -0.483725\n",
       "CHAS       0.175260\n",
       "NOX       -0.427321\n",
       "RM         0.695360\n",
       "AGE       -0.376955\n",
       "DIS        0.249929\n",
       "RAD       -0.381626\n",
       "TAX       -0.468536\n",
       "PTRATIO   -0.507787\n",
       "B          0.333461\n",
       "LSTAT     -0.737663\n",
       "MEDV       1.000000\n",
       "Name: MEDV, dtype: float64"
      ]
     },
     "execution_count": 51,
     "metadata": {},
     "output_type": "execute_result"
    }
   ],
   "source": [
    "#상관계수 분석\n",
    "df.corr()['MEDV'] #MEDV열만 선택\n",
    "#음수이면, 집값이 내려감 / 양수이면 집값이 올라감"
   ]
  },
  {
   "cell_type": "code",
   "execution_count": 52,
   "id": "3c912240",
   "metadata": {},
   "outputs": [
    {
     "data": {
      "text/plain": [
       "Index(['CRIM', 'ZN', 'INDUS', 'CHAS', 'NOX', 'RM', 'AGE', 'DIS', 'RAD', 'TAX',\n",
       "       'PTRATIO', 'B', 'LSTAT', 'MEDV'],\n",
       "      dtype='object')"
      ]
     },
     "execution_count": 52,
     "metadata": {},
     "output_type": "execute_result"
    }
   ],
   "source": [
    "df.columns"
   ]
  },
  {
   "cell_type": "code",
   "execution_count": 54,
   "id": "19a20f02",
   "metadata": {},
   "outputs": [
    {
     "data": {
      "text/html": [
       "<div>\n",
       "<style scoped>\n",
       "    .dataframe tbody tr th:only-of-type {\n",
       "        vertical-align: middle;\n",
       "    }\n",
       "\n",
       "    .dataframe tbody tr th {\n",
       "        vertical-align: top;\n",
       "    }\n",
       "\n",
       "    .dataframe thead th {\n",
       "        text-align: right;\n",
       "    }\n",
       "</style>\n",
       "<table border=\"1\" class=\"dataframe\">\n",
       "  <thead>\n",
       "    <tr style=\"text-align: right;\">\n",
       "      <th></th>\n",
       "      <th>CRIM</th>\n",
       "      <th>ZN</th>\n",
       "      <th>INDUS</th>\n",
       "      <th>CHAS</th>\n",
       "      <th>NOX</th>\n",
       "      <th>RM</th>\n",
       "      <th>AGE</th>\n",
       "      <th>DIS</th>\n",
       "      <th>RAD</th>\n",
       "      <th>TAX</th>\n",
       "      <th>PTRATIO</th>\n",
       "      <th>B</th>\n",
       "      <th>LSTAT</th>\n",
       "    </tr>\n",
       "  </thead>\n",
       "  <tbody>\n",
       "    <tr>\n",
       "      <th>0</th>\n",
       "      <td>0.00632</td>\n",
       "      <td>18.0</td>\n",
       "      <td>2.31</td>\n",
       "      <td>0.0</td>\n",
       "      <td>0.538</td>\n",
       "      <td>6.575</td>\n",
       "      <td>65.2</td>\n",
       "      <td>4.0900</td>\n",
       "      <td>1.0</td>\n",
       "      <td>296.0</td>\n",
       "      <td>15.3</td>\n",
       "      <td>396.90</td>\n",
       "      <td>4.98</td>\n",
       "    </tr>\n",
       "    <tr>\n",
       "      <th>1</th>\n",
       "      <td>0.02731</td>\n",
       "      <td>0.0</td>\n",
       "      <td>7.07</td>\n",
       "      <td>0.0</td>\n",
       "      <td>0.469</td>\n",
       "      <td>6.421</td>\n",
       "      <td>78.9</td>\n",
       "      <td>4.9671</td>\n",
       "      <td>2.0</td>\n",
       "      <td>242.0</td>\n",
       "      <td>17.8</td>\n",
       "      <td>396.90</td>\n",
       "      <td>9.14</td>\n",
       "    </tr>\n",
       "    <tr>\n",
       "      <th>2</th>\n",
       "      <td>0.02729</td>\n",
       "      <td>0.0</td>\n",
       "      <td>7.07</td>\n",
       "      <td>0.0</td>\n",
       "      <td>0.469</td>\n",
       "      <td>7.185</td>\n",
       "      <td>61.1</td>\n",
       "      <td>4.9671</td>\n",
       "      <td>2.0</td>\n",
       "      <td>242.0</td>\n",
       "      <td>17.8</td>\n",
       "      <td>392.83</td>\n",
       "      <td>4.03</td>\n",
       "    </tr>\n",
       "    <tr>\n",
       "      <th>3</th>\n",
       "      <td>0.03237</td>\n",
       "      <td>0.0</td>\n",
       "      <td>2.18</td>\n",
       "      <td>0.0</td>\n",
       "      <td>0.458</td>\n",
       "      <td>6.998</td>\n",
       "      <td>45.8</td>\n",
       "      <td>6.0622</td>\n",
       "      <td>3.0</td>\n",
       "      <td>222.0</td>\n",
       "      <td>18.7</td>\n",
       "      <td>394.63</td>\n",
       "      <td>2.94</td>\n",
       "    </tr>\n",
       "    <tr>\n",
       "      <th>4</th>\n",
       "      <td>0.06905</td>\n",
       "      <td>0.0</td>\n",
       "      <td>2.18</td>\n",
       "      <td>0.0</td>\n",
       "      <td>0.458</td>\n",
       "      <td>7.147</td>\n",
       "      <td>54.2</td>\n",
       "      <td>6.0622</td>\n",
       "      <td>3.0</td>\n",
       "      <td>222.0</td>\n",
       "      <td>18.7</td>\n",
       "      <td>396.90</td>\n",
       "      <td>5.33</td>\n",
       "    </tr>\n",
       "  </tbody>\n",
       "</table>\n",
       "</div>"
      ],
      "text/plain": [
       "      CRIM    ZN  INDUS  CHAS    NOX     RM   AGE     DIS  RAD    TAX  \\\n",
       "0  0.00632  18.0   2.31   0.0  0.538  6.575  65.2  4.0900  1.0  296.0   \n",
       "1  0.02731   0.0   7.07   0.0  0.469  6.421  78.9  4.9671  2.0  242.0   \n",
       "2  0.02729   0.0   7.07   0.0  0.469  7.185  61.1  4.9671  2.0  242.0   \n",
       "3  0.03237   0.0   2.18   0.0  0.458  6.998  45.8  6.0622  3.0  222.0   \n",
       "4  0.06905   0.0   2.18   0.0  0.458  7.147  54.2  6.0622  3.0  222.0   \n",
       "\n",
       "   PTRATIO       B  LSTAT  \n",
       "0     15.3  396.90   4.98  \n",
       "1     17.8  396.90   9.14  \n",
       "2     17.8  392.83   4.03  \n",
       "3     18.7  394.63   2.94  \n",
       "4     18.7  396.90   5.33  "
      ]
     },
     "execution_count": 54,
     "metadata": {},
     "output_type": "execute_result"
    }
   ],
   "source": [
    "#다중 회귀 자료 준비\n",
    "X = df.copy()\n",
    "y = X.pop('MEDV')\n",
    "X.head()"
   ]
  },
  {
   "cell_type": "code",
   "execution_count": 55,
   "id": "b00a87ad",
   "metadata": {},
   "outputs": [
    {
     "data": {
      "text/plain": [
       "0    24.0\n",
       "1    21.6\n",
       "2    34.7\n",
       "3    33.4\n",
       "4    36.2\n",
       "Name: MEDV, dtype: float64"
      ]
     },
     "execution_count": 55,
     "metadata": {},
     "output_type": "execute_result"
    }
   ],
   "source": [
    "y.head()"
   ]
  },
  {
   "cell_type": "code",
   "execution_count": 56,
   "id": "9f44e190",
   "metadata": {},
   "outputs": [
    {
     "data": {
      "text/plain": [
       "LinearRegression()"
      ]
     },
     "execution_count": 56,
     "metadata": {},
     "output_type": "execute_result"
    }
   ],
   "source": [
    "#모델 인스턴스화 및 학습\n",
    "model = LinearRegression() #default 옵션으로 실행\n",
    "model.fit(X, y)"
   ]
  },
  {
   "cell_type": "code",
   "execution_count": 57,
   "id": "2c6ff1ec",
   "metadata": {},
   "outputs": [
    {
     "name": "stdout",
     "output_type": "stream",
     "text": [
      "기울기: [-1.08011358e-01  4.64204584e-02  2.05586264e-02  2.68673382e+00\n",
      " -1.77666112e+01  3.80986521e+00  6.92224640e-04 -1.47556685e+00\n",
      "  3.06049479e-01 -1.23345939e-02 -9.52747232e-01  9.31168327e-03\n",
      " -5.24758378e-01]\n",
      "y절편: 36.45948838509015\n"
     ]
    }
   ],
   "source": [
    "print(\"기울기:\", model.coef_)\n",
    "print(\"y절편:\", model.intercept_)"
   ]
  },
  {
   "cell_type": "code",
   "execution_count": 58,
   "id": "1899f1fd",
   "metadata": {},
   "outputs": [
    {
     "name": "stdout",
     "output_type": "stream",
     "text": [
      "score= 0.7406426641094095\n",
      "MSE= 21.894831181729202\n"
     ]
    }
   ],
   "source": [
    "#모델 예측 및 성능평가\n",
    "pred = model.predict(X) #pred : 예측값\n",
    "\n",
    "from sklearn.metrics import mean_squared_error\n",
    "print('score=', model.score(X, y))\n",
    "print(\"MSE=\", mean_squared_error(df['MEDV'], pred)) #값이 낮을 수록 좋음\n",
    "#단순 선형 회귀 결과 : 예측성이 높지 않음(Score값은 낮고 MSE값은 높음) -> 다중으로 여러 가지를 고려해야 함"
   ]
  },
  {
   "cell_type": "markdown",
   "id": "a46d9c7e",
   "metadata": {},
   "source": [
    "# Logistic Regression\n",
    "- S자형 곡선\n",
    "- 종속변수가 2개의 case(범주형)으로 표현되는 경우에 사용"
   ]
  },
  {
   "cell_type": "markdown",
   "id": "af96fd4a",
   "metadata": {},
   "source": [
    "## 1. Logistic 분류 프로그래밍"
   ]
  },
  {
   "cell_type": "markdown",
   "id": "b5cde4d8",
   "metadata": {},
   "source": [
    "#### Cross entropy\n",
    "- 출력결과 y는 0 혹은 1이므로 MSE와 다른 손실 함수 필요\n",
    "- sigmoid(z)는 확률\n",
    "- 잘 맞출수록 낮은 값"
   ]
  },
  {
   "cell_type": "code",
   "execution_count": 59,
   "id": "e60fd954",
   "metadata": {},
   "outputs": [],
   "source": [
    "def sigmoid(z):\n",
    "    return np.exp(z) / (1.0 + np.exp(z))"
   ]
  },
  {
   "cell_type": "code",
   "execution_count": 60,
   "id": "1b908be8",
   "metadata": {},
   "outputs": [],
   "source": [
    "#수치미분법에 의한 다중 변수 미분 계수 구하는 프로그램\n",
    "def numerical_derivative(f, x): #f:다변수 함수, x:모든 변수값을 포함하고 있는 numpy배열\n",
    "    delta = 1E-4\n",
    "    \n",
    "    grad = np.zeros_like(x) # 각 변수마다, 계산된 수치 미분계수 값\n",
    "    itr = np.nditer(x, flags=['multi_index'], op_flags=['readwrite'])\n",
    "    \n",
    "    while not itr.finished: #끝까지 갔는지 체크\n",
    "        idx = itr.multi_index   # index\n",
    "        \n",
    "        tmp_val = x[idx]  #임시보관\n",
    "        \n",
    "        x[idx] = float(tmp_val + delta)\n",
    "        fx1 = f(x) #f(x+delta, y) 계산\n",
    "        \n",
    "        x[idx] = float(tmp_val - delta)\n",
    "        fx2 = f(x) #f(x-delta, y) 계산\n",
    "        grad[idx] = (fx1 - fx2) / (2 * delta)\n",
    "        \n",
    "        x[idx] = tmp_val\n",
    "        itr.iternext() \n",
    "    else:\n",
    "        #print(grad)\n",
    "        return grad"
   ]
  },
  {
   "cell_type": "code",
   "execution_count": 62,
   "id": "603373e0",
   "metadata": {},
   "outputs": [],
   "source": [
    "def cross_entropy(p): #p: [W, b]를 가지는 numpy 배열\n",
    "    global X, y #y : target, y_p: predicted\n",
    "    z = X * p[0] + p[1] #직선 생성\n",
    "    y_p = sigmoid(z) #s자형 곡선으로 변형\n",
    "    return (-1) * np.sum((y * np.log(y_p)) + ((1 - y) * np.log(1 - y_p)))   "
   ]
  },
  {
   "cell_type": "code",
   "execution_count": 63,
   "id": "a3982bf1",
   "metadata": {},
   "outputs": [],
   "source": [
    "X=np.array([10., 9., 3., 2., 1.])\n",
    "y=np.array([1.,  1., 0., 0., 0.])"
   ]
  },
  {
   "cell_type": "code",
   "execution_count": 67,
   "id": "5104b8f9",
   "metadata": {},
   "outputs": [
    {
     "name": "stdout",
     "output_type": "stream",
     "text": [
      "Epochs: 0 \tW: -9.0 \tb: -9.0 \tcost: 189.00000001523185\n",
      "Epochs: 1 gradient W: -19.00, gradient b:-2.00,  W:-7.10, b:-8.80, cost: 152.50\n",
      "Epochs: 2 gradient W: -19.00, gradient b:-2.00,  W:-5.20, b:-8.60, cost: 116.00\n",
      "Epochs: 3 gradient W: -19.00, gradient b:-2.00,  W:-3.30, b:-8.40, cost: 79.50\n",
      "Epochs: 4 gradient W: -19.00, gradient b:-2.00,  W:-1.40, b:-8.20, cost: 43.00\n",
      "Epochs: 5 gradient W: -19.00, gradient b:-2.00,  W:0.50, b:-8.00, cost: 6.58\n",
      "Epochs: 6 gradient W: -18.26, gradient b:-1.92,  W:2.33, b:-7.81, cost: 0.41\n",
      "Epochs: 7 gradient W: 1.00, gradient b:0.35,  W:2.23, b:-7.84, cost: 0.31\n",
      "Epochs: 8 gradient W: 0.78, gradient b:0.27,  W:2.15, b:-7.87, cost: 0.25\n",
      "Epochs: 9 gradient W: 0.64, gradient b:0.22,  W:2.08, b:-7.89, cost: 0.20\n",
      "Epochs: 4000 gradient W: -0.00, gradient b:0.00,  W:1.96, b:-11.20, cost: 0.01\n",
      "Epochs: 8000 gradient W: -0.00, gradient b:0.00,  W:2.15, b:-12.32, cost: 0.00\n",
      "Epochs: 12000 gradient W: -0.00, gradient b:0.00,  W:2.26, b:-13.02, cost: 0.00\n",
      "Epochs: 16000 gradient W: -0.00, gradient b:0.00,  W:2.35, b:-13.53, cost: 0.00\n",
      "Epochs: 20000 gradient W: -0.00, gradient b:0.00,  W:2.41, b:-13.93, cost: 0.00\n"
     ]
    }
   ],
   "source": [
    "W = float(random.randint(-10, 10))\n",
    "b = float(random.randint(-10, 10))\n",
    "\n",
    "#list 형태로 변환\n",
    "W_history = [W]\n",
    "b_history = [b]\n",
    "\n",
    "cost = cross_entropy(np.array([W, b])) #MSE 함수 사용 - numpy배열\n",
    "print(\"Epochs:\",0,\"\\tW:\",W,\"\\tb:\",b,\"\\tcost:\",cost) #Epochs가 0일때 출력\n",
    "\n",
    "rate = 0.1 #Learning rate  #데이터 개수가 작으면 rate가 커지고, 데이터 개수가 커지면 rate가 작아짐  #1보다 작은 값\n",
    "MaxItrs = 20000 #최대 1000번 반복\n",
    "\n",
    "for epoch in range(1, MaxItrs + 1):  #epoch: 반복 횟수 저장\n",
    "    gradientW, gradientB = numerical_derivative(cross_entropy, np.array([W, b]))\n",
    "    #새로운 W, B 생성\n",
    "    newW = W - rate * gradientW  #Grad descent\n",
    "    newb = b - rate * gradientB  #Grad descent\n",
    "    W_history.append(newW)\n",
    "    b_history.append(newb)\n",
    "    W, b = newW, newb #새로 바뀐값이 [W, b]로 다시 대입\n",
    "    \n",
    "    cost = cross_entropy(np.array([W, b])) #바뀐 [W, b]를 사용하여 cost 다시 계산\n",
    "\n",
    "    if len(str(epoch))==1 or epoch %4000==0 or epoch==MaxItrs:\n",
    "        print('Epochs:', epoch, \n",
    "              'gradient W: %.2f, gradient b:%.2f, ' % (gradientW, gradientB), \n",
    "              end=' ')\n",
    "        print(\"W:%.2f, b:%.2f, cost: %.2f\" % (W, b, cost)) #Print result \n",
    "\n",
    "# gradient W/b가 양수이면 점점 값이 줄어듦\n",
    "# gradient W/b가 음수이면 점점 값이 커짐"
   ]
  },
  {
   "cell_type": "code",
   "execution_count": 68,
   "id": "533ac704",
   "metadata": {},
   "outputs": [],
   "source": [
    "def predict(x):\n",
    "    global W,b\n",
    "    z = W *x + b\n",
    "    y_p = sigmoid(z)\n",
    "    if y_p > 0.5:\n",
    "        return 1, y_p\n",
    "    else:\n",
    "        return 0, (1 - y_p)"
   ]
  },
  {
   "cell_type": "code",
   "execution_count": 69,
   "id": "d029a79a",
   "metadata": {},
   "outputs": [
    {
     "name": "stdout",
     "output_type": "stream",
     "text": [
      "1 : (0, 0.9999900629120323)\n",
      "2 : (0, 0.9998889879549165)\n",
      "3 : (0, 0.998761104125725)\n",
      "4 : (0, 0.9863305655867001)\n",
      "5 : (0, 0.8659208846104862)\n",
      "6 : (1, 0.6336951902353515)\n",
      "7 : (1, 0.9508073872438598)\n",
      "8 : (1, 0.9953905829674957)\n",
      "9 : (1, 0.9995856974178792)\n",
      "10 : (1, 0.9999629040388678)\n"
     ]
    }
   ],
   "source": [
    "for i in range(1, 11): #연습시간 1~10시간\n",
    "    print(i, \":\", predict(float(i))) #6시간 이상부터 통과"
   ]
  },
  {
   "cell_type": "code",
   "execution_count": 70,
   "id": "dbd7f703",
   "metadata": {},
   "outputs": [
    {
     "name": "stdout",
     "output_type": "stream",
     "text": [
      "2.41346577400673 -13.932692378079937\n"
     ]
    }
   ],
   "source": [
    "print(W, b)"
   ]
  },
  {
   "cell_type": "code",
   "execution_count": 71,
   "id": "3ecf5411",
   "metadata": {},
   "outputs": [
    {
     "data": {
      "image/png": "[encoded data removed]",
      "text/plain": [
       "<Figure size 432x288 with 1 Axes>"
      ]
     },
     "metadata": {
      "needs_background": "light"
     },
     "output_type": "display_data"
    }
   ],
   "source": [
    "#회귀선 그리기\n",
    "x_val = np.linspace(1, 10, 1000)\n",
    "z = W * x_val + b\n",
    "y_p = sigmoid(z)\n",
    "\n",
    "plt.scatter(X, y)\n",
    "plt.plot(x_val, y_p, 'r')\n",
    "plt.show()"
   ]
  },
  {
   "cell_type": "markdown",
   "id": "dfcf51b6",
   "metadata": {},
   "source": [
    "## 2. iris 종 분류 사례"
   ]
  },
  {
   "cell_type": "code",
   "execution_count": 72,
   "id": "2db46821",
   "metadata": {},
   "outputs": [],
   "source": [
    "from sklearn.datasets import load_iris"
   ]
  },
  {
   "cell_type": "code",
   "execution_count": 73,
   "id": "034fb550",
   "metadata": {},
   "outputs": [
    {
     "name": "stdout",
     "output_type": "stream",
     "text": [
      "<class 'pandas.core.frame.DataFrame'>\n",
      "RangeIndex: 150 entries, 0 to 149\n",
      "Data columns (total 5 columns):\n",
      " #   Column             Non-Null Count  Dtype  \n",
      "---  ------             --------------  -----  \n",
      " 0   sepal length (cm)  150 non-null    float64\n",
      " 1   sepal width (cm)   150 non-null    float64\n",
      " 2   petal length (cm)  150 non-null    float64\n",
      " 3   petal width (cm)   150 non-null    float64\n",
      " 4   species            150 non-null    int32  \n",
      "dtypes: float64(4), int32(1)\n",
      "memory usage: 5.4 KB\n"
     ]
    }
   ],
   "source": [
    "iris = load_iris()\n",
    "df = pd.DataFrame(iris.data, columns = iris.feature_names)\n",
    "df['species'] = pd.Series(iris.target)\n",
    "df.info()"
   ]
  },
  {
   "cell_type": "code",
   "execution_count": 76,
   "id": "586a7eeb",
   "metadata": {},
   "outputs": [],
   "source": [
    "sdf = pd.DataFrame()\n",
    "sdf['petal_length'] = df['petal length (cm)']\n",
    "sdf['species'] = df['species']\n",
    "sdf = sdf[:100]"
   ]
  },
  {
   "cell_type": "code",
   "execution_count": 74,
   "id": "fd5594d5",
   "metadata": {},
   "outputs": [
    {
     "name": "stdout",
     "output_type": "stream",
     "text": [
      "<class 'pandas.core.frame.DataFrame'>\n",
      "RangeIndex: 150 entries, 0 to 149\n",
      "Data columns (total 2 columns):\n",
      " #   Column        Non-Null Count  Dtype  \n",
      "---  ------        --------------  -----  \n",
      " 0   petal_length  150 non-null    float64\n",
      " 1   species       150 non-null    int32  \n",
      "dtypes: float64(1), int32(1)\n",
      "memory usage: 1.9 KB\n"
     ]
    }
   ],
   "source": [
    "sdf.info()"
   ]
  },
  {
   "cell_type": "code",
   "execution_count": 75,
   "id": "f866412c",
   "metadata": {},
   "outputs": [
    {
     "data": {
      "text/html": [
       "<div>\n",
       "<style scoped>\n",
       "    .dataframe tbody tr th:only-of-type {\n",
       "        vertical-align: middle;\n",
       "    }\n",
       "\n",
       "    .dataframe tbody tr th {\n",
       "        vertical-align: top;\n",
       "    }\n",
       "\n",
       "    .dataframe thead th {\n",
       "        text-align: right;\n",
       "    }\n",
       "</style>\n",
       "<table border=\"1\" class=\"dataframe\">\n",
       "  <thead>\n",
       "    <tr style=\"text-align: right;\">\n",
       "      <th></th>\n",
       "      <th>petal_length</th>\n",
       "      <th>species</th>\n",
       "    </tr>\n",
       "  </thead>\n",
       "  <tbody>\n",
       "    <tr>\n",
       "      <th>count</th>\n",
       "      <td>150.000000</td>\n",
       "      <td>150.000000</td>\n",
       "    </tr>\n",
       "    <tr>\n",
       "      <th>mean</th>\n",
       "      <td>3.758000</td>\n",
       "      <td>1.000000</td>\n",
       "    </tr>\n",
       "    <tr>\n",
       "      <th>std</th>\n",
       "      <td>1.765298</td>\n",
       "      <td>0.819232</td>\n",
       "    </tr>\n",
       "    <tr>\n",
       "      <th>min</th>\n",
       "      <td>1.000000</td>\n",
       "      <td>0.000000</td>\n",
       "    </tr>\n",
       "    <tr>\n",
       "      <th>25%</th>\n",
       "      <td>1.600000</td>\n",
       "      <td>0.000000</td>\n",
       "    </tr>\n",
       "    <tr>\n",
       "      <th>50%</th>\n",
       "      <td>4.350000</td>\n",
       "      <td>1.000000</td>\n",
       "    </tr>\n",
       "    <tr>\n",
       "      <th>75%</th>\n",
       "      <td>5.100000</td>\n",
       "      <td>2.000000</td>\n",
       "    </tr>\n",
       "    <tr>\n",
       "      <th>max</th>\n",
       "      <td>6.900000</td>\n",
       "      <td>2.000000</td>\n",
       "    </tr>\n",
       "  </tbody>\n",
       "</table>\n",
       "</div>"
      ],
      "text/plain": [
       "       petal_length     species\n",
       "count    150.000000  150.000000\n",
       "mean       3.758000    1.000000\n",
       "std        1.765298    0.819232\n",
       "min        1.000000    0.000000\n",
       "25%        1.600000    0.000000\n",
       "50%        4.350000    1.000000\n",
       "75%        5.100000    2.000000\n",
       "max        6.900000    2.000000"
      ]
     },
     "execution_count": 75,
     "metadata": {},
     "output_type": "execute_result"
    }
   ],
   "source": [
    "sdf.describe()"
   ]
  },
  {
   "cell_type": "markdown",
   "id": "c4ff74d6",
   "metadata": {},
   "source": [
    "### 3. 데이터로 regression 모델의 그래프 그려보기"
   ]
  },
  {
   "cell_type": "code",
   "execution_count": 78,
   "id": "51257ebc",
   "metadata": {},
   "outputs": [
    {
     "name": "stderr",
     "output_type": "stream",
     "text": [
      "C:\\Users\\ictai\\anaconda3\\lib\\site-packages\\numpy\\lib\\nanfunctions.py:1395: RuntimeWarning: All-NaN slice encountered\n",
      "  result = np.apply_along_axis(_nanquantile_1d, axis, a, q,\n"
     ]
    },
    {
     "data": {
      "image/png": "[encoded data removed]",
      "text/plain": [
       "<Figure size 432x288 with 1 Axes>"
      ]
     },
     "metadata": {
      "needs_background": "light"
     },
     "output_type": "display_data"
    }
   ],
   "source": [
    "sns.regplot(x = 'petal_length', y = 'species', data = sdf, logistic = True)\n",
    "plt.show()"
   ]
  },
  {
   "cell_type": "markdown",
   "id": "e14c0e0d",
   "metadata": {},
   "source": [
    "### 4. 학습 데이터와 테스트 데이터 나누기"
   ]
  },
  {
   "cell_type": "code",
   "execution_count": 82,
   "id": "c446f4b2",
   "metadata": {},
   "outputs": [
    {
     "data": {
      "text/plain": [
       "((67, 1), (67,))"
      ]
     },
     "execution_count": 82,
     "metadata": {},
     "output_type": "execute_result"
    }
   ],
   "source": [
    "from sklearn.model_selection import train_test_split\n",
    "\n",
    "X_train, X_test, y_train, y_test = train_test_split(sdf.iloc[:, :1], #2차원 slicing\n",
    "                                                    sdf.iloc[:, 1],  #1차원 slicing\n",
    "                                                    test_size = 0.33) #training이 67%\n",
    "X_train.shape, y_train.shape"
   ]
  },
  {
   "cell_type": "markdown",
   "id": "535ee21a",
   "metadata": {},
   "source": [
    "### 5. 모듈 import, 모델 인스턴스화, 학습"
   ]
  },
  {
   "cell_type": "code",
   "execution_count": 83,
   "id": "fdabc441",
   "metadata": {},
   "outputs": [
    {
     "name": "stdout",
     "output_type": "stream",
     "text": [
      "[[2.63330996]] [-7.15747061]\n"
     ]
    }
   ],
   "source": [
    "from sklearn.linear_model import LogisticRegression\n",
    "\n",
    "model = LogisticRegression()\n",
    "model.fit(X_train, y_train)\n",
    "\n",
    "print(model.coef_, model.intercept_) #2차원, 1차원 결과"
   ]
  },
  {
   "cell_type": "markdown",
   "id": "af02210c",
   "metadata": {},
   "source": [
    "### 회귀선 그리기"
   ]
  },
  {
   "cell_type": "code",
   "execution_count": 84,
   "id": "6e164784",
   "metadata": {},
   "outputs": [],
   "source": [
    "X = np.linspace(1, sdf['petal_length'].max(), 1000)\n",
    "z = model.coef_[0][0] * X + model.intercept_[0]\n",
    "Y = sigmoid(z)"
   ]
  },
  {
   "cell_type": "code",
   "execution_count": 85,
   "id": "8de81375",
   "metadata": {},
   "outputs": [
    {
     "data": {
      "image/png": "[encoded data removed]",
      "text/plain": [
       "<Figure size 432x288 with 1 Axes>"
      ]
     },
     "metadata": {
      "needs_background": "light"
     },
     "output_type": "display_data"
    }
   ],
   "source": [
    "plt.scatter(sdf['petal_length'], sdf['species'])\n",
    "plt.plot(X, Y, 'r')\n",
    "plt.show()"
   ]
  },
  {
   "cell_type": "code",
   "execution_count": 87,
   "id": "dac7bb58",
   "metadata": {},
   "outputs": [
    {
     "name": "stdout",
     "output_type": "stream",
     "text": [
      "[[33  0]\n",
      " [ 0 34]]\n"
     ]
    }
   ],
   "source": [
    "from sklearn.metrics import classification_report, confusion_matrix\n",
    "\n",
    "#학습된 데이터(training set)에 대한 성능 평가하기\n",
    "print(confusion_matrix(y_train, model.predict(X_train))) #정답, 예측값 순서로 입력"
   ]
  },
  {
   "cell_type": "code",
   "execution_count": 88,
   "id": "05f119e8",
   "metadata": {},
   "outputs": [],
   "source": [
    "def dispConfusionMatrix(y_true, y_pred):\n",
    "    sns.heatmap(confusion_matrix(y_true, y_pred), annot=True ) #heatmap\n",
    "    plt.xlabel('Predicted') #예측값\n",
    "    plt.ylabel('Ground truth') #실제값, 정답\n",
    "    plt.show()"
   ]
  },
  {
   "cell_type": "code",
   "execution_count": 89,
   "id": "c17551a1",
   "metadata": {},
   "outputs": [
    {
     "data": {
      "image/png": "[encoded data removed]",
      "text/plain": [
       "<Figure size 432x288 with 2 Axes>"
      ]
     },
     "metadata": {
      "needs_background": "light"
     },
     "output_type": "display_data"
    }
   ],
   "source": [
    "dispConfusionMatrix(y_train, model.predict(X_train))"
   ]
  },
  {
   "cell_type": "code",
   "execution_count": 91,
   "id": "e3cfff90",
   "metadata": {},
   "outputs": [
    {
     "name": "stdout",
     "output_type": "stream",
     "text": [
      "              precision    recall  f1-score   support\n",
      "\n",
      "           0       1.00      1.00      1.00        33\n",
      "           1       1.00      1.00      1.00        34\n",
      "\n",
      "    accuracy                           1.00        67\n",
      "   macro avg       1.00      1.00      1.00        67\n",
      "weighted avg       1.00      1.00      1.00        67\n",
      "\n"
     ]
    }
   ],
   "source": [
    "print(classification_report(y_train, model.predict(X_train))) #정답, 예측값 순서로 입력\n",
    "\n",
    "#accuracy : 정답 맞춘 확률\n",
    "#f1-score : (precision과 recall의) 조화평균"
   ]
  },
  {
   "cell_type": "code",
   "execution_count": 92,
   "id": "e491f463",
   "metadata": {},
   "outputs": [
    {
     "name": "stdout",
     "output_type": "stream",
     "text": [
      "[[17  0]\n",
      " [ 0 16]]\n"
     ]
    }
   ],
   "source": [
    "#test set에 대해 성능 평가 하기\n",
    "print(confusion_matrix(y_test, model.predict(X_test)))"
   ]
  },
  {
   "cell_type": "code",
   "execution_count": 93,
   "id": "66748d4d",
   "metadata": {},
   "outputs": [
    {
     "data": {
      "image/png": "[encoded data removed]",
      "text/plain": [
       "<Figure size 432x288 with 2 Axes>"
      ]
     },
     "metadata": {
      "needs_background": "light"
     },
     "output_type": "display_data"
    }
   ],
   "source": [
    "dispConfusionMatrix(y_test, model.predict(X_test))"
   ]
  },
  {
   "cell_type": "code",
   "execution_count": 94,
   "id": "3cd54c3c",
   "metadata": {},
   "outputs": [
    {
     "name": "stdout",
     "output_type": "stream",
     "text": [
      "              precision    recall  f1-score   support\n",
      "\n",
      "           0       1.00      1.00      1.00        17\n",
      "           1       1.00      1.00      1.00        16\n",
      "\n",
      "    accuracy                           1.00        33\n",
      "   macro avg       1.00      1.00      1.00        33\n",
      "weighted avg       1.00      1.00      1.00        33\n",
      "\n"
     ]
    }
   ],
   "source": [
    "print(classification_report(y_test, model.predict(X_test)))"
   ]
  },
  {
   "cell_type": "markdown",
   "id": "49f5f520",
   "metadata": {},
   "source": [
    "## ----   (1)  (0)\n",
    "## (1) TN FP\n",
    "## (0) FN TP"
   ]
  }
 ],
 "metadata": {
  "kernelspec": {
   "display_name": "Python 3 (ipykernel)",
   "language": "python",
   "name": "python3"
  },
  "language_info": {
   "codemirror_mode": {
    "name": "ipython",
    "version": 3
   },
   "file_extension": ".py",
   "mimetype": "text/x-python",
   "name": "python",
   "nbconvert_exporter": "python",
   "pygments_lexer": "ipython3",
   "version": "3.9.12"
  }
 },
 "nbformat": 4,
 "nbformat_minor": 5
}
