{
 "cells": [
  {
   "cell_type": "markdown",
   "id": "283d6846",
   "metadata": {},
   "source": [
    "### 인공신경망 이론\n",
    "#### 인공 뉴런"
   ]
  },
  {
   "cell_type": "code",
   "execution_count": 3,
   "id": "c202e293",
   "metadata": {},
   "outputs": [
    {
     "name": "stdout",
     "output_type": "stream",
     "text": [
      "입력(콤마로 구분하여 입력하시오): 0,0\n",
      "뉴런 출력: 0\n"
     ]
    }
   ],
   "source": [
    "# AND 연산\n",
    "x1, x2 = eval( input('입력(콤마로 구분하여 입력하시오): '))\n",
    "b = 2 \n",
    "out = 1 if x1 + x2 >= b else 0\n",
    "print('뉴런 출력:', out)\n",
    "#1, 1 : 1 / 0, 1 : 0 / 1, 0 : 0 / 0, 0 : 0"
   ]
  },
  {
   "cell_type": "code",
   "execution_count": 5,
   "id": "7509ded1",
   "metadata": {},
   "outputs": [
    {
     "name": "stdout",
     "output_type": "stream",
     "text": [
      "입력(콤마로 구분하여 입력하시오): 0, 1\n",
      "뉴런 출력: 1\n"
     ]
    }
   ],
   "source": [
    "# OR 연산\n",
    "x1, x2 = eval( input('입력(콤마로 구분하여 입력하시오): '))\n",
    "b = 1 \n",
    "out = 1 if x1 + x2 >= b else 0\n",
    "print('뉴런 출력:', out)\n",
    "#1, 1 : 1 / 0, 1 : 1 / 1, 0 : 1 / 0, 0 : 0"
   ]
  },
  {
   "cell_type": "markdown",
   "id": "0b6e57f2",
   "metadata": {},
   "source": [
    "### 헵의 학습이론\n",
    "- 학습이 이루어지면 시냅스가 강화\n",
    "- 시냅스의 변화를 가중치로 모델링\n",
    "\n",
    "#### 헵의 인공 신경 세포"
   ]
  },
  {
   "cell_type": "code",
   "execution_count": 5,
   "id": "64598192",
   "metadata": {},
   "outputs": [
    {
     "name": "stdout",
     "output_type": "stream",
     "text": [
      "입력(콤마로 구분하여 입력하시오): 0, 1\n",
      "뉴런 출력: 1\n"
     ]
    }
   ],
   "source": [
    "# AND 연산\n",
    "#퍼셉트론 구현\n",
    "#구조 : 입력노드 2개, 출력층 노드 1개\n",
    "x1, x2 = eval( input('입력(콤마로 구분하여 입력하시오): '))\n",
    "\n",
    "b = -0.5\n",
    "w1 = 0.38\n",
    "w2 = 0.42\n",
    "y = x1 * w1 + x2 * w2 + b\n",
    "\n",
    "out = 1 if y >= 0.0 else 0\n",
    "\n",
    "print('뉴런 출력:', out)\n",
    "#0, 0: 0 / 0, 1 : 0 / 1, 0 : 0 / 1, 1 : 1"
   ]
  },
  {
   "cell_type": "code",
   "execution_count": 8,
   "id": "db53dd1a",
   "metadata": {},
   "outputs": [
    {
     "name": "stdout",
     "output_type": "stream",
     "text": [
      "입력(콤마로 구분하여 입력하시오): 0, 1\n",
      "뉴런 출력: 1\n"
     ]
    }
   ],
   "source": [
    "# OR 연산\n",
    "#퍼셉트론 구현\n",
    "#구조 : 입력노드 2개, 출력층 노드 1개\n",
    "x1, x2 = eval( input('입력(콤마로 구분하여 입력하시오): '))\n",
    "\n",
    "b = -0.01\n",
    "w1 = 0.36\n",
    "w2 = 0.39\n",
    "y = x1 * w1 + x2 * w2 + b\n",
    "\n",
    "out = 1 if y >= 0.0 else 0\n",
    "\n",
    "print('뉴런 출력:', out)\n",
    "#0, 0: 0 / 0, 1 : 1 / 1, 0 : 1 / 1, 1 : 1"
   ]
  },
  {
   "cell_type": "code",
   "execution_count": 9,
   "id": "011d37a9",
   "metadata": {},
   "outputs": [
    {
     "name": "stdout",
     "output_type": "stream",
     "text": [
      "입력(콤마로 구분하여 입력하시오): 0, 1\n",
      "뉴런 출력: 0\n"
     ]
    }
   ],
   "source": [
    "#Numpy로 구현한 AND 연산 신경세포\n",
    "import numpy as np\n",
    "\n",
    "x1, x2 = eval( input('입력(콤마로 구분하여 입력하시오): '))\n",
    "X = np.array([x1, x2])\n",
    "\n",
    "b = -0.5\n",
    "w1 = 0.38\n",
    "w2 = 0.42\n",
    "W = np.array([w1, w2]).reshape(-1, 1)\n",
    "\n",
    "y = np.dot(X, W) + b\n",
    "\n",
    "out = 1 if y >= 0.0 else 0\n",
    "\n",
    "print('뉴런 출력:', out)\n",
    "#0, 0: 0 / 0, 1 : 0 / 1, 0 : 0 / 1, 1 : 1"
   ]
  },
  {
   "cell_type": "code",
   "execution_count": 8,
   "id": "f067652f",
   "metadata": {},
   "outputs": [
    {
     "name": "stdout",
     "output_type": "stream",
     "text": [
      "입력(콤마로 구분하여 입력하시오): 0, 1\n",
      "뉴런 출력: 1\n"
     ]
    }
   ],
   "source": [
    "# OR 연산\n",
    "#퍼셉트론 구현\n",
    "#구조 : 입력노드 2개, 출력층 노드 1개\n",
    "x1, x2 = eval( input('입력(콤마로 구분하여 입력하시오): '))\n",
    "\n",
    "b = -0.01\n",
    "w1 = 0.36\n",
    "w2 = 0.39\n",
    "y = x1 * w1 + x2 * w2 + b\n",
    "\n",
    "out = 1 if y >= 0.0 else 0\n",
    "\n",
    "print('뉴런 출력:', out)\n",
    "#0, 0: 0 / 0, 1 : 1 / 1, 0 : 1 / 1, 1 : 1"
   ]
  },
  {
   "cell_type": "markdown",
   "id": "981df4f1",
   "metadata": {},
   "source": [
    "#### Perceptron 학습 규칙 (델타 룰)\n",
    "- 경사하강법, 해석적 미분법\n",
    "- 비용함수(Cost함수/loss함수) : 에러가 최소일 때, 최소값을 가지는 함수\n",
    "- SE: 비용오차"
   ]
  },
  {
   "cell_type": "code",
   "execution_count": 13,
   "id": "cbda2ed2",
   "metadata": {},
   "outputs": [
    {
     "name": "stdout",
     "output_type": "stream",
     "text": [
      "y:\n",
      " [[-0.01]\n",
      " [ 0.38]\n",
      " [ 0.35]\n",
      " [ 0.74]] (4, 1)\n",
      "out:\n",
      " [[0.]\n",
      " [1.]\n",
      " [1.]\n",
      " [1.]]\n"
     ]
    }
   ],
   "source": [
    "# OR 연산\n",
    "#Delta_w 구하기\n",
    "X = np.array([[0,0],\n",
    "              [0,1],\n",
    "              [1,0],\n",
    "              [1,1]])\n",
    "t = np.array([0., 1., 1., 1.]).reshape(-1,1) #target\n",
    "\n",
    "b = -0.01\n",
    "w1 = 0.36\n",
    "w2 = 0.39\n",
    "W = np.array([w1, w2]).reshape(-1, 1)\n",
    "\n",
    "y = np.dot(X, W) + b\n",
    "\n",
    "print('y:\\n', y, y.shape)\n",
    "\n",
    "out = np.zeros_like(y)\n",
    "out = (y >= 0.0).astype(float) #step function\n",
    "print('out:\\n', out)"
   ]
  },
  {
   "cell_type": "code",
   "execution_count": 14,
   "id": "54b03b0a",
   "metadata": {},
   "outputs": [
    {
     "name": "stdout",
     "output_type": "stream",
     "text": [
      "error:\n",
      " [[0.01]\n",
      " [0.62]\n",
      " [0.65]\n",
      " [0.26]]\n",
      "d_w2:\n",
      " [[0.91]\n",
      " [0.88]]\n"
     ]
    }
   ],
   "source": [
    "e = t - y #e : error\n",
    "print('error:\\n', e)\n",
    "\n",
    "d_w2 = np.dot(X.T, e)\n",
    "print('d_w2:\\n', d_w2)"
   ]
  },
  {
   "cell_type": "code",
   "execution_count": 15,
   "id": "e6d6f856",
   "metadata": {},
   "outputs": [],
   "source": [
    "def stepfunc(x):\n",
    "    return (x >= 0.0).astype(float)"
   ]
  },
  {
   "cell_type": "code",
   "execution_count": 20,
   "id": "fbb3e397",
   "metadata": {},
   "outputs": [],
   "source": [
    "class Perceptron:\n",
    "    def __init__(self, x, y):\n",
    "        self.input = x\n",
    "        #self.w = np.zeros((self.input.shape[1], 1))\n",
    "        self.w = np.random.rand(self.input.shape[1], 1)\n",
    "        self.t = y\n",
    "        self.output = np.zeros_like(self.t)\n",
    "    \n",
    "    def feedforward(self):\n",
    "        self.output = stepfunc(np.dot(self.input, self.w))\n",
    "\n",
    "    def train(self, eta):\n",
    "        d_w = np.dot(self.input.T, eta*(self.t - self.output)) #내적 결과\n",
    "        #update the weights\n",
    "        self.w += d_w    "
   ]
  },
  {
   "cell_type": "code",
   "execution_count": 21,
   "id": "ab9a7e9d",
   "metadata": {},
   "outputs": [
    {
     "name": "stdout",
     "output_type": "stream",
     "text": [
      "output:\n",
      " [[0.]\n",
      " [0.]\n",
      " [0.]\n",
      " [1.]]\n",
      "weights:\n",
      " [[ 0.31845932]\n",
      " [ 0.01047849]\n",
      " [-0.32578564]]\n"
     ]
    }
   ],
   "source": [
    "# 논리-AND를 수행하는 퍼셉트론 ,\n",
    "# the third input is for bias\n",
    "X = np.array([[0,0, 1],\n",
    "              [0,1, 1],\n",
    "              [1,0, 1],\n",
    "              [1,1, 1]])\n",
    "y = np.array([[0],[0],[0],[1]])\n",
    "nn = Perceptron(X, y)\n",
    "\n",
    "for i in range(1500): #epoch 1500번\n",
    "    nn.feedforward()\n",
    "    nn.train(0.01)\n",
    "\n",
    "print('output:\\n', nn.output)\n",
    "print('weights:\\n', nn.w)"
   ]
  },
  {
   "cell_type": "code",
   "execution_count": 22,
   "id": "8b5e20d8",
   "metadata": {},
   "outputs": [
    {
     "name": "stdout",
     "output_type": "stream",
     "text": [
      "output:\n",
      " [[0.]\n",
      " [1.]\n",
      " [1.]\n",
      " [1.]]\n",
      "weights:\n",
      " [[ 0.98087609]\n",
      " [ 0.91674606]\n",
      " [-0.00279313]]\n"
     ]
    }
   ],
   "source": [
    "# 논리-OR를 수행하는 퍼셉트론 ,\n",
    "# the third input is for bias\n",
    "X = np.array([[0,0, 1],\n",
    "              [0,1, 1],\n",
    "              [1,0, 1],\n",
    "              [1,1, 1]])\n",
    "y = np.array([[0],[1],[1],[1]])\n",
    "nn = Perceptron(X, y)\n",
    "\n",
    "for i in range(1500): #epoch 1500번\n",
    "    nn.feedforward()\n",
    "    nn.train(0.01)\n",
    "\n",
    "print('output:\\n', nn.output)\n",
    "print('weights:\\n', nn.w)"
   ]
  },
  {
   "cell_type": "markdown",
   "id": "74fd7254",
   "metadata": {},
   "source": [
    "### SLP 퍼셉트론의 한계점 및 해결 방안\n",
    "#### 마빈 민스키 & 세이무어 페퍼트\n",
    "- 퍼셉트론 이론의 한계점 증명\n",
    "- 논리-XOR 연산을 수행하지 못함"
   ]
  },
  {
   "cell_type": "code",
   "execution_count": 23,
   "id": "f163f872",
   "metadata": {},
   "outputs": [
    {
     "name": "stdout",
     "output_type": "stream",
     "text": [
      "output:\n",
      " [[1.]\n",
      " [1.]\n",
      " [1.]\n",
      " [1.]]\n",
      "weights:\n",
      " [[ 0.00412263]\n",
      " [ 0.00047972]\n",
      " [-0.01690518]]\n"
     ]
    }
   ],
   "source": [
    "# XOR 문제\n",
    "# the third input is for bias\n",
    "X = np.array([[0,0, 1],\n",
    "              [0,1, 1],\n",
    "              [1,0, 1],\n",
    "              [1,1, 1]])\n",
    "y = np.array([[0],[1],[1],[0]])\n",
    "nn = Perceptron(X, y)\n",
    "\n",
    "for i in range(1500): #epoch 1500번\n",
    "    nn.feedforward()\n",
    "    nn.train(0.01)\n",
    "\n",
    "print('output:\\n', nn.output)\n",
    "print('weights:\\n', nn.w)"
   ]
  },
  {
   "cell_type": "markdown",
   "id": "483c6292",
   "metadata": {},
   "source": [
    "### 해결방안 : Multi layered Perceptron(다층 신경망)\n",
    "- 다층퍼셉트론\n",
    "- 폴 워보스가 다층 신경망을 제안하고 학습 알고리즘으로 역전파 알고리즘 고안\n",
    "- -> 딥러닝의 이론이 됨\n",
    "\n",
    "#### 학습 규칙 : 역전파 학습(EBP, Error Back Propagation)"
   ]
  }
 ],
 "metadata": {
  "kernelspec": {
   "display_name": "Python 3 (ipykernel)",
   "language": "python",
   "name": "python3"
  },
  "language_info": {
   "codemirror_mode": {
    "name": "ipython",
    "version": 3
   },
   "file_extension": ".py",
   "mimetype": "text/x-python",
   "name": "python",
   "nbconvert_exporter": "python",
   "pygments_lexer": "ipython3",
   "version": "3.9.12"
  }
 },
 "nbformat": 4,
 "nbformat_minor": 5
}
