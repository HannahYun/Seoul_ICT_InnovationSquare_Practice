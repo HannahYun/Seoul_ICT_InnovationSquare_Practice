{
 "cells": [
  {
   "cell_type": "markdown",
   "metadata": {},
   "source": [
    "# 반복문 while\n",
    "- 반복(iteration)은 동일한 문장을 여러 번 반복시키는 구조\n",
    "- 조건식이 True인 동안 실행문장을 반복함\n",
    "#### while 조건식: 실행문장 ... break"
   ]
  },
  {
   "cell_type": "code",
   "execution_count": 4,
   "metadata": {},
   "outputs": [
    {
     "name": "stdout",
     "output_type": "stream",
     "text": [
      "파이썬은 즐거워\n",
      "파이썬은 즐거워\n",
      "파이썬은 즐거워\n",
      "파이썬은 즐거워\n",
      "파이썬은 즐거워\n",
      "count = 5\n"
     ]
    }
   ],
   "source": [
    "count = 0                     #1.변수 값 초기화\n",
    "while count < 5:              #2.조건문\n",
    "    print ('파이썬은 즐거워')\n",
    "    count += 1                #3.증감식\n",
    "    \n",
    "print('count =', count)"
   ]
  },
  {
   "cell_type": "markdown",
   "metadata": {},
   "source": [
    "# 반복문 for\n",
    "- 범위의 처음부터 끝까지 반복함\n",
    "- 범위: 리스트, range, 튜플, 문자열 등\n",
    "#### for 변수 in 범위 : 실행문장"
   ]
  },
  {
   "cell_type": "code",
   "execution_count": 5,
   "metadata": {},
   "outputs": [
    {
     "name": "stdout",
     "output_type": "stream",
     "text": [
      "나무를 1 번 찍었습니다. 딱! \n",
      "나무를 2 번 찍었습니다. 딱! 딱! \n",
      "나무를 3 번 찍었습니다. 딱! 딱! 딱! \n",
      "나무를 4 번 찍었습니다. 딱! 딱! 딱! 딱! \n",
      "나무를 5 번 찍었습니다. 딱! 딱! 딱! 딱! 딱! \n",
      "나무를 6 번 찍었습니다. 딱! 딱! 딱! 딱! 딱! 딱! \n",
      "나무를 7 번 찍었습니다. 딱! 딱! 딱! 딱! 딱! 딱! 딱! \n",
      "나무를 8 번 찍었습니다. 딱! 딱! 딱! 딱! 딱! 딱! 딱! 딱! \n",
      "나무를 9 번 찍었습니다. 딱! 딱! 딱! 딱! 딱! 딱! 딱! 딱! 딱! \n",
      "나무를 10 번 찍었습니다. 딱! 딱! 딱! 딱! 딱! 딱! 딱! 딱! 딱! 딱! \n",
      "넘어가즈아~~~\n"
     ]
    }
   ],
   "source": [
    "for count in range(1, 11) :\n",
    "      print ('나무를', count, '번 찍었습니다.', '딱! ' *count)\n",
    "print ('넘어가즈아~~~')"
   ]
  },
  {
   "cell_type": "code",
   "execution_count": 8,
   "metadata": {},
   "outputs": [
    {
     "name": "stdout",
     "output_type": "stream",
     "text": [
      "나무를 1 번 찍었습니다. 딱!\n",
      "나무를 2 번 찍었습니다. 딱!딱!\n",
      "나무를 3 번 찍었습니다. 딱!딱!딱!\n",
      "나무를 4 번 찍었습니다. 딱!딱!딱!딱!\n",
      "나무를 5 번 찍었습니다. 딱!딱!딱!딱!딱!\n",
      "앗!곰이 나타났네요;;;\n"
     ]
    }
   ],
   "source": [
    "import random\n",
    "number = random.randint(1, 10)\n",
    "for count in range(1, number + 1):\n",
    "    print(\"나무를\", count, '번 찍었습니다.', '딱!' * count)\n",
    "print(\"앗!곰이 나타났네요;;;\")"
   ]
  },
  {
   "cell_type": "code",
   "execution_count": 10,
   "metadata": {},
   "outputs": [
    {
     "name": "stdout",
     "output_type": "stream",
     "text": [
      "재~미~있~네~요~!~!~"
     ]
    }
   ],
   "source": [
    "import time\n",
    "for i in '재미있네요!!':\n",
    "    print(i, end = '~')\n",
    "    time.sleep(0.5)"
   ]
  },
  {
   "cell_type": "code",
   "execution_count": 11,
   "metadata": {},
   "outputs": [
    {
     "name": "stdout",
     "output_type": "stream",
     "text": [
      "재미있네요!!\n",
      "내일도 재미있기를\n"
     ]
    }
   ],
   "source": [
    "import time\n",
    "for i in ['재미있네요!!', '내일도 재미있기를']:\n",
    "    print(i)\n",
    "    time.sleep(0.5)"
   ]
  },
  {
   "cell_type": "code",
   "execution_count": 12,
   "metadata": {},
   "outputs": [
    {
     "name": "stdout",
     "output_type": "stream",
     "text": [
      "2 * 1 = 2\n",
      "2 * 2 = 4\n",
      "2 * 3 = 6\n",
      "2 * 4 = 8\n",
      "2 * 5 = 10\n",
      "2 * 6 = 12\n",
      "2 * 7 = 14\n",
      "2 * 8 = 16\n",
      "2 * 9 = 18\n"
     ]
    }
   ],
   "source": [
    "#구구단 예제 1\n",
    "i=2\n",
    "for j in range(1, 10):\n",
    "    print(i, '*', j, '=', i * j)"
   ]
  },
  {
   "cell_type": "code",
   "execution_count": 16,
   "metadata": {
    "scrolled": true
   },
   "outputs": [
    {
     "name": "stdout",
     "output_type": "stream",
     "text": [
      "=== 2 단 ===\n",
      "2 * 1 = 2\n",
      "2 * 2 = 4\n",
      "2 * 3 = 6\n",
      "2 * 4 = 8\n",
      "2 * 5 = 10\n",
      "2 * 6 = 12\n",
      "2 * 7 = 14\n",
      "2 * 8 = 16\n",
      "2 * 9 = 18\n",
      "\n",
      "\n",
      "=== 3 단 ===\n",
      "3 * 1 = 3\n",
      "3 * 2 = 6\n",
      "3 * 3 = 9\n",
      "3 * 4 = 12\n",
      "3 * 5 = 15\n",
      "3 * 6 = 18\n",
      "3 * 7 = 21\n",
      "3 * 8 = 24\n",
      "3 * 9 = 27\n",
      "\n",
      "\n",
      "=== 4 단 ===\n",
      "4 * 1 = 4\n",
      "4 * 2 = 8\n",
      "4 * 3 = 12\n",
      "4 * 4 = 16\n",
      "4 * 5 = 20\n",
      "4 * 6 = 24\n",
      "4 * 7 = 28\n",
      "4 * 8 = 32\n",
      "4 * 9 = 36\n",
      "\n",
      "\n",
      "=== 5 단 ===\n",
      "5 * 1 = 5\n",
      "5 * 2 = 10\n",
      "5 * 3 = 15\n",
      "5 * 4 = 20\n",
      "5 * 5 = 25\n",
      "5 * 6 = 30\n",
      "5 * 7 = 35\n",
      "5 * 8 = 40\n",
      "5 * 9 = 45\n",
      "\n",
      "\n",
      "=== 6 단 ===\n",
      "6 * 1 = 6\n",
      "6 * 2 = 12\n",
      "6 * 3 = 18\n",
      "6 * 4 = 24\n",
      "6 * 5 = 30\n",
      "6 * 6 = 36\n",
      "6 * 7 = 42\n",
      "6 * 8 = 48\n",
      "6 * 9 = 54\n",
      "\n",
      "\n",
      "=== 7 단 ===\n",
      "7 * 1 = 7\n",
      "7 * 2 = 14\n",
      "7 * 3 = 21\n",
      "7 * 4 = 28\n",
      "7 * 5 = 35\n",
      "7 * 6 = 42\n",
      "7 * 7 = 49\n",
      "7 * 8 = 56\n",
      "7 * 9 = 63\n",
      "\n",
      "\n",
      "=== 8 단 ===\n",
      "8 * 1 = 8\n",
      "8 * 2 = 16\n",
      "8 * 3 = 24\n",
      "8 * 4 = 32\n",
      "8 * 5 = 40\n",
      "8 * 6 = 48\n",
      "8 * 7 = 56\n",
      "8 * 8 = 64\n",
      "8 * 9 = 72\n",
      "\n",
      "\n",
      "=== 9 단 ===\n",
      "9 * 1 = 9\n",
      "9 * 2 = 18\n",
      "9 * 3 = 27\n",
      "9 * 4 = 36\n",
      "9 * 5 = 45\n",
      "9 * 6 = 54\n",
      "9 * 7 = 63\n",
      "9 * 8 = 72\n",
      "9 * 9 = 81\n",
      "\n",
      "\n"
     ]
    }
   ],
   "source": [
    "#구구단 예제 2\n",
    "for i in range(2, 10):\n",
    "    print ('='*3, i, '단', '='*3 )\n",
    "    for j in range(1, 10):\n",
    "        print(i, '*', j, '=', i * j)\n",
    "    print(\"\\n\")"
   ]
  },
  {
   "cell_type": "markdown",
   "metadata": {},
   "source": [
    "### 반복문 + 리스트 실습: 로또 번호 생성기"
   ]
  },
  {
   "cell_type": "code",
   "execution_count": 26,
   "metadata": {},
   "outputs": [
    {
     "name": "stdout",
     "output_type": "stream",
     "text": [
      "로또번호 생성기 프로그램\n",
      "오늘의 당첨 번호 : [29, 35, 24, 13, 18, 43]\n"
     ]
    }
   ],
   "source": [
    "import random\n",
    "print('로또번호 생성기 프로그램')\n",
    "\n",
    "count = 1\n",
    "lottoList = []\n",
    "while count < 7:\n",
    "    number = random.randint(1, 45)\n",
    "    if number not in lottoList: #중복 방지\n",
    "        lottoList.append(number)\n",
    "        count += 1\n",
    "    \n",
    "print('오늘의 당첨 번호 :', lottoList)"
   ]
  },
  {
   "cell_type": "code",
   "execution_count": 27,
   "metadata": {},
   "outputs": [
    {
     "name": "stdout",
     "output_type": "stream",
     "text": [
      "로또번호 생성기 프로그램\n",
      "오늘의 당첨 번호 : [14, 37, 1, 40, 6, 17]\n"
     ]
    }
   ],
   "source": [
    "#break 사용\n",
    "#import random\n",
    "print('로또번호 생성기 프로그램')\n",
    "\n",
    "count = 0\n",
    "lottoList = []\n",
    "while True:\n",
    "    number = random.randint(1, 45)\n",
    "    if number not in lottoList: #중복 방지\n",
    "        lottoList.append(number)\n",
    "        count += 1\n",
    "    if count == 6:\n",
    "        break\n",
    "    \n",
    "print('오늘의 당첨 번호 :', lottoList)"
   ]
  },
  {
   "cell_type": "code",
   "execution_count": null,
   "metadata": {},
   "outputs": [],
   "source": [
    "\n",
    "print('1부터 100까지의 합은 '+ str(total)+'입니다.')"
   ]
  },
  {
   "cell_type": "markdown",
   "metadata": {},
   "source": [
    "# in, is\n",
    "- in : 있으면 true, 없으면 false 반환\n",
    "- not in : 없으면 true, 있으면 true 반환\n",
    "\n",
    "### 논리 연산자\n",
    "- and, or, not : bool로 반환\n",
    "- 0이외의 값은 모두 true"
   ]
  },
  {
   "cell_type": "code",
   "execution_count": 28,
   "metadata": {},
   "outputs": [
    {
     "data": {
      "text/plain": [
       "False"
      ]
     },
     "execution_count": 28,
     "metadata": {},
     "output_type": "execute_result"
    }
   ],
   "source": [
    "d = [[4, 6], '1', '2']\n",
    "[4] in d"
   ]
  },
  {
   "cell_type": "markdown",
   "metadata": {},
   "source": [
    "### and, or not 연습\n",
    "- 1. x == 1 and y == 3\n",
    "- \n",
    "- 1. x ==y or x == z\n",
    "- \n",
    "- 1. x != 2 and x != 3 and x != 4\n",
    "- 2. not(x ==2 or x == 3 or x == 4)\n",
    "- 3. x not in [2,3,4]\n",
    "- 4. x not in range(2,5)\n",
    "- \n",
    "- 1. x == 2 or x == 3 or x == 4\n",
    "- 2. x in [2,3,4]"
   ]
  },
  {
   "cell_type": "markdown",
   "metadata": {},
   "source": [
    "### is\n",
    "- 비교연산자 is는 값 비교 X, 레퍼런스 비교 O\n",
    "- 파이썬에서 -5 ~ +256은 메모리에 캐시 -> 동일한 주소 참조"
   ]
  },
  {
   "cell_type": "code",
   "execution_count": 31,
   "metadata": {},
   "outputs": [
    {
     "data": {
      "text/plain": [
       "False"
      ]
     },
     "execution_count": 31,
     "metadata": {},
     "output_type": "execute_result"
    }
   ],
   "source": [
    "a=1\n",
    "b='1'\n",
    "a is b"
   ]
  },
  {
   "cell_type": "code",
   "execution_count": 33,
   "metadata": {},
   "outputs": [
    {
     "data": {
      "text/plain": [
       "(True, 1325636414032, 1325636414032)"
      ]
     },
     "execution_count": 33,
     "metadata": {},
     "output_type": "execute_result"
    }
   ],
   "source": [
    "a = 10\n",
    "b = 10\n",
    "a is b, id(a), id(b) #10은 같은 위치"
   ]
  },
  {
   "cell_type": "markdown",
   "metadata": {},
   "source": [
    "# 튜플(tuple)\n",
    "- 순서가 있는 원소들의 묶음\n",
    "- 불변객체, 원소 변경 불가능\n",
    "- count() : 원소 개수\n",
    "- index() : 인덱스 찾기"
   ]
  },
  {
   "cell_type": "code",
   "execution_count": 34,
   "metadata": {},
   "outputs": [
    {
     "data": {
      "text/plain": [
       "(1, 2, 3, 4, 5)"
      ]
     },
     "execution_count": 34,
     "metadata": {},
     "output_type": "execute_result"
    }
   ],
   "source": [
    "a = (1, 2, 3, 4, 5)\n",
    "a"
   ]
  },
  {
   "cell_type": "code",
   "execution_count": 37,
   "metadata": {},
   "outputs": [
    {
     "data": {
      "text/plain": [
       "((1, 2, 3, 4, 5, 6, 7, 8, 9), 4, 9)"
      ]
     },
     "execution_count": 37,
     "metadata": {},
     "output_type": "execute_result"
    }
   ],
   "source": [
    "b = tuple(range(1, 10))\n",
    "b, b[3], b[-1]"
   ]
  },
  {
   "cell_type": "code",
   "execution_count": 39,
   "metadata": {},
   "outputs": [
    {
     "data": {
      "text/plain": [
       "(1,)"
      ]
     },
     "execution_count": 39,
     "metadata": {},
     "output_type": "execute_result"
    }
   ],
   "source": [
    "x = 1, \n",
    "x"
   ]
  },
  {
   "cell_type": "code",
   "execution_count": 41,
   "metadata": {},
   "outputs": [
    {
     "data": {
      "text/plain": [
       "tuple"
      ]
     },
     "execution_count": 41,
     "metadata": {},
     "output_type": "execute_result"
    }
   ],
   "source": [
    "type(x), len(x)"
   ]
  },
  {
   "cell_type": "code",
   "execution_count": 44,
   "metadata": {},
   "outputs": [
    {
     "data": {
      "text/plain": [
       "(1, 2)"
      ]
     },
     "execution_count": 44,
     "metadata": {},
     "output_type": "execute_result"
    }
   ],
   "source": [
    "x, y = 1, 2\n",
    "x, y"
   ]
  },
  {
   "cell_type": "code",
   "execution_count": 45,
   "metadata": {},
   "outputs": [
    {
     "data": {
      "text/plain": [
       "1"
      ]
     },
     "execution_count": 45,
     "metadata": {},
     "output_type": "execute_result"
    }
   ],
   "source": [
    "(x, y) = (1, 2)\n",
    "x"
   ]
  },
  {
   "cell_type": "markdown",
   "metadata": {},
   "source": [
    "# 딕셔너리\n",
    "- 사전식 자료 관리\n",
    "- key와 value 쌍으로 이루어진 자료구조\n",
    "- 딕셔너리는 중괄호{ }로 묶여 있음\n",
    "- key를 인덱스로 사용\n",
    "- len() : 원소의 수"
   ]
  },
  {
   "cell_type": "code",
   "execution_count": 47,
   "metadata": {},
   "outputs": [
    {
     "data": {
      "text/plain": [
       "({'a': 1, 'b': 2}, 2, dict)"
      ]
     },
     "execution_count": 47,
     "metadata": {},
     "output_type": "execute_result"
    }
   ],
   "source": [
    "a={'a' : 1, 'b': 2}\n",
    "a, len(a), type(a)"
   ]
  },
  {
   "cell_type": "code",
   "execution_count": 48,
   "metadata": {},
   "outputs": [
    {
     "data": {
      "text/plain": [
       "{'신사임당': '010-1234-5678', '홍길동': '010-4532-4532'}"
      ]
     },
     "execution_count": 48,
     "metadata": {},
     "output_type": "execute_result"
    }
   ],
   "source": [
    "phone_book={'신사임당': '010-1234-5678', '홍길동': '010-4532-4532'}\n",
    "phone_book"
   ]
  },
  {
   "cell_type": "code",
   "execution_count": 49,
   "metadata": {},
   "outputs": [
    {
     "data": {
      "text/plain": [
       "{'신사임당': '010-1234-5678', '홍길동': '010-4532-4532', '이순신': '010-0987-6543'}"
      ]
     },
     "execution_count": 49,
     "metadata": {},
     "output_type": "execute_result"
    }
   ],
   "source": [
    "phone_book['이순신']= '010-0987-6543' #원소 추가\n",
    "phone_book"
   ]
  },
  {
   "cell_type": "code",
   "execution_count": 51,
   "metadata": {},
   "outputs": [
    {
     "data": {
      "text/plain": [
       "'010-0987-6543'"
      ]
     },
     "execution_count": 51,
     "metadata": {},
     "output_type": "execute_result"
    }
   ],
   "source": [
    "phone_book['이순신'] #key값으로 검색"
   ]
  },
  {
   "cell_type": "code",
   "execution_count": 53,
   "metadata": {},
   "outputs": [
    {
     "data": {
      "text/plain": [
       "'010-0987-6543'"
      ]
     },
     "execution_count": 53,
     "metadata": {},
     "output_type": "execute_result"
    }
   ],
   "source": [
    "phone_book.get('이순신') #key값으로 검색"
   ]
  },
  {
   "cell_type": "code",
   "execution_count": 52,
   "metadata": {},
   "outputs": [
    {
     "data": {
      "text/plain": [
       "True"
      ]
     },
     "execution_count": 52,
     "metadata": {},
     "output_type": "execute_result"
    }
   ],
   "source": [
    "'이순신' in phone_book"
   ]
  },
  {
   "cell_type": "code",
   "execution_count": null,
   "metadata": {},
   "outputs": [],
   "source": []
  },
  {
   "cell_type": "code",
   "execution_count": null,
   "metadata": {},
   "outputs": [],
   "source": []
  },
  {
   "cell_type": "code",
   "execution_count": null,
   "metadata": {},
   "outputs": [],
   "source": [
    "phone_book['홍길동']"
   ]
  },
  {
   "cell_type": "code",
   "execution_count": 55,
   "metadata": {},
   "outputs": [],
   "source": [
    "phone_book={'신사임당': '010-1234-5678', \n",
    "            '홍길동': '010-4532-4532', \n",
    "            '이순신': '010-0987-6543'}"
   ]
  },
  {
   "cell_type": "code",
   "execution_count": 56,
   "metadata": {},
   "outputs": [
    {
     "name": "stdout",
     "output_type": "stream",
     "text": [
      "신사임당\n",
      "홍길동\n",
      "이순신\n"
     ]
    }
   ],
   "source": [
    "for i in phone_book:\n",
    "    print(i) #key값만 출력"
   ]
  },
  {
   "cell_type": "code",
   "execution_count": 57,
   "metadata": {},
   "outputs": [
    {
     "name": "stdout",
     "output_type": "stream",
     "text": [
      "신사임당\n",
      "홍길동\n",
      "이순신\n",
      "end\n"
     ]
    }
   ],
   "source": [
    "for i in phone_book:\n",
    "    print(i) #key값만 출력\n",
    "else:\n",
    "    print('end')"
   ]
  },
  {
   "cell_type": "code",
   "execution_count": 61,
   "metadata": {},
   "outputs": [
    {
     "data": {
      "text/plain": [
       "dict_keys(['신사임당', '홍길동', '이순신'])"
      ]
     },
     "execution_count": 61,
     "metadata": {},
     "output_type": "execute_result"
    }
   ],
   "source": [
    "phone_book.keys() #딕셔너리의 모든 key 출력"
   ]
  },
  {
   "cell_type": "code",
   "execution_count": 62,
   "metadata": {},
   "outputs": [
    {
     "name": "stdout",
     "output_type": "stream",
     "text": [
      "신사임당\n",
      "홍길동\n",
      "이순신\n"
     ]
    }
   ],
   "source": [
    "for i in phone_book.keys():\n",
    "    print(i)"
   ]
  },
  {
   "cell_type": "code",
   "execution_count": 63,
   "metadata": {},
   "outputs": [
    {
     "data": {
      "text/plain": [
       "dict_values(['010-1234-5678', '010-4532-4532', '010-0987-6543'])"
      ]
     },
     "execution_count": 63,
     "metadata": {},
     "output_type": "execute_result"
    }
   ],
   "source": [
    "phone_book.values() #딕셔너리의 모든 value 출력"
   ]
  },
  {
   "cell_type": "code",
   "execution_count": 64,
   "metadata": {},
   "outputs": [
    {
     "name": "stdout",
     "output_type": "stream",
     "text": [
      "010-1234-5678\n",
      "010-4532-4532\n",
      "010-0987-6543\n"
     ]
    }
   ],
   "source": [
    "for i in phone_book.values():\n",
    "    print(i)"
   ]
  },
  {
   "cell_type": "code",
   "execution_count": 65,
   "metadata": {},
   "outputs": [
    {
     "name": "stdout",
     "output_type": "stream",
     "text": [
      "('신사임당', '010-1234-5678')\n",
      "('홍길동', '010-4532-4532')\n",
      "('이순신', '010-0987-6543')\n"
     ]
    }
   ],
   "source": [
    "for i in phone_book.items():\n",
    "    print(i)"
   ]
  },
  {
   "cell_type": "code",
   "execution_count": 60,
   "metadata": {},
   "outputs": [
    {
     "name": "stdout",
     "output_type": "stream",
     "text": [
      "신사임당 010-1234-5678\n",
      "홍길동 010-4532-4532\n",
      "이순신 010-0987-6543\n"
     ]
    }
   ],
   "source": [
    "for i, j in phone_book.items():\n",
    "    print(i, j)"
   ]
  },
  {
   "cell_type": "code",
   "execution_count": 66,
   "metadata": {},
   "outputs": [
    {
     "data": {
      "text/plain": [
       "{'신사임당': '010-1234-5678', '이순신': '010-0987-6543'}"
      ]
     },
     "execution_count": 66,
     "metadata": {},
     "output_type": "execute_result"
    }
   ],
   "source": [
    "#딕셔너리 항목 삭제\n",
    "del phone_book['홍길동']\n",
    "phone_book"
   ]
  },
  {
   "cell_type": "code",
   "execution_count": 68,
   "metadata": {},
   "outputs": [],
   "source": [
    "#phone_book.clear() #모든 항목 삭제\n",
    "#phone_book"
   ]
  },
  {
   "cell_type": "code",
   "execution_count": 69,
   "metadata": {},
   "outputs": [],
   "source": [
    "#copy() : 딕셔너리 복사\n",
    "#popitem() : 값 빼내기"
   ]
  },
  {
   "cell_type": "markdown",
   "metadata": {},
   "source": [
    "### 집합(set)\n",
    "- 순서 X, 수정 가능, 값이 중복되지 않음"
   ]
  },
  {
   "cell_type": "code",
   "execution_count": 70,
   "metadata": {},
   "outputs": [
    {
     "data": {
      "text/plain": [
       "{1, 2, 3, 4, 5}"
      ]
     },
     "execution_count": 70,
     "metadata": {},
     "output_type": "execute_result"
    }
   ],
   "source": [
    "a = {1, 2, 3, 4, 5}\n",
    "a"
   ]
  },
  {
   "cell_type": "code",
   "execution_count": 71,
   "metadata": {},
   "outputs": [
    {
     "data": {
      "text/plain": [
       "{1, 2, 3, 4, 6, 7, 8, 10}"
      ]
     },
     "execution_count": 71,
     "metadata": {},
     "output_type": "execute_result"
    }
   ],
   "source": [
    "b = set([1, 1, 4, 2, 2, 6, 6, 6, 6, 7, 8, 10, 4, 2, 8, 6, 3])\n",
    "b"
   ]
  }
 ],
 "metadata": {
  "kernelspec": {
   "display_name": "Python 3 (ipykernel)",
   "language": "python",
   "name": "python3"
  },
  "language_info": {
   "codemirror_mode": {
    "name": "ipython",
    "version": 3
   },
   "file_extension": ".py",
   "mimetype": "text/x-python",
   "name": "python",
   "nbconvert_exporter": "python",
   "pygments_lexer": "ipython3",
   "version": "3.9.12"
  }
 },
 "nbformat": 4,
 "nbformat_minor": 4
}
