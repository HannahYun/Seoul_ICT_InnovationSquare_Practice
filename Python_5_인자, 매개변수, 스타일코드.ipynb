{
 "cells": [
  {
   "cell_type": "markdown",
   "id": "bb8a4e7f",
   "metadata": {},
   "source": [
    "## 디폴트 인자(default argument, = 기본 인자) : \n",
    "- 함수의 매개변수는 기본값을 가질 수 있다.\n",
    "- 인자가 부족하면 기본값을 채워준다."
   ]
  },
  {
   "cell_type": "code",
   "execution_count": 1,
   "id": "29afd2ac",
   "metadata": {},
   "outputs": [
    {
     "name": "stdout",
     "output_type": "stream",
     "text": [
      "안녕 길동 좋은 아침!!\n"
     ]
    }
   ],
   "source": [
    "def greet(name, msg ):\n",
    "    print('안녕', name, msg)\n",
    "    \n",
    "greet('길동', '좋은 아침!!')"
   ]
  },
  {
   "cell_type": "code",
   "execution_count": 4,
   "id": "e06dbf57",
   "metadata": {},
   "outputs": [],
   "source": [
    "def greet(name, msg = \"별일 없죠?\" ):\n",
    "    print('안녕', name, msg)"
   ]
  },
  {
   "cell_type": "code",
   "execution_count": 5,
   "id": "902a13dd",
   "metadata": {},
   "outputs": [
    {
     "name": "stdout",
     "output_type": "stream",
     "text": [
      "안녕 길산 별일 없죠?\n"
     ]
    }
   ],
   "source": [
    "greet('길산')"
   ]
  },
  {
   "cell_type": "code",
   "execution_count": 6,
   "id": "4e5d13c7",
   "metadata": {},
   "outputs": [
    {
     "name": "stdout",
     "output_type": "stream",
     "text": [
      "안녕 길산 좋은 아침~\n"
     ]
    }
   ],
   "source": [
    "greet('길산', '좋은 아침~')"
   ]
  },
  {
   "cell_type": "markdown",
   "id": "075cfb87",
   "metadata": {},
   "source": [
    "## keyword argument :\n",
    "- 매개 변수 이름을 지정해서 값을 전달하는 방식 "
   ]
  },
  {
   "cell_type": "code",
   "execution_count": 7,
   "id": "52bad9ad",
   "metadata": {},
   "outputs": [
    {
     "data": {
      "text/plain": [
       "6"
      ]
     },
     "execution_count": 7,
     "metadata": {},
     "output_type": "execute_result"
    }
   ],
   "source": [
    "def calc(x, y, z):\n",
    "    return x+y+z\n",
    "\n",
    "calc(1,2,3)"
   ]
  },
  {
   "cell_type": "code",
   "execution_count": 8,
   "id": "14a61b5b",
   "metadata": {},
   "outputs": [
    {
     "data": {
      "text/plain": [
       "6"
      ]
     },
     "execution_count": 8,
     "metadata": {},
     "output_type": "execute_result"
    }
   ],
   "source": [
    "calc(y=2, z=3, x=1) #키워드인자"
   ]
  },
  {
   "cell_type": "code",
   "execution_count": 9,
   "id": "4b468138",
   "metadata": {},
   "outputs": [
    {
     "data": {
      "text/plain": [
       "6"
      ]
     },
     "execution_count": 9,
     "metadata": {},
     "output_type": "execute_result"
    }
   ],
   "source": [
    "calc(1, y=2, z=3) #위치인자 + 키워드인자"
   ]
  },
  {
   "cell_type": "code",
   "execution_count": 11,
   "id": "2050aef9",
   "metadata": {},
   "outputs": [],
   "source": [
    "#calc(x=1, y=2, 3) #위치인자는 앞부터"
   ]
  },
  {
   "cell_type": "markdown",
   "id": "90b07e83",
   "metadata": {},
   "source": [
    "## 가변 인자\n",
    "- 몇 개의 인자를 받을지 정해지지 않은 인자\n",
    "- 파이썬에서는 가변 인자를 받을 때 * (Asterisk) 을 붙여서 받는다.\n",
    "- 입력받는 전달 인자의 개수에 상관없음"
   ]
  },
  {
   "cell_type": "code",
   "execution_count": 13,
   "id": "f1e2c70f",
   "metadata": {},
   "outputs": [
    {
     "name": "stdout",
     "output_type": "stream",
     "text": [
      "<class 'tuple'> (1, 2, 5, 6, 8, 9, 10)\n"
     ]
    },
    {
     "data": {
      "text/plain": [
       "41"
      ]
     },
     "execution_count": 13,
     "metadata": {},
     "output_type": "execute_result"
    }
   ],
   "source": [
    "def sum_all(*args):\n",
    "    result = 0\n",
    "    print(type(args), args)\n",
    "    for i in args:\n",
    "        result += i\n",
    "    return result\n",
    "\n",
    "sum_all(1,2,5,6,8,9,10)"
   ]
  },
  {
   "cell_type": "markdown",
   "id": "e1ffd2b6",
   "metadata": {},
   "source": [
    "## 키워드 가변 인자: 키워드 + 가변 \n",
    "- ** 을 사용\n",
    "- dictionary 형태로 입력"
   ]
  },
  {
   "cell_type": "code",
   "execution_count": 14,
   "id": "6eb12d10",
   "metadata": {},
   "outputs": [
    {
     "name": "stdout",
     "output_type": "stream",
     "text": [
      "{'one': 1, 'two': 2, 'three': 3}\n"
     ]
    }
   ],
   "source": [
    "def dic_text(**kwargs):\n",
    "    print(kwargs)\n",
    "    \n",
    "dic_text(one = 1, two = 2, three = 3)"
   ]
  },
  {
   "cell_type": "markdown",
   "id": "8cc61495",
   "metadata": {},
   "source": [
    "## 함수는 객체"
   ]
  },
  {
   "cell_type": "code",
   "execution_count": 15,
   "id": "28ce72c9",
   "metadata": {},
   "outputs": [
    {
     "data": {
      "text/plain": [
       "(5, 3)"
      ]
     },
     "execution_count": 15,
     "metadata": {},
     "output_type": "execute_result"
    }
   ],
   "source": [
    "def func(dx, dy):\n",
    "    '''이것은 여러줄 \n",
    "    주석입니다. \n",
    "    함수의 도움말'''\n",
    "    dx, dy = dy, dx\n",
    "    return dx, dy\n",
    "\n",
    "func(3, 5)"
   ]
  },
  {
   "cell_type": "code",
   "execution_count": 17,
   "id": "80d3e7a9",
   "metadata": {},
   "outputs": [
    {
     "name": "stdout",
     "output_type": "stream",
     "text": [
      "<function func at 0x000002B59334A430>\n"
     ]
    }
   ],
   "source": [
    "print(func)"
   ]
  },
  {
   "cell_type": "code",
   "execution_count": 18,
   "id": "bebaf493",
   "metadata": {},
   "outputs": [
    {
     "name": "stdout",
     "output_type": "stream",
     "text": [
      "Variable   Type        Data/Info\n",
      "--------------------------------\n",
      "calc       function    <function calc at 0x000002B5932F39D0>\n",
      "dic_text   function    <function dic_text at 0x000002B5932F3820>\n",
      "func       function    <function func at 0x000002B59334A430>\n",
      "greet      function    <function greet at 0x000002B5932F3AF0>\n",
      "sum_all    function    <function sum_all at 0x000002B5932F33A0>\n"
     ]
    }
   ],
   "source": [
    "%whos"
   ]
  },
  {
   "cell_type": "markdown",
   "id": "9c220208",
   "metadata": {},
   "source": [
    "### X.upper : 대문자로\n",
    "### X.lower : 소문자로\n",
    "### X.capitalize() : 첫 글자만 대문자로"
   ]
  },
  {
   "cell_type": "code",
   "execution_count": 19,
   "id": "77e60e6f",
   "metadata": {},
   "outputs": [
    {
     "data": {
      "text/plain": [
       "'HI'"
      ]
     },
     "execution_count": 19,
     "metadata": {},
     "output_type": "execute_result"
    }
   ],
   "source": [
    "def wow(text):\n",
    "    return text.upper()\n",
    "\n",
    "wow('hi')"
   ]
  },
  {
   "cell_type": "code",
   "execution_count": 22,
   "id": "28fe984c",
   "metadata": {},
   "outputs": [],
   "source": [
    "oh = wow"
   ]
  },
  {
   "cell_type": "code",
   "execution_count": 23,
   "id": "04900db9",
   "metadata": {},
   "outputs": [
    {
     "data": {
      "text/plain": [
       "'HELLO'"
      ]
     },
     "execution_count": 23,
     "metadata": {},
     "output_type": "execute_result"
    }
   ],
   "source": [
    "oh('hello')"
   ]
  },
  {
   "cell_type": "code",
   "execution_count": 25,
   "id": "fb860084",
   "metadata": {},
   "outputs": [
    {
     "ename": "NameError",
     "evalue": "name 'wow' is not defined",
     "output_type": "error",
     "traceback": [
      "\u001b[1;31m---------------------------------------------------------------------------\u001b[0m",
      "\u001b[1;31mNameError\u001b[0m                                 Traceback (most recent call last)",
      "Input \u001b[1;32mIn [25]\u001b[0m, in \u001b[0;36m<cell line: 1>\u001b[1;34m()\u001b[0m\n\u001b[1;32m----> 1\u001b[0m \u001b[38;5;28;01mdel\u001b[39;00m wow\n",
      "\u001b[1;31mNameError\u001b[0m: name 'wow' is not defined"
     ]
    }
   ],
   "source": [
    "del wow #wow는 삭제되고 oh는 남아있음"
   ]
  },
  {
   "cell_type": "markdown",
   "id": "2d69149f",
   "metadata": {},
   "source": [
    "### Python 함수는 객체이므로 자료구조 속에 넣을 수 있음"
   ]
  },
  {
   "cell_type": "code",
   "execution_count": 29,
   "id": "74ff07a4",
   "metadata": {},
   "outputs": [
    {
     "data": {
      "text/plain": [
       "[<function __main__.wow(text)>,\n",
       " <method 'lower' of 'str' objects>,\n",
       " <method 'capitalize' of 'str' objects>]"
      ]
     },
     "execution_count": 29,
     "metadata": {},
     "output_type": "execute_result"
    }
   ],
   "source": [
    "flst = [oh, str.lower, str.capitalize] #함수 3개\n",
    "flst"
   ]
  },
  {
   "cell_type": "markdown",
   "id": "3f8fe844",
   "metadata": {},
   "source": [
    "- 리스트 내의 함수로 접근 방법은 다른 객체와 동일"
   ]
  },
  {
   "cell_type": "code",
   "execution_count": 30,
   "id": "427a1e04",
   "metadata": {},
   "outputs": [
    {
     "name": "stdout",
     "output_type": "stream",
     "text": [
      "WELCOME\n",
      "welcome\n",
      "Welcome\n"
     ]
    }
   ],
   "source": [
    "for x in flst:\n",
    "    print(x('welcome'))"
   ]
  },
  {
   "cell_type": "code",
   "execution_count": 31,
   "id": "badcbcd7",
   "metadata": {},
   "outputs": [
    {
     "data": {
      "text/plain": [
       "'WELCOME'"
      ]
     },
     "execution_count": 31,
     "metadata": {},
     "output_type": "execute_result"
    }
   ],
   "source": [
    "flst[0]('welcome')"
   ]
  },
  {
   "cell_type": "markdown",
   "id": "ee8acf12",
   "metadata": {},
   "source": [
    "### split()함수와 join() 함수"
   ]
  },
  {
   "cell_type": "code",
   "execution_count": 36,
   "id": "a50e68db",
   "metadata": {},
   "outputs": [],
   "source": [
    "color = ['blue', 'red', 'yellow', 'green']"
   ]
  },
  {
   "cell_type": "code",
   "execution_count": 37,
   "id": "f3de42b3",
   "metadata": {},
   "outputs": [
    {
     "data": {
      "text/plain": [
       "['www', 'daehak', 'ac', 'kr']"
      ]
     },
     "execution_count": 37,
     "metadata": {},
     "output_type": "execute_result"
    }
   ],
   "source": [
    "example = 'www.daehak.ac.kr'\n",
    "example.split('.') #문자열.split('구분자')"
   ]
  },
  {
   "cell_type": "code",
   "execution_count": 38,
   "id": "bd6fd53c",
   "metadata": {},
   "outputs": [
    {
     "data": {
      "text/plain": [
       "'blue,red,yellow,green'"
      ]
     },
     "execution_count": 38,
     "metadata": {},
     "output_type": "execute_result"
    }
   ],
   "source": [
    "','.join(color) #'구분자'.join(리스트)"
   ]
  },
  {
   "cell_type": "markdown",
   "id": "29f4742b",
   "metadata": {},
   "source": [
    "## lambda 함수 \n",
    "- 한 줄짜리 함수\n",
    "- 콜론(:)을 경계로 앞 : 매개변수 /  뒤 : 표현식(반환값)\n",
    "- return문 필요 없고, 표현식 실행 결과가 자동 반환됨"
   ]
  },
  {
   "cell_type": "code",
   "execution_count": 40,
   "id": "17e53732",
   "metadata": {},
   "outputs": [
    {
     "data": {
      "text/plain": [
       "20"
      ]
     },
     "execution_count": 40,
     "metadata": {},
     "output_type": "execute_result"
    }
   ],
   "source": [
    "a = lambda x, y : x + y\n",
    "a(10, 10)"
   ]
  },
  {
   "cell_type": "markdown",
   "id": "c845b993",
   "metadata": {},
   "source": [
    "## python 의 모든 자료는 객체"
   ]
  },
  {
   "cell_type": "markdown",
   "id": "584fa6ab",
   "metadata": {},
   "source": [
    "## higher-order function\n",
    "- Python은 함수를 전달인자로 넘겨줄 수 있음"
   ]
  },
  {
   "cell_type": "code",
   "execution_count": 41,
   "id": "f682f3dd",
   "metadata": {},
   "outputs": [
    {
     "name": "stdout",
     "output_type": "stream",
     "text": [
      "HI, I LOVE PYTHON\n"
     ]
    }
   ],
   "source": [
    "#인자로 넘겨받은 함수를 실행시켜 문자열을 반환하는 함수\n",
    "def greet(func):\n",
    "    greeting = func('hi, I love python')\n",
    "    print(greeting)\n",
    "\n",
    "greet(oh)"
   ]
  },
  {
   "cell_type": "markdown",
   "id": "299bbd85",
   "metadata": {},
   "source": [
    "## map 함수\n",
    "### map(f, iterable)\n",
    "- f : 함수이름\n",
    "- 함수(f)에 반복 가능한 iterable 자료형을 입력 받음\n",
    "- f의 실행 결과를 반환\n",
    "- 모든 자료에 대해 순차적으로 수행됨"
   ]
  },
  {
   "cell_type": "code",
   "execution_count": 42,
   "id": "32884d6c",
   "metadata": {},
   "outputs": [
    {
     "data": {
      "text/plain": [
       "['HI', 'HELLO', 'WELCOME']"
      ]
     },
     "execution_count": 42,
     "metadata": {},
     "output_type": "execute_result"
    }
   ],
   "source": [
    "list(map(oh, ['hi', 'hello', 'welcome']))"
   ]
  },
  {
   "cell_type": "markdown",
   "id": "9b0a1aa1",
   "metadata": {},
   "source": [
    "## filter 함수\n",
    "### filter(함수, 리스트)\n",
    "- 반복 가능한 객체에서 지정한 함수의 반환 값이 True인 요소만 골라냄"
   ]
  },
  {
   "cell_type": "code",
   "execution_count": 43,
   "id": "687067c5",
   "metadata": {},
   "outputs": [
    {
     "data": {
      "text/plain": [
       "[0, 1, 2, 3, 4]"
      ]
     },
     "execution_count": 43,
     "metadata": {},
     "output_type": "execute_result"
    }
   ],
   "source": [
    "list(filter(lambda x : x < 5, range(10)))"
   ]
  },
  {
   "cell_type": "code",
   "execution_count": 44,
   "id": "bc004f4e",
   "metadata": {},
   "outputs": [
    {
     "data": {
      "text/plain": [
       "[6, 7, 8, 9]"
      ]
     },
     "execution_count": 44,
     "metadata": {},
     "output_type": "execute_result"
    }
   ],
   "source": [
    "list(filter(lambda x : x > 5, range(10)))"
   ]
  },
  {
   "cell_type": "markdown",
   "id": "c1b63fcc",
   "metadata": {},
   "source": [
    "## enumerate() 함수\n",
    "- List의 요소를 추출할 때 번호를 붙여서 추출\n"
   ]
  },
  {
   "cell_type": "code",
   "execution_count": 45,
   "id": "0f79a212",
   "metadata": {},
   "outputs": [
    {
     "data": {
      "text/plain": [
       "[(0, 'a'), (1, 'b'), (2, 'c'), (3, 'd')]"
      ]
     },
     "execution_count": 45,
     "metadata": {},
     "output_type": "execute_result"
    }
   ],
   "source": [
    "mylist=['a', 'b', 'c', 'd']\n",
    "list(enumerate(mylist))"
   ]
  },
  {
   "cell_type": "code",
   "execution_count": 46,
   "id": "7e9db71a",
   "metadata": {},
   "outputs": [
    {
     "name": "stdout",
     "output_type": "stream",
     "text": [
      "0 a\n",
      "1 b\n",
      "2 c\n",
      "3 d\n"
     ]
    }
   ],
   "source": [
    "for i, v in enumerate(mylist):\n",
    "    print(i, v)"
   ]
  },
  {
   "cell_type": "markdown",
   "id": "b418094e",
   "metadata": {},
   "source": [
    "## zip() 함수\n",
    "- list/tuple 들에서 같은 위치에 있는 값을 병렬적으로 추출함"
   ]
  },
  {
   "cell_type": "code",
   "execution_count": 47,
   "id": "1d9987f1",
   "metadata": {},
   "outputs": [
    {
     "data": {
      "text/plain": [
       "[('a1', 'b1'), ('a2', 'b2'), ('a3', 'b3')]"
      ]
     },
     "execution_count": 47,
     "metadata": {},
     "output_type": "execute_result"
    }
   ],
   "source": [
    "alist = ['a1', 'a2', 'a3']\n",
    "blist = ['b1', 'b2', 'b3']\n",
    "list(zip(alist, blist))"
   ]
  },
  {
   "cell_type": "code",
   "execution_count": 48,
   "id": "89cb9758",
   "metadata": {},
   "outputs": [
    {
     "name": "stdout",
     "output_type": "stream",
     "text": [
      "a1 b1\n",
      "a2 b2\n",
      "a3 b3\n"
     ]
    }
   ],
   "source": [
    "for a, b in zip(alist, blist):\n",
    "    print(a, b)"
   ]
  },
  {
   "cell_type": "markdown",
   "id": "5d88e7b2",
   "metadata": {},
   "source": [
    "## 리스트 조건 제시법\n",
    "- for 반복을 사용하여 자동으로 리스트를 생성하는 방법\n",
    "\n",
    "#### [생성연산식 for 변수 in 컬랙션]"
   ]
  },
  {
   "cell_type": "code",
   "execution_count": 49,
   "id": "787b6023",
   "metadata": {},
   "outputs": [],
   "source": [
    "import random"
   ]
  },
  {
   "cell_type": "code",
   "execution_count": 51,
   "id": "17a6e4fa",
   "metadata": {},
   "outputs": [
    {
     "name": "stdout",
     "output_type": "stream",
     "text": [
      "[45, 6, 26, 3, 43, 21]\n"
     ]
    }
   ],
   "source": [
    "rlst=[]\n",
    "for x in range(6):\n",
    "    rlst.append(random.randint(1, 45))\n",
    "else:\n",
    "    print(rlst)"
   ]
  },
  {
   "cell_type": "code",
   "execution_count": 52,
   "id": "81427d78",
   "metadata": {},
   "outputs": [
    {
     "data": {
      "text/plain": [
       "[37, 17, 19, 37, 39, 35]"
      ]
     },
     "execution_count": 52,
     "metadata": {},
     "output_type": "execute_result"
    }
   ],
   "source": [
    "#리스트 조건 제시법 사용\n",
    "[random.randint(1, 45) for x in range(6)]"
   ]
  },
  {
   "cell_type": "code",
   "execution_count": 55,
   "id": "55b8c09f",
   "metadata": {},
   "outputs": [
    {
     "name": "stdout",
     "output_type": "stream",
     "text": [
      "정수를 입력하시오: 1\n",
      "정수를 입력하시오: 2\n",
      "정수를 입력하시오: 3\n",
      "정수를 입력하시오: 4\n",
      "정수를 입력하시오: 5\n"
     ]
    },
    {
     "data": {
      "text/plain": [
       "[1, 2, 3, 4, 5]"
      ]
     },
     "execution_count": 55,
     "metadata": {},
     "output_type": "execute_result"
    }
   ],
   "source": [
    "[int(input('정수를 입력하시오: ')) for x in range(5)]"
   ]
  },
  {
   "cell_type": "code",
   "execution_count": 56,
   "id": "8d0e32fc",
   "metadata": {},
   "outputs": [
    {
     "data": {
      "text/plain": [
       "[0, 1, 8, 27, 64, 125, 216, 343, 512, 729]"
      ]
     },
     "execution_count": 56,
     "metadata": {},
     "output_type": "execute_result"
    }
   ],
   "source": [
    "[ i**3 for i in range(10) ]"
   ]
  },
  {
   "cell_type": "markdown",
   "id": "6fcd7941",
   "metadata": {},
   "source": [
    "## iterable 객체 : 반복(순환) 가능한 객체\n",
    "- 대표적 iterable 객체 타입 : range(), map()함수 \n",
    "-반복자(iterator): 함수\n",
    "#### next() : iterator를 입력 받아 다음 출력 값을 반환"
   ]
  },
  {
   "cell_type": "code",
   "execution_count": 60,
   "id": "d9b15dcc",
   "metadata": {},
   "outputs": [],
   "source": [
    "lst=[1,2,3]\n",
    "result = map(lambda i : i ** 2, lst)"
   ]
  },
  {
   "cell_type": "code",
   "execution_count": 61,
   "id": "bfc644dc",
   "metadata": {},
   "outputs": [
    {
     "data": {
      "text/plain": [
       "1"
      ]
     },
     "execution_count": 61,
     "metadata": {},
     "output_type": "execute_result"
    }
   ],
   "source": [
    "next(result)"
   ]
  },
  {
   "cell_type": "code",
   "execution_count": 64,
   "id": "048cd1f0",
   "metadata": {},
   "outputs": [
    {
     "ename": "StopIteration",
     "evalue": "",
     "output_type": "error",
     "traceback": [
      "\u001b[1;31m---------------------------------------------------------------------------\u001b[0m",
      "\u001b[1;31mStopIteration\u001b[0m                             Traceback (most recent call last)",
      "Input \u001b[1;32mIn [64]\u001b[0m, in \u001b[0;36m<cell line: 1>\u001b[1;34m()\u001b[0m\n\u001b[1;32m----> 1\u001b[0m \u001b[38;5;28;43mnext\u001b[39;49m\u001b[43m(\u001b[49m\u001b[43mresult\u001b[49m\u001b[43m)\u001b[49m\n",
      "\u001b[1;31mStopIteration\u001b[0m: "
     ]
    }
   ],
   "source": [
    "next(result)"
   ]
  },
  {
   "cell_type": "code",
   "execution_count": null,
   "id": "3b32e9e6",
   "metadata": {},
   "outputs": [],
   "source": []
  },
  {
   "cell_type": "code",
   "execution_count": null,
   "id": "bb1028a0",
   "metadata": {},
   "outputs": [],
   "source": []
  },
  {
   "cell_type": "markdown",
   "id": "71047e86",
   "metadata": {},
   "source": [
    "## Generator 함수\n",
    "#### yield : 생성자\n",
    "- Iterable 자료를 생성하는 함수\n",
    "- next() 함수 사용해서 자료에 접근\n",
    "- yield 문이 포함된 함수는 호출되면 generator 반환\n",
    "- generator가 next() 함수에 전달되었을 때 실행됨\n",
    "- yield 문은 yield 문에 정의된 값 반환 후 실행을 멈춤\n",
    "- next() 함수에 의해 generator 가 다시 실행되면 멈춤 위치에서부터 다시 실행"
   ]
  },
  {
   "cell_type": "code",
   "execution_count": 68,
   "id": "7da94cf3",
   "metadata": {},
   "outputs": [
    {
     "data": {
      "text/plain": [
       "'a'"
      ]
     },
     "execution_count": 68,
     "metadata": {},
     "output_type": "execute_result"
    }
   ],
   "source": [
    "#a, b, c를 출력하는 생성기\n",
    "def abc():\n",
    "    yield 'a'\n",
    "    yield 'b'\n",
    "    yield 'c'\n",
    "\n",
    "d = abc()\n",
    "next(d)"
   ]
  },
  {
   "cell_type": "code",
   "execution_count": 72,
   "id": "b4d7133b",
   "metadata": {},
   "outputs": [
    {
     "data": {
      "text/plain": [
       "1"
      ]
     },
     "execution_count": 72,
     "metadata": {},
     "output_type": "execute_result"
    }
   ],
   "source": [
    "#1~무한대의 자연수가 순서대로 나오는 생성기\n",
    "def one_to_infinite():\n",
    "    n = 1\n",
    "    while True:\n",
    "        yield n\n",
    "        n += 1\n",
    "\n",
    "natural_number = one_to_infinite()\n",
    "next(natural_number)"
   ]
  },
  {
   "cell_type": "code",
   "execution_count": 73,
   "id": "5001caef",
   "metadata": {},
   "outputs": [
    {
     "data": {
      "text/plain": [
       "2"
      ]
     },
     "execution_count": 73,
     "metadata": {},
     "output_type": "execute_result"
    }
   ],
   "source": [
    "next(natural_number)"
   ]
  },
  {
   "cell_type": "code",
   "execution_count": 74,
   "id": "7e7eeda6",
   "metadata": {},
   "outputs": [
    {
     "name": "stdout",
     "output_type": "stream",
     "text": [
      "3\n",
      "4\n",
      "5\n",
      "6\n",
      "7\n",
      "8\n",
      "9\n",
      "10\n",
      "11\n",
      "12\n"
     ]
    }
   ],
   "source": [
    "for i in range(10):\n",
    "    print(next(natural_number))"
   ]
  },
  {
   "cell_type": "code",
   "execution_count": 76,
   "id": "a39df9b9",
   "metadata": {},
   "outputs": [
    {
     "data": {
      "text/plain": [
       "10"
      ]
     },
     "execution_count": 76,
     "metadata": {},
     "output_type": "execute_result"
    }
   ],
   "source": [
    "#시작~(end - 1)까지의 자연수가 순서대로 나오는 생성기\n",
    "def my_range(s=0, e=100, step=1):\n",
    "    n = s\n",
    "    while n < e:\n",
    "        yield n\n",
    "        n += step\n",
    "\n",
    "d = my_range(10, 13)\n",
    "next(d)"
   ]
  },
  {
   "cell_type": "markdown",
   "id": "b99cb7e5",
   "metadata": {},
   "source": [
    "### Generator expression\n",
    "#### (연산 for 변수 in 컬렉션)\n",
    "- iterable 자료를 생성하는 식"
   ]
  },
  {
   "cell_type": "markdown",
   "id": "94e2fd45",
   "metadata": {},
   "source": [
    "### 리스트와 iterable 객체의 차이점"
   ]
  },
  {
   "cell_type": "code",
   "execution_count": 78,
   "id": "0c65a343",
   "metadata": {},
   "outputs": [
    {
     "name": "stdout",
     "output_type": "stream",
     "text": [
      "메뉴 : ㅁ\n",
      "메뉴 : ㄴㅇ\n",
      "메뉴 : ㅇㄹ\n",
      "ㅁ 만들어주세요..\n",
      "ㄴㅇ 만들어주세요..\n",
      "ㅇㄹ 만들어주세요..\n"
     ]
    }
   ],
   "source": [
    "def input_order(n):\n",
    "    return [ input('메뉴 : ') for x in range(n)]  # 리스트를 만들어 반환\n",
    "\n",
    "# 음료 3개 입력받아 각 음료 제조를 요청\n",
    "for drink in input_order(3):\n",
    "    print(drink, '만들어주세요..')"
   ]
  },
  {
   "cell_type": "code",
   "execution_count": 80,
   "id": "57148dc5",
   "metadata": {},
   "outputs": [
    {
     "name": "stdout",
     "output_type": "stream",
     "text": [
      "메뉴 : 1\n",
      "1 만들어주세요..\n",
      "메뉴 : 2\n",
      "2 만들어주세요..\n",
      "메뉴 : 3\n",
      "3 만들어주세요..\n"
     ]
    }
   ],
   "source": [
    "def input_order(n):\n",
    "    return ( input('메뉴 : ') for x in range(n))  # generator를 만들어 반환\n",
    "\n",
    "# 음료 3개를 한 개씩 입력받아 각 음료 제조를 요청\n",
    "for drink in input_order(3):\n",
    "    print(drink, '만들어주세요..')"
   ]
  },
  {
   "cell_type": "markdown",
   "id": "fc89bbd3",
   "metadata": {},
   "source": [
    "### 모듈과 패키지\n",
    "- 모듈 : 함수, 변수, 클래스를 담고있는 파일\n",
    "- 패키지 : 여러 모듈을 묶은 것\n",
    "- import 모듈1, 모듈2 : 콤마로 구분"
   ]
  },
  {
   "cell_type": "code",
   "execution_count": 82,
   "id": "0da66786",
   "metadata": {},
   "outputs": [
    {
     "data": {
      "text/plain": [
       "3.141592653589793"
      ]
     },
     "execution_count": 82,
     "metadata": {},
     "output_type": "execute_result"
    }
   ],
   "source": [
    "import math\n",
    "math.pi"
   ]
  },
  {
   "cell_type": "markdown",
   "id": "05ab8ac2",
   "metadata": {},
   "source": [
    "#### import as : 모듈 이름 지정하기\n",
    "- import 모듈 as 이름\n",
    "\n",
    "#### from import : 모듈 일부만 가져오기\n",
    "- from 모듈 import 변수"
   ]
  },
  {
   "cell_type": "code",
   "execution_count": 84,
   "id": "e0f5f9e4",
   "metadata": {},
   "outputs": [
    {
     "data": {
      "text/plain": [
       "(3.141592653589793, 2.0)"
      ]
     },
     "execution_count": 84,
     "metadata": {},
     "output_type": "execute_result"
    }
   ],
   "source": [
    "from math import pi, sqrt\n",
    "pi, sqrt(4)"
   ]
  }
 ],
 "metadata": {
  "kernelspec": {
   "display_name": "Python 3 (ipykernel)",
   "language": "python",
   "name": "python3"
  },
  "language_info": {
   "codemirror_mode": {
    "name": "ipython",
    "version": 3
   },
   "file_extension": ".py",
   "mimetype": "text/x-python",
   "name": "python",
   "nbconvert_exporter": "python",
   "pygments_lexer": "ipython3",
   "version": "3.9.12"
  }
 },
 "nbformat": 4,
 "nbformat_minor": 5
}
